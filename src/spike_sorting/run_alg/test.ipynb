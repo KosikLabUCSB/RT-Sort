{
 "cells": [
  {
   "cell_type": "code",
   "execution_count": 2,
   "metadata": {},
   "outputs": [],
   "source": [
    "import numpy as np"
   ]
  },
  {
   "cell_type": "code",
   "execution_count": 4,
   "metadata": {},
   "outputs": [
    {
     "data": {
      "text/plain": [
       "array([[  59., 1120.],\n",
       "       [  59., 1160.],\n",
       "       [  27., 1160.],\n",
       "       [  43., 1180.],\n",
       "       [  11., 1180.],\n",
       "       [  59., 1200.],\n",
       "       [  27., 1200.],\n",
       "       [  43., 1220.],\n",
       "       [  11., 1220.]])"
      ]
     },
     "execution_count": 4,
     "metadata": {},
     "output_type": "execute_result"
    }
   ],
   "source": [
    "elec_locs = np.load(\"/data/MEAprojects/dandi/000034/sub-mouse412804/elec_locs.npy\")\n",
    "sorter = np.load(\"/data/MEAprojects/dandi/000034/sub-mouse412804/rt_sort/240319/consistent_spikes/prop_delay_0.5ms/snr_preceeding_50ms/spykingcircus.npy\", allow_pickle=True)\n",
    "elec_locs[sorter[87]['loose_elecs']]"
   ]
  },
  {
   "cell_type": "code",
   "execution_count": 5,
   "metadata": {},
   "outputs": [],
   "source": [
    "unit = sorter[87]"
   ]
  },
  {
   "cell_type": "code",
   "execution_count": 9,
   "metadata": {},
   "outputs": [
    {
     "name": "stdout",
     "output_type": "stream",
     "text": [
      "[  59. 1120.]\n",
      "[  59. 1160.]\n",
      "[  27. 1160.]\n",
      "[  43. 1180.]\n",
      "[  11. 1180.]\n",
      "[  59. 1200.]\n",
      "[  27. 1200.]\n",
      "[  43. 1220.]\n",
      "[  11. 1220.]\n"
     ]
    }
   ],
   "source": [
    "for loc in elec_locs[unit[\"loose_elecs\"]]:\n",
    "    print(loc)"
   ]
  },
  {
   "cell_type": "code",
   "execution_count": 7,
   "metadata": {},
   "outputs": [
    {
     "data": {
      "text/plain": [
       "9"
      ]
     },
     "execution_count": 7,
     "metadata": {},
     "output_type": "execute_result"
    }
   ],
   "source": [
    "len(elec_locs[unit[\"loose_elecs\"]])"
   ]
  }
 ],
 "metadata": {
  "kernelspec": {
   "display_name": "si_dl_ss",
   "language": "python",
   "name": "python3"
  },
  "language_info": {
   "codemirror_mode": {
    "name": "ipython",
    "version": 3
   },
   "file_extension": ".py",
   "mimetype": "text/x-python",
   "name": "python",
   "nbconvert_exporter": "python",
   "pygments_lexer": "ipython3",
   "version": "3.7.16"
  }
 },
 "nbformat": 4,
 "nbformat_minor": 2
}
