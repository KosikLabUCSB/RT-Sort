{
 "cells": [
  {
   "cell_type": "markdown",
   "source": [
    "## Objective\n",
    "Get threshold crossings of recording based on RMS sliding window"
   ],
   "metadata": {
    "collapsed": false,
    "pycharm": {
     "name": "#%% md\n"
    }
   }
  },
  {
   "cell_type": "code",
   "execution_count": 1,
   "outputs": [],
   "source": [
    "# region Set up notebook imports\n",
    "%load_ext autoreload\n",
    "%autoreload\n",
    "# Allow for imports of other scripts\n",
    "import sys\n",
    "PATH = \"/data/MEAprojects/PropSignal\"\n",
    "if PATH not in sys.path:\n",
    "    sys.path.append(PATH)\n",
    "# Reload a module after changes have been made\n",
    "from importlib import reload\n",
    "# endregion\n",
    "\n",
    "from spikeinterface.extractors import NwbRecordingExtractor, MaxwellRecordingExtractor\n",
    "from spikeinterface.preprocessing import bandpass_filter, scale\n",
    "import numpy as np\n",
    "from scipy.signal import find_peaks\n",
    "from pathlib import Path\n",
    "from tqdm import tqdm\n",
    "from multiprocessing import Pool"
   ],
   "metadata": {
    "collapsed": false,
    "pycharm": {
     "name": "#%%\n"
    }
   }
  },
  {
   "cell_type": "code",
   "execution_count": 2,
   "outputs": [],
   "source": [
    "THRESH_CROSSINGS_PATH = \"/data/MEAprojects/dandi/000034/sub-mouse412804/prop_signal/thresh_5/crossings.npy\"\n",
    "SPIKE_AMP_THRESH = 5\n",
    "CHUNK_SIZE = 1000\n",
    "\n",
    "REC_PATH = \"/data/MEAprojects/dandi/000034/sub-mouse412804/sub-mouse412804_ecephys.nwb\"\n",
    "FREQ_MIN = 300\n",
    "FREQ_MAX = 3000"
   ],
   "metadata": {
    "collapsed": false,
    "pycharm": {
     "name": "#%%\n"
    }
   }
  },
  {
   "cell_type": "code",
   "execution_count": 3,
   "outputs": [],
   "source": [
    "if REC_PATH.endswith(\".h5\"):\n",
    "    rec = MaxwellRecordingExtractor(REC_PATH)\n",
    "    import os\n",
    "    os.environ['HDF5_PLUGIN_PATH'] = '/home/mea/SpikeSorting/spikeinterface'\n",
    "else:\n",
    "    rec = NwbRecordingExtractor(REC_PATH)\n",
    "rec = scale(rec, rec.get_channel_gains(), rec.get_channel_offsets(), dtype=\"float32\")\n",
    "rec = bandpass_filter(rec, freq_min=FREQ_MIN, freq_max=FREQ_MAX, dtype=\"float32\")\n",
    "\n",
    "fs = rec.get_sampling_frequency() / 1000"
   ],
   "metadata": {
    "collapsed": false,
    "pycharm": {
     "name": "#%%\n"
    }
   }
  },
  {
   "cell_type": "code",
   "execution_count": 4,
   "outputs": [],
   "source": [
    "def thresh_crossings_chunk(start_frame):\n",
    "    # Return thresh crossings in a chunk\n",
    "    traces_all = rec.get_traces(start_frame=start_frame, end_frame=start_frame + CHUNK_SIZE, return_scaled=False)\n",
    "\n",
    "    crossings = []\n",
    "    for trace in traces_all.T:\n",
    "        noise = np.sqrt(np.mean(np.square(trace)))\n",
    "        sts = find_peaks(-trace, height=SPIKE_AMP_THRESH * noise)[0]  # Only negative threshold crossings\n",
    "        sts = (sts + start_frame) / fs\n",
    "        crossings.append(sts)\n",
    "\n",
    "    # assert len(crossings) == len(rec.get_channel_locations())\n",
    "\n",
    "        # import matplotlib.pyplot as plt\n",
    "        #\n",
    "        # if st.size > 0:\n",
    "        #     plt.plot(trace)\n",
    "        #     plt.axhline(-self.thresh * noise)\n",
    "        #     plt.axhline(self.thresh * noise)\n",
    "        #     for x in find_peaks(np.abs(trace), height=self.thresh * noise)[0]:\n",
    "        #         plt.axvline(x, color=\"black\", linestyle=\"dashed\")\n",
    "        #     plt.show()\n",
    "\n",
    "    return crossings"
   ],
   "metadata": {
    "collapsed": false,
    "pycharm": {
     "name": "#%%\n"
    }
   }
  },
  {
   "cell_type": "code",
   "execution_count": 5,
   "outputs": [
    {
     "name": "stderr",
     "output_type": "stream",
     "text": [
      "100%|██████████| 12000/12000 [00:17<00:00, 678.32it/s]\n"
     ]
    }
   ],
   "source": [
    "spike_times = [[] for _ in range(rec.get_num_channels())]\n",
    "with Pool(processes=20) as pool:\n",
    "    tasks = range(0, rec.get_total_samples()-CHUNK_SIZE+1, CHUNK_SIZE-2)  # range(0, rec.get_total_samples()-CHUNK_SIZE, CHUNK_SIZE)  #\n",
    "    for crossings in tqdm(pool.imap(thresh_crossings_chunk, tasks, len(tasks) // 1000), total=len(tasks)):\n",
    "        for i in range(len(spike_times)):\n",
    "            spike_times[i].extend(crossings[i])\n",
    "spike_times = [np.unique(st) for st in spike_times]"
   ],
   "metadata": {
    "collapsed": false,
    "pycharm": {
     "name": "#%%\n"
    }
   }
  },
  {
   "cell_type": "code",
   "execution_count": 6,
   "outputs": [],
   "source": [
    "np.save(THRESH_CROSSINGS_PATH, spike_times)"
   ],
   "metadata": {
    "collapsed": false,
    "pycharm": {
     "name": "#%%\n"
    }
   }
  },
  {
   "cell_type": "code",
   "execution_count": null,
   "outputs": [],
   "source": [],
   "metadata": {
    "collapsed": false,
    "pycharm": {
     "name": "#%%\n"
    }
   }
  }
 ],
 "metadata": {
  "kernelspec": {
   "display_name": "Python 3",
   "language": "python",
   "name": "python3"
  },
  "language_info": {
   "codemirror_mode": {
    "name": "ipython",
    "version": 2
   },
   "file_extension": ".py",
   "mimetype": "text/x-python",
   "name": "python",
   "nbconvert_exporter": "python",
   "pygments_lexer": "ipython2",
   "version": "2.7.6"
  }
 },
 "nbformat": 4,
 "nbformat_minor": 0
}