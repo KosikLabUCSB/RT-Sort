{
 "cells": [
  {
   "cell_type": "markdown",
   "source": [
    "## Objective\n",
    "Check that downloaded recording from spikeinterface figure 1A is correct.\n",
    "Paper says that recording has 246 channels while downloaded has 248.\n",
    "Loading recording with spikeinterface raises warning"
   ],
   "metadata": {
    "collapsed": false,
    "pycharm": {
     "name": "#%% md\n"
    }
   }
  },
  {
   "cell_type": "code",
   "execution_count": 20,
   "outputs": [
    {
     "name": "stdout",
     "output_type": "stream",
     "text": [
      "The autoreload extension is already loaded. To reload it, use:\n",
      "  %reload_ext autoreload\n"
     ]
    }
   ],
   "source": [
    "# region Set up notebook imports\n",
    "%load_ext autoreload\n",
    "%autoreload\n",
    "# Allow for imports of other scripts\n",
    "import sys\n",
    "PATH = \"/data/MEAprojects/PropSignal\"\n",
    "if PATH not in sys.path:\n",
    "    sys.path.append(PATH)\n",
    "# Reload a module after changes have been made\n",
    "from importlib import reload\n",
    "# endregion\n",
    "\n",
    "from spikeinterface.extractors import NwbRecordingExtractor\n",
    "from src.utils import PATH_REC_SI\n",
    "import matplotlib.pyplot as plt\n",
    "import numpy as np"
   ],
   "metadata": {
    "collapsed": false,
    "pycharm": {
     "name": "#%%\n"
    }
   }
  },
  {
   "cell_type": "code",
   "execution_count": 3,
   "outputs": [
    {
     "name": "stderr",
     "output_type": "stream",
     "text": [
      "/home/mea/anaconda3/envs/allen_inst/lib/python3.7/site-packages/hdmf/spec/namespace.py:532: UserWarning: Ignoring cached namespace 'hdmf-common' version 1.1.3 because version 1.5.1 is already loaded.\n",
      "  % (ns['name'], ns['version'], self.__namespaces.get(ns['name'])['version']))\n",
      "/home/mea/anaconda3/envs/allen_inst/lib/python3.7/site-packages/hdmf/spec/namespace.py:532: UserWarning: Ignoring cached namespace 'core' version 2.2.5 because version 2.5.0 is already loaded.\n",
      "  % (ns['name'], ns['version'], self.__namespaces.get(ns['name'])['version']))\n",
      "/home/mea/anaconda3/envs/allen_inst/lib/python3.7/site-packages/pynwb/ecephys.py:93: UserWarning: ElectricalSeries 'ElectricalSeries': The second dimension of data does not match the length of electrodes. Your data may be transposed.\n",
      "  \"Your data may be transposed.\" % (self.__class__.__name__, kwargs[\"name\"]))\n"
     ]
    }
   ],
   "source": [
    "rec = NwbRecordingExtractor(PATH_REC_SI)"
   ],
   "metadata": {
    "collapsed": false,
    "pycharm": {
     "name": "#%%\n"
    }
   }
  },
  {
   "cell_type": "code",
   "execution_count": 29,
   "outputs": [
    {
     "data": {
      "text/plain": "pynwb.ecephys.ElectricalSeries"
     },
     "execution_count": 29,
     "metadata": {},
     "output_type": "execute_result"
    }
   ],
   "source": [
    "type(rec._es)"
   ],
   "metadata": {
    "collapsed": false,
    "pycharm": {
     "name": "#%%\n"
    }
   }
  },
  {
   "cell_type": "code",
   "execution_count": 32,
   "outputs": [],
   "source": [
    "from hdmf import utils"
   ],
   "metadata": {
    "collapsed": false,
    "pycharm": {
     "name": "#%%\n"
    }
   }
  },
  {
   "cell_type": "code",
   "execution_count": 35,
   "outputs": [
    {
     "data": {
      "text/plain": "(27000000, None)"
     },
     "execution_count": 35,
     "metadata": {},
     "output_type": "execute_result"
    }
   ],
   "source": [
    "utils.get_data_shape(rec._es.fields[\"data\"], True)"
   ],
   "metadata": {
    "collapsed": false,
    "pycharm": {
     "name": "#%%\n"
    }
   }
  },
  {
   "cell_type": "code",
   "execution_count": 42,
   "outputs": [],
   "source": [
    "data = rec._es.fields[\"data\"]"
   ],
   "metadata": {
    "collapsed": false,
    "pycharm": {
     "name": "#%%\n"
    }
   }
  },
  {
   "cell_type": "code",
   "execution_count": 44,
   "outputs": [
    {
     "data": {
      "text/plain": "True"
     },
     "execution_count": 44,
     "metadata": {},
     "output_type": "execute_result"
    }
   ],
   "source": [
    "hasattr(data, 'maxshape')"
   ],
   "metadata": {
    "collapsed": false,
    "pycharm": {
     "name": "#%%\n"
    }
   }
  },
  {
   "cell_type": "code",
   "execution_count": 51,
   "outputs": [
    {
     "data": {
      "text/plain": "{'starting_time': 0.0,\n 'rate': 30000.0,\n 'resolution': -1.0,\n 'comments': 'Generated from SpikeInterface::NwbRecordingExtractor',\n 'description': 'acquisition_description',\n 'conversion': 1e-06,\n 'offset': 0.0,\n 'unit': 'volts',\n 'data': <HDF5 dataset \"data\": shape (27000000, 248), type \"<i2\">,\n 'starting_time_unit': 'seconds',\n 'electrodes': electrodes hdmf.common.table.DynamicTableRegion at 0x140671026148816\n     Target table: electrodes hdmf.common.table.DynamicTable at 0x140671026149904}"
     },
     "execution_count": 51,
     "metadata": {},
     "output_type": "execute_result"
    }
   ],
   "source": [
    "rec._es.fields"
   ],
   "metadata": {
    "collapsed": false,
    "pycharm": {
     "name": "#%%\n"
    }
   }
  },
  {
   "cell_type": "code",
   "execution_count": 43,
   "outputs": [
    {
     "data": {
      "text/plain": "True"
     },
     "execution_count": 43,
     "metadata": {},
     "output_type": "execute_result"
    }
   ],
   "source": [
    "hasattr(data, '__len__') and not isinstance(data, (str, bytes))"
   ],
   "metadata": {
    "collapsed": false,
    "pycharm": {
     "name": "#%%\n"
    }
   }
  },
  {
   "cell_type": "markdown",
   "source": [
    "## Conclusion\n",
    "The warning about wrong shape is not an issue. (For some reason, getting the shape returns (27000000, None))"
   ],
   "metadata": {
    "collapsed": false,
    "pycharm": {
     "name": "#%% md\n"
    }
   }
  },
  {
   "cell_type": "code",
   "execution_count": 28,
   "outputs": [
    {
     "data": {
      "text/plain": "array([  45890, -346784,  102636, -187254,   93503,  -92363,   78696,\n        -63324,   45619, -137007,   -2007,  -45033,   32794, -104570,\n        156209, -123940,  329789,   95113,  100932,  -53139,   57952,\n        -82246,  180125, -210205,   44149,  -17466,     992,  -45215,\n        -44780,  -32662, -207013,   29766,    9412,  -49678,     234,\n         59840, -162818,   54580,  -88353, -123179, -121113, -149987,\n       -154518,  -71114,  144735,   35427, -115171,  -55707,   56456,\n          7933,  -36687,  -61586,   -5303, -237760,   40172,  -87860,\n        -77017, -163434, -244522,   23682,  123874,  -35488,  282175,\n       -128028, -130054,  119394, -236465,   58390,  -52136,  143859,\n         58884,   77005,  -87148,  -63418, -213381, -161003,  -56794,\n         36133,  -27622,   70841,    8743,   61143,  -97099,  -30236,\n         67151,  -90319,  139200,   -5187,  -46272,  -33821,  -45559,\n        -33655,     582,  -40015, -112958,   12472, -228510,  -31983,\n       -159748,   69179,  -39523,   -9450,   -3020,   23632, -162496,\n       -122347,   22426, -134699, -114656, -250701, -104429,  -55342,\n        -64782,  -81316,  114831,  -32664,  -32819,   31222, -178302,\n        -98010,  -39452,  -79847,   48380,    9881, -218103, -195969,\n        -91061,    9036, -152823, -174566,  -67006,  -81151,  -73451,\n        -43326,    5004, -131006,   32529,  -60441,  -58438,   34959,\n       -280488,  -21575,   -5888, -128393,   34308, -202741,   -8778,\n       -190402,   22182,  -79305,   45572,  -89838,   -3523, -165739,\n        -39143, -188262,  -56249,  143925, -172232,  -92922,  120085,\n         89285,   30543,   -7500,   -8464,  105998,   80741,   65406,\n         93027,   86633,  -77623,  -12278,   76075,   92289,  -80262,\n       -161927, -144101,   44698,    3426,   24627,   91362,   25866,\n          7466,  -92399,    1635,  -23321, -105759,  -69974,    7613,\n         68235, -131052,   60834,  119502,  -32353,  -21291,   54979,\n        -97010,   -4287,   19891,   94901, -120462, -119218,  -65692,\n       -129692, -104091,  113683,  -30603, -163273,  -83442, -190683,\n        254154,   46856,  -25421,  -59466,    5475,  111841,  -61225,\n       -179400, -106649,   14301,  -89797, -115867,  -83017,  -40598,\n         80777,   22298,   36835,   56808,   48571,   26630,    5029,\n         89028,    -296,  -83898,  -71370, -176403,  -14877,  133505,\n           243,  -52405, -104765,  163296,  -70320,  178748, -210549,\n         37428,    6707,   47126])"
     },
     "execution_count": 28,
     "metadata": {},
     "output_type": "execute_result"
    }
   ],
   "source": [
    "np.sum(rec._es.data[70000: 80000, :], axis=0)"
   ],
   "metadata": {
    "collapsed": false,
    "pycharm": {
     "name": "#%%\n"
    }
   }
  },
  {
   "cell_type": "code",
   "execution_count": null,
   "outputs": [],
   "source": [],
   "metadata": {
    "collapsed": false,
    "pycharm": {
     "name": "#%%\n"
    }
   }
  },
  {
   "cell_type": "code",
   "execution_count": null,
   "outputs": [],
   "source": [
    "from pynwb import ecephys"
   ],
   "metadata": {
    "collapsed": false,
    "pycharm": {
     "name": "#%%\n"
    }
   }
  },
  {
   "cell_type": "code",
   "execution_count": 4,
   "outputs": [
    {
     "data": {
      "text/plain": "(248, 2)"
     },
     "execution_count": 4,
     "metadata": {},
     "output_type": "execute_result"
    }
   ],
   "source": [
    "rec.get_channel_locations().shape"
   ],
   "metadata": {
    "collapsed": false,
    "pycharm": {
     "name": "#%%\n"
    }
   }
  },
  {
   "cell_type": "code",
   "execution_count": null,
   "outputs": [],
   "source": [
    "# Plot channels to see if there are 248-246=2 channels with just 0s\n",
    "START_FRAME = 10000\n",
    "END_FRAME = 11000\n",
    "STEP = 1\n",
    "##\n",
    "traces = rec.get_traces(start_frame=START_FRAME, end_frame=END_FRAME)\n",
    "\n",
    "for c in range(0, traces.shape[1], STEP):\n",
    "    plt.plot(traces[:, c:c+STEP])\n",
    "    plt.show()"
   ],
   "metadata": {
    "collapsed": false,
    "pycharm": {
     "name": "#%%\n",
     "is_executing": true
    }
   }
  },
  {
   "cell_type": "code",
   "execution_count": 22,
   "outputs": [
    {
     "data": {
      "text/plain": "array([-11076,   7676, -12755, -11913, -14450,   8888, -13073, -13136,\n       -11375, -11099, -19863, -16860,  -9107,  -9125,  -6739,  -4672,\n        17383, -23349,  -6976,  -1965, -14371,  -6476, -20888, -22515,\n        -9761,   -782,   2656,   8157, -10179,   2797, -11837,   1367,\n        -1858,  -7770,  11542,  -2862,   4799,  -1488,   1463, -14007,\n        -9623, -15246,  -7321,  -2291,  -1545,   4461, -24213, -12267,\n         2071,   3067,  -3119,   5245,  -6540, -13806,   4894,   6111,\n        -4683, -11768, -16241,  11807,  -8742, -11055, -34861, -50530,\n       -46051, -22901, -58565, -27559, -36698, -23505, -40766,    690,\n       -50408, -31604, -47975, -26618, -25222,  -4525,  -9052,   5014,\n       -10859,   2076,  -4017,  -4413,   1834,  -6492,   5068,   4787,\n        -5864, -20899, -13656,  -2984, -10088, -13405, -24815, -15486,\n       -40264, -27350, -44158, -38712, -50669, -38437, -62747, -57938,\n       -64259, -59580, -43453, -46780, -40986, -21562, -23943, -21221,\n       -15895, -13698,  -5019,   1304,   1231,  -8229,  -9502, -10872,\n         6200, -10778,  -2320,  -4728, -33336, -22406, -11391, -17964,\n       -11712,  -7630, -20041,  -8502, -20326, -33808, -16729, -19496,\n        -8597, -20826, -16199, -10180, -30158, -16804, -16322, -14241,\n        -5218, -20988,  -9240,  -3691,   -929,  -2475,   1276, -12082,\n       -12390, -19110,  -2354, -21398, -20702,   1173, -15438,   1635,\n        -5394,    860,  -4284,  -7115, -12617, -13263,  -5472,  -1514,\n        12988,   8855, -29299,  -1061,  -9461,   1952, -20744,  -8629,\n        -9927,  -2577,  14560,  -2790,   1119,  -7640,  -7445,  -4970,\n         2367,  -8255,   7162,  -3068,   6218,   5973,   -480,  -2304,\n        10048,   -317,  -2606,  13010,  -2839,   6074,   2848,   8916,\n       -12232,  -8558,   7317, -11872,   1921,   4502,   6405, -10262,\n         2045, -10819, -42076,   4476,  -7967,   1057,   2475,  13685,\n        -6939, -10104,  -7854,    162,  -3113, -12949, -17139,  -2194,\n        16245,  -1915,   1052,   8859,   9509,  -3303,   5841,   8707,\n        -2896,  -1065,  -9587,  -6125,  18500,  17371,   5201,   5833,\n        -4581,  -3274,    174,  19741,   4892,   2520,   4992,   7933])"
     },
     "execution_count": 22,
     "metadata": {},
     "output_type": "execute_result"
    }
   ],
   "source": [
    "np.sum(traces, axis=0)"
   ],
   "metadata": {
    "collapsed": false,
    "pycharm": {
     "name": "#%%\n"
    }
   }
  },
  {
   "cell_type": "markdown",
   "source": [
    "## Conclusion\n",
    "There seems to be no channels with full zeroes"
   ],
   "metadata": {
    "collapsed": false,
    "pycharm": {
     "name": "#%% md\n"
    }
   }
  },
  {
   "cell_type": "code",
   "execution_count": null,
   "outputs": [],
   "source": [],
   "metadata": {
    "collapsed": false,
    "pycharm": {
     "name": "#%%\n"
    }
   }
  }
 ],
 "metadata": {
  "kernelspec": {
   "display_name": "Python 3",
   "language": "python",
   "name": "python3"
  },
  "language_info": {
   "codemirror_mode": {
    "name": "ipython",
    "version": 2
   },
   "file_extension": ".py",
   "mimetype": "text/x-python",
   "name": "python",
   "nbconvert_exporter": "python",
   "pygments_lexer": "ipython2",
   "version": "2.7.6"
  }
 },
 "nbformat": 4,
 "nbformat_minor": 0
}