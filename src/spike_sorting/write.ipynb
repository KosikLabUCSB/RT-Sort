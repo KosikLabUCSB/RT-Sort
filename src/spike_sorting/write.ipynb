{
 "cells": [
  {
   "cell_type": "markdown",
   "metadata": {},
   "source": [
    "## Objective\n",
    "Write spikeinterface recording to .npy traces"
   ]
  },
  {
   "cell_type": "markdown",
   "metadata": {},
   "source": [
    "## Set RECORDING"
   ]
  },
  {
   "cell_type": "code",
   "execution_count": 3,
   "metadata": {},
   "outputs": [
    {
     "name": "stderr",
     "output_type": "stream",
     "text": [
      "/home/mea/anaconda3/envs/prop/lib/python3.7/site-packages/hdmf/spec/namespace.py:456: UserWarning: ignoring namespace 'hdmf-common' because it already exists\n",
      "  warn(\"ignoring namespace '%s' because it already exists\" % ns['name'])\n",
      "/home/mea/anaconda3/envs/prop/lib/python3.7/site-packages/hdmf/spec/namespace.py:456: UserWarning: ignoring namespace 'core' because it already exists\n",
      "  warn(\"ignoring namespace '%s' because it already exists\" % ns['name'])\n"
     ]
    }
   ],
   "source": [
    "from spikeinterface.extractors import NwbRecordingExtractor\n",
    "from spikeinterface.toolkit.preprocessing import scale, bandpass_filter\n",
    "\n",
    "RECORDING = NwbRecordingExtractor(\"/data/MEAprojects/dandi/000034/sub-mouse412804/sub-mouse412804_ecephys.nwb\")\n",
    "RECORDING = scale(RECORDING, gain=0.195, offset=0.0, dtype=\"float32\")\n",
    "RECORDING = bandpass_filter(RECORDING, freq_min=300, freq_max=3000)"
   ]
  },
  {
   "cell_type": "code",
   "execution_count": 2,
   "metadata": {},
   "outputs": [],
   "source": [
    "RECORDING.get_channel_gains()"
   ]
  },
  {
   "cell_type": "markdown",
   "metadata": {},
   "source": [
    "## Write recording"
   ]
  },
  {
   "cell_type": "code",
   "execution_count": 4,
   "metadata": {},
   "outputs": [],
   "source": [
    "from tqdm import tqdm"
   ]
  },
  {
   "cell_type": "code",
   "execution_count": 5,
   "metadata": {},
   "outputs": [
    {
     "name": "stderr",
     "output_type": "stream",
     "text": [
      "  0%|          | 0/248 [00:00<?, ?it/s]"
     ]
    },
    {
     "name": "stderr",
     "output_type": "stream",
     "text": [
      "100%|██████████| 248/248 [03:15<00:00,  1.27it/s]\n"
     ]
    }
   ],
   "source": [
    "traces = []\n",
    "for chan_id in tqdm(RECORDING.get_channel_ids()):\n",
    "    traces.append(RECORDING.get_traces(channel_ids=[chan_id], return_scaled=False))"
   ]
  },
  {
   "cell_type": "markdown",
   "metadata": {},
   "source": [
    "## Save recording"
   ]
  },
  {
   "cell_type": "code",
   "execution_count": 9,
   "metadata": {},
   "outputs": [],
   "source": [
    "import numpy as np"
   ]
  },
  {
   "cell_type": "code",
   "execution_count": 10,
   "metadata": {},
   "outputs": [],
   "source": [
    "traces = np.hstack(traces)"
   ]
  },
  {
   "cell_type": "code",
   "execution_count": 12,
   "metadata": {},
   "outputs": [],
   "source": [
    "traces = traces.T"
   ]
  },
  {
   "cell_type": "code",
   "execution_count": null,
   "metadata": {},
   "outputs": [],
   "source": [
    "np.save(\"/data/MEAprojects/dandi/000034/sub-mouse412804/traces_filt.npy\", traces)"
   ]
  }
 ],
 "metadata": {
  "kernelspec": {
   "display_name": "Python 3 (ipykernel)",
   "language": "python",
   "name": "python3"
  }
 },
 "nbformat": 4,
 "nbformat_minor": 2
}
