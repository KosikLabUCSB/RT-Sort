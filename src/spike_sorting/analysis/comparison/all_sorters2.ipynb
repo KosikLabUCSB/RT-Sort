{
 "cells": [
  {
   "cell_type": "markdown",
   "metadata": {},
   "source": [
    "## Objective\n",
    "Compare RT-Sort to all other sorters \n",
    "all_sorters.ipynb-->all_sorters2.ipynb: Improved functionality by customizing for RT-Sort "
   ]
  },
  {
   "cell_type": "markdown",
   "metadata": {},
   "source": [
    "## Load sorters"
   ]
  },
  {
   "cell_type": "code",
   "execution_count": 1,
   "metadata": {},
   "outputs": [],
   "source": [
    "%load_ext autoreload"
   ]
  },
  {
   "cell_type": "code",
   "execution_count": 2,
   "metadata": {},
   "outputs": [],
   "source": [
    "from pathlib import Path\n",
    "import pickle\n",
    "from multiprocessing import Pool\n",
    "\n",
    "import numpy as np\n",
    "import matplotlib.pyplot as plt\n",
    "from pandas import DataFrame\n",
    "\n",
    "from tqdm import tqdm\n",
    "from spikeinterface import NpzSortingExtractor\n",
    "\n",
    "%autoreload 2\n",
    "from src.sorters.base import Unit, SpikeSorter\n",
    "from src import utils\n",
    "from src.comparison import Comparison, DummySorter"
   ]
  },
  {
   "cell_type": "code",
   "execution_count": 3,
   "metadata": {},
   "outputs": [
    {
     "name": "stderr",
     "output_type": "stream",
     "text": [
      "/home/mea/anaconda3/envs/si_dl_ss/lib/python3.7/site-packages/hdmf/spec/namespace.py:532: UserWarning: Ignoring cached namespace 'hdmf-common' version 1.1.3 because version 1.6.0 is already loaded.\n",
      "  % (ns['name'], ns['version'], self.__namespaces.get(ns['name'])['version']))\n",
      "/home/mea/anaconda3/envs/si_dl_ss/lib/python3.7/site-packages/hdmf/spec/namespace.py:532: UserWarning: Ignoring cached namespace 'core' version 2.2.5 because version 2.5.0 is already loaded.\n",
      "  % (ns['name'], ns['version'], self.__namespaces.get(ns['name'])['version']))\n",
      "/home/mea/anaconda3/envs/si_dl_ss/lib/python3.7/site-packages/pynwb/ecephys.py:93: UserWarning: ElectricalSeries 'ElectricalSeries': The second dimension of data does not match the length of electrodes. Your data may be transposed.\n",
      "  \"Your data may be transposed.\" % (self.__class__.__name__, kwargs[\"name\"]))\n"
     ]
    },
    {
     "name": "stdout",
     "output_type": "stream",
     "text": [
      "Recording does not have scaled traces. Setting gain to 0.195\n"
     ]
    },
    {
     "data": {
      "text/plain": [
       "'\\ntime_frame:\\n    If not None, only use coocurrences between time_frame[0]ms to time_frame[1]ms (inclusive, inclusive)\\n    If None, use all cooccurrences\\n'"
      ]
     },
     "execution_count": 3,
     "metadata": {},
     "output_type": "execute_result"
    }
   ],
   "source": [
    "TRACES_FILT_PATH = \"/data/MEAprojects/dandi/000034/sub-mouse412804/rt_sort/filt_traces.npy\"  # Spikeinterface.get_traces after bandpass filter\n",
    "chan_locs = utils.rec_si().get_channel_locations()\n",
    "SAMP_FREQ = 30  # kHz\n",
    "SORTERS_ROOT = Path(\"/data/MEAprojects/spikeinterface/spiketrains/mouse412804_probeC\")\n",
    "\n",
    "MATCH_SCORE = 0.5  # Minimum score needed for a match\n",
    "TIME_FRAME = (5*60*1000, 10*60*1000)\n",
    "\"\"\"\n",
    "time_frame:\n",
    "    If not None, only use coocurrences between time_frame[0]ms to time_frame[1]ms (inclusive, inclusive)\n",
    "    If None, use all cooccurrences\n",
    "\"\"\""
   ]
  },
  {
   "cell_type": "code",
   "execution_count": 4,
   "metadata": {},
   "outputs": [],
   "source": [
    "class Sorter:\n",
    "    # Wrapper of NpzSortingExtractor for Comparison\n",
    "    def __init__(self, full_name, name):\n",
    "        self.npz = NpzSortingExtractor(SORTERS_ROOT / full_name / \"sorting_cached.npz\")\n",
    "        self.name = name\n",
    "        \n",
    "    def __len__(self):\n",
    "        return len(self.get_spike_times()) \n",
    "    \n",
    "    def get_spike_times(self):\n",
    "        start_ms, end_ms = TIME_FRAME\n",
    "        \n",
    "        spike_times = []\n",
    "        for uid in self.npz.get_unit_ids():\n",
    "            times = self.npz.get_unit_spike_train(uid) / SAMP_FREQ\n",
    "            times_ind = start_ms <= times\n",
    "            times_ind *= times <= end_ms\n",
    "            if sum(times_ind) > 0:\n",
    "                spike_times.append(times[times_ind])\n",
    "        return spike_times"
   ]
  },
  {
   "cell_type": "code",
   "execution_count": 5,
   "metadata": {},
   "outputs": [],
   "source": [
    "with open(\"/data/MEAprojects/dandi/000034/sub-mouse412804/rt_sort/240203/prop_signal.pickle\", \"rb\") as f:\n",
    "    RT_SORT = pickle.load(f)"
   ]
  },
  {
   "cell_type": "code",
   "execution_count": 6,
   "metadata": {},
   "outputs": [
    {
     "name": "stdout",
     "output_type": "stream",
     "text": [
      "RT-Sort: 226 units\n",
      "HS: 209 units\n",
      "KS: 448 units\n",
      "IC: 221 units\n",
      "TDC: 187 units\n",
      "SC: 616 units\n",
      "HDS: 313 units\n"
     ]
    }
   ],
   "source": [
    "HS = Sorter(\"herdingspikes\", \"HS\")\n",
    "KS = Sorter(\"kilosort2\", \"KS\")\n",
    "IC = Sorter(\"ironclust\", \"IC\")\n",
    "TDC = Sorter(\"tridesclous\", \"TDC\")\n",
    "SC = Sorter(\"spykingcircus\", \"SC\")\n",
    "HDS = Sorter(\"hdsort\", \"HDS\")\n",
    "\n",
    "SORTERS = [RT_SORT, HS, KS, IC, TDC, SC, HDS]\n",
    "COMP_SORTERS = SORTERS[1:]\n",
    "for sorter in SORTERS:\n",
    "    print(f\"{sorter.name}: {len(sorter)} units\")"
   ]
  },
  {
   "cell_type": "code",
   "execution_count": 12,
   "metadata": {},
   "outputs": [
    {
     "data": {
      "text/plain": [
       "139"
      ]
     },
     "execution_count": 12,
     "metadata": {},
     "output_type": "execute_result"
    }
   ],
   "source": [
    "# Only include RT-Sort units fully above 5RMS\n",
    "CHANS_RMS = utils.chans_rms_si()\n",
    "\n",
    "above_units = []\n",
    "for unit in RT_SORT:\n",
    "    chans_above = unit.mean_amps >= 5 # CHANS_RMS * 5\n",
    "    if np.sum(chans_above) > 0:\n",
    "        above_units.append(unit)\n",
    "RT_SORT.units = above_units\n",
    "RT_SORT.spike_times = [unit.spike_train for unit in RT_SORT.units]\n",
    "len(above_units)"
   ]
  },
  {
   "cell_type": "code",
   "execution_count": null,
   "metadata": {},
   "outputs": [],
   "source": [
    "df = DataFrame(data=[len(sorter) for sorter in SORTERS], index=[sorter.name for sorter in SORTERS])\n",
    "df.plot.bar(rot=0, legend=False)\n",
    "\n",
    "plt.ylabel(\"Units detected\")\n",
    "plt.show()"
   ]
  },
  {
   "cell_type": "code",
   "execution_count": 7,
   "metadata": {},
   "outputs": [
    {
     "name": "stderr",
     "output_type": "stream",
     "text": [
      "  0%|          | 0/6 [00:00<?, ?it/s]"
     ]
    },
    {
     "name": "stderr",
     "output_type": "stream",
     "text": [
      "100%|██████████| 6/6 [00:22<00:00,  3.76s/it]\n"
     ]
    }
   ],
   "source": [
    "# Set unit.chan for units in each comp sorter\n",
    "tasks = []  # (sorter_idx, spike_train)\n",
    "for idx, sorter in enumerate(tqdm(COMP_SORTERS)):\n",
    "    for spike_train in sorter.get_spike_times():\n",
    "        tasks.append((idx, spike_train))\n",
    "    sorter.units = []"
   ]
  },
  {
   "cell_type": "code",
   "execution_count": 8,
   "metadata": {},
   "outputs": [
    {
     "name": "stderr",
     "output_type": "stream",
     "text": [
      "100%|██████████| 1994/1994 [00:24<00:00, 79.80it/s]\n"
     ]
    }
   ],
   "source": [
    "# (continued) Set unit.chan for units in each comp sorter\n",
    "def job(task, num_wfs=300, ms_before=1, ms_after=1):\n",
    "    sorter_idx, entire_spike_train = task\n",
    "    \n",
    "    # Load outputs\n",
    "    outputs = np.load(TRACES_FILT_PATH, mmap_mode=\"r\")  # Load each time to allow for multiprocessing\n",
    "    num_chans, total_num_frames = outputs.shape\n",
    "    \n",
    "    # Load spike train\n",
    "    if num_wfs is not None and len(entire_spike_train) > num_wfs:\n",
    "        np.random.seed(231)\n",
    "        spike_train = np.random.choice(entire_spike_train, size=num_wfs, replace=False)\n",
    "    else:\n",
    "        spike_train = entire_spike_train\n",
    "\n",
    "    # Extract waveforms\n",
    "    n_before = round(ms_before * SAMP_FREQ)\n",
    "    n_after = round(ms_after * SAMP_FREQ)\n",
    "    templates = np.zeros((num_chans, n_before+n_after+1), dtype=\"float32\")  # (n_chans, n_samples)\n",
    "    for i, time_ms in enumerate(spike_train):\n",
    "        time_frame = round(time_ms * SAMP_FREQ)\n",
    "        if time_frame-n_before < 0 or time_frame+n_after+1 > total_num_frames :  # Easier and faster to ignore edge cases than to handle them\n",
    "            continue\n",
    "        \n",
    "        window = outputs[:, time_frame-n_before:time_frame+n_after+1]\n",
    "        templates += window\n",
    "    templates = templates / len(spike_train)\n",
    "    \n",
    "    # Get channel and create Unit\n",
    "    chan = np.argmin(np.min(templates, axis=1))\n",
    "    unit = Unit(-1, entire_spike_train, chan, None)\n",
    "    \n",
    "    return sorter_idx, unit\n",
    "\n",
    "\n",
    "with Pool(processes=16) as pool:\n",
    "    for sorter_idx, unit in tqdm(pool.imap_unordered(job, tasks), total=len(tasks)):\n",
    "        COMP_SORTERS[sorter_idx].units.append(unit)"
   ]
  },
  {
   "cell_type": "markdown",
   "metadata": {},
   "source": [
    "## Compare RT-Sort to sorters\n",
    "Ignore RT-Sort spikes missed by comp sorter"
   ]
  },
  {
   "cell_type": "code",
   "execution_count": 14,
   "metadata": {},
   "outputs": [
    {
     "name": "stderr",
     "output_type": "stream",
     "text": [
      "  0%|          | 0/6 [00:00<?, ?it/s]"
     ]
    },
    {
     "name": "stderr",
     "output_type": "stream",
     "text": [
      "100%|██████████| 6/6 [00:15<00:00,  2.51s/it]\n"
     ]
    }
   ],
   "source": [
    "# Find which RT-Sort spikes are detected by comp sorter\n",
    "def get_within_outside_spikes(sorter, comp_sorter,\n",
    "                              max_ms_dist=0.4, max_micron_dist=200):\n",
    "    \"\"\"\n",
    "    For spikes in sorter, exclude spikes that occur when no spikes from kilosort are detected\n",
    "    within max_ms_dist and max_micron_dist\n",
    "    \n",
    "    NOTE:  prop=sorter and ks=comp_sorter\n",
    "    \"\"\"\n",
    "    \n",
    "    # Get sorted spike times and corresponding xy-positions    \n",
    "    all_ks_spike_times, all_ks_spike_locs = [], []\n",
    "    for unit in comp_sorter:\n",
    "        all_ks_spike_times.extend(unit.spike_train)\n",
    "        all_ks_spike_locs += [chan_locs[unit.chan]] * len(unit.spike_train)\n",
    "    order = np.argsort(all_ks_spike_times)\n",
    "    all_ks_spike_times, all_ks_spike_locs = np.array(all_ks_spike_times)[order], np.array(all_ks_spike_locs)[order]\n",
    "    \n",
    "    # Start loop\n",
    "    # all_within_spikes = []\n",
    "    # all_outside_spikes = []\n",
    "    within_prop_units = []\n",
    "    outside_prop_units = []\n",
    "    for unit in sorter:\n",
    "        loc = chan_locs[unit.chan]\n",
    "        within_spikes = []\n",
    "        outside_spikes = []\n",
    "        for spike in unit.spike_train:\n",
    "            idx = np.searchsorted(all_ks_spike_times, spike-max_ms_dist, side=\"left\")  # Find nearest spike in all_ks_spike_times\n",
    "            while idx < len(all_ks_spike_times) and np.abs(all_ks_spike_times[idx] - spike) <= max_ms_dist:\n",
    "                if utils.calc_dist(*all_ks_spike_locs[idx], *loc) <= max_micron_dist:\n",
    "                    within_spikes.append(spike)\n",
    "                    break\n",
    "                idx += 1\n",
    "            else:\n",
    "                outside_spikes.append(spike)\n",
    "\n",
    "        within_prop_units.append(Unit(unit.idx, np.array(within_spikes), unit.chan, None))\n",
    "        # outside_prop_units.append(Unit(unit.idx, np.array(outside_spikes), unit.chan, unit.recording))\n",
    "        # all_within_spikes.append(within_spikes)\n",
    "        # all_outside_spikes.append(outside_spikes)\n",
    "  \n",
    "    return within_prop_units # , outside_prop_units\n",
    "    # return all_within_spikes, all_outside_spikes\n",
    "\n",
    "for sorter in tqdm(COMP_SORTERS):\n",
    "    sorter.within_units = get_within_outside_spikes(RT_SORT, sorter.units)"
   ]
  },
  {
   "cell_type": "code",
   "execution_count": 15,
   "metadata": {},
   "outputs": [
    {
     "name": "stderr",
     "output_type": "stream",
     "text": [
      "  0%|          | 0/6 [00:00<?, ?it/s]"
     ]
    },
    {
     "name": "stderr",
     "output_type": "stream",
     "text": [
      "100%|██████████| 6/6 [00:53<00:00,  8.91s/it]\n"
     ]
    },
    {
     "data": {
      "image/png": "[encoded data removed]",
      "text/plain": [
       "<Figure size 640x480 with 1 Axes>"
      ]
     },
     "metadata": {},
     "output_type": "display_data"
    },
    {
     "name": "stderr",
     "output_type": "stream",
     "text": [
      "100%|██████████| 6/6 [00:53<00:00,  8.97s/it]\n"
     ]
    },
    {
     "data": {
      "image/png": "[encoded data removed]",
      "text/plain": [
       "<Figure size 640x480 with 1 Axes>"
      ]
     },
     "metadata": {},
     "output_type": "display_data"
    },
    {
     "name": "stderr",
     "output_type": "stream",
     "text": [
      "100%|██████████| 6/6 [00:53<00:00,  8.89s/it]\n"
     ]
    },
    {
     "data": {
      "image/png": "[encoded data removed]",
      "text/plain": [
       "<Figure size 640x480 with 1 Axes>"
      ]
     },
     "metadata": {},
     "output_type": "display_data"
    }
   ],
   "source": [
    "# Create pie charts\n",
    "def plot_pie(sizes, labels):\n",
    "    # Generate a list of colors for each section using 'YlOrRd' colormap\n",
    "    # colors = ['#FFFFCC', '#FFEDA0', '#FED976', '#FEB24C', '#FD8D3C', '#FC4E2A']\n",
    "    # colors = ['#fef2aa', '#fbdc79', '#fbb24a', \"#ff8035\", \"#fa3e22\", \"#d50e24\"]\n",
    "    colors= ['#FFFFCC', '#FFEDA0', '#FED976', '#FEB24C', '#FD8D3C', '#FC4E2A', '#E31A1C']\n",
    "\n",
    "    # Create the pie chart with white lines separating sections\n",
    "    wedges, _ = plt.pie(sizes, colors=colors, startangle=90, wedgeprops={'linewidth': 1, 'edgecolor': 'white'})\n",
    "\n",
    "    # Set the title\n",
    "    plt.title(\"Units detected by k sorters\")\n",
    "\n",
    "    # Add labels with the numbers from 'sizes' on the edges of each wedge\n",
    "    for i, wedge in enumerate(wedges):\n",
    "        angle = (wedge.theta2 - wedge.theta1) / 2 + wedge.theta1\n",
    "        \n",
    "        # Numbers outside of wedge\n",
    "        # x = wedge.r * 1.1 * np.cos(angle * (3.14159 / 180))\n",
    "        # y = wedge.r * 1.1 * np.sin(angle * (3.14159 / 180))\n",
    "        # plt.text(x, y, str(sizes[i]), va='center', ha='center')\n",
    "        \n",
    "        # Numbers inside of wedge\n",
    "        x = (wedge.r - 0.15) * np.cos(angle * (np.pi / 180))\n",
    "        y = (wedge.r - 0.15) * np.sin(angle * (np.pi / 180))\n",
    "        plt.text(x, y, str(sizes[i]), ha='center', va='center', color='black', fontweight='bold')\n",
    "\n",
    "    # Add legend\n",
    "    # plt.legend(wedges, labels, title=\"k=\", loc='best')\n",
    "\n",
    "    # Display the chart\n",
    "    # plt.show()\n",
    "\n",
    "for SAVE_NAME, score_formula in zip(\n",
    "    [\"spikeinterface_formula\", \"matches_divided_by_rt_sort\", \"matches_divided_by_other_sorter\"],\n",
    "    (1.5, 1, 2)):\n",
    "    # One pie chart for each score formula\n",
    "    all_matched_unit_ids = [unit.idx for unit in RT_SORT]  # RT-Sort detection counts a sorter detecting unit\n",
    "    for comp_sorter in tqdm(COMP_SORTERS):\n",
    "        \n",
    "        all_spike_trains = []\n",
    "        unit_ids = []\n",
    "        for unit in comp_sorter.within_units:\n",
    "            if len(unit.spike_train) > 0:\n",
    "                all_spike_trains.append(unit.spike_train)\n",
    "                unit_ids.append(unit.idx)\n",
    "        rt_sort_dummy = DummySorter(all_spike_trains, \"RT-Sort\")\n",
    "        \n",
    "        comp = Comparison(rt_sort_dummy, comp_sorter, score_formula=score_formula) \n",
    "        for idx in comp.match21:\n",
    "            if idx != -1:\n",
    "                all_matched_unit_ids.append(unit_ids[idx])  # Need to convert from index in match to unit id\n",
    "                \n",
    "    _, counts = np.unique(all_matched_unit_ids, return_counts=True)\n",
    "    num_sorters, counts = np.unique(counts, return_counts=True)\n",
    "    plot_pie(counts, num_sorters)\n",
    "    \n",
    "    # import pickle\n",
    "    # plt.savefig(f\"/data/MEAprojects/RT-Sort/figures/230119_presentation/rt_sort_comparison/above_5rms_sequences/{SAVE_NAME}.png\", format=\"png\")\n",
    "    # with open(f'/data/MEAprojects/RT-Sort/figures/230119_presentation/rt_sort_comparison/above_5rms_sequences/{SAVE_NAME}.pickle', \"wb\") as file:\n",
    "    #     pickle.dump(plt.gcf(), file)\n",
    "    plt.show()\n",
    "    plt.close()"
   ]
  },
  {
   "cell_type": "code",
   "execution_count": null,
   "metadata": {},
   "outputs": [],
   "source": []
  }
 ],
 "metadata": {
  "kernelspec": {
   "display_name": "Python 3 (ipykernel)",
   "language": "python",
   "name": "python3"
  },
  "language_info": {
   "codemirror_mode": {
    "name": "ipython",
    "version": 3
   },
   "file_extension": ".py",
   "mimetype": "text/x-python",
   "name": "python",
   "nbconvert_exporter": "python",
   "pygments_lexer": "ipython3",
   "version": "3.7.16"
  }
 },
 "nbformat": 4,
 "nbformat_minor": 2
}
