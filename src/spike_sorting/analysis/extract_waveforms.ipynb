{
 "cells": [
  {
   "cell_type": "markdown",
   "source": [
    "# Objective\n",
    "Extract waveforms and store as .npy based on spike times"
   ],
   "metadata": {
    "collapsed": false,
    "pycharm": {
     "name": "#%% md\n"
    }
   }
  },
  {
   "cell_type": "code",
   "execution_count": 1,
   "outputs": [],
   "source": [
    "# region Set up notebook imports\n",
    "%load_ext autoreload\n",
    "%autoreload\n",
    "# Allow for imports of other scripts\n",
    "import sys\n",
    "PATH = \"/data/MEAprojects/PropSignal\"\n",
    "if PATH not in sys.path:\n",
    "    sys.path.append(PATH)\n",
    "# Reload a module after changes have been made\n",
    "from importlib import reload\n",
    "# endregion\n",
    "\n",
    "import numpy as np\n",
    "from pathlib import Path\n",
    "import matplotlib.pyplot as plt\n",
    "from multiprocessing import Pool\n",
    "from tqdm import tqdm\n",
    "\n",
    "from src.recording import Recording\n",
    "from src.sorters.prop_signal import PropSignal\n",
    "from src import utils"
   ],
   "metadata": {
    "collapsed": false,
    "pycharm": {
     "name": "#%%\n"
    }
   }
  },
  {
   "cell_type": "markdown",
   "source": [
    "## Setup\n",
    "#### SPIKE_TIMES must be in ms\n",
    "\n",
    "Spike times need to be in format [[spike times for unit 1], [spike times for unit 2], ...]\n",
    "SAVE_PATH is folder where .npy files of waveforms will be saved"
   ],
   "metadata": {
    "collapsed": false,
    "pycharm": {
     "name": "#%% md\n"
    }
   }
  },
  {
   "cell_type": "code",
   "execution_count": 2,
   "outputs": [],
   "source": [
    "RECORDING = Recording(utils.PATH_REC_DL.format('2953'), freq_min=300, freq_max=6000)\n",
    "SPIKE_TIMES = np.load(\"/data/MEAprojects/DLSpikeSorter/models/v0_4_4/2953/230101_133514_582221/log/windows_200_120/prop_signal/propagating_times.npy\", allow_pickle=True)\n",
    "SAVE_PATH = Path(\"/data/MEAprojects/DLSpikeSorter/models/v0_4_4/2953/230101_133514_582221/log/windows_200_120/prop_signal/waveforms\")\n",
    "\n",
    "N_BEFORE = int(2 * RECORDING.get_sampling_frequency())\n",
    "N_AFTER = int(2 * RECORDING.get_sampling_frequency())"
   ],
   "metadata": {
    "collapsed": false,
    "pycharm": {
     "name": "#%%\n"
    }
   }
  },
  {
   "cell_type": "code",
   "execution_count": 3,
   "outputs": [],
   "source": [
    "SAVE_PATH.mkdir(parents=True, exist_ok=True)"
   ],
   "metadata": {
    "collapsed": false,
    "pycharm": {
     "name": "#%%\n"
    }
   }
  },
  {
   "cell_type": "markdown",
   "source": [
    "## Extract waveforms"
   ],
   "metadata": {
    "collapsed": false,
    "pycharm": {
     "name": "#%% md\n"
    }
   }
  },
  {
   "cell_type": "code",
   "execution_count": 4,
   "outputs": [],
   "source": [
    "def extract_waveforms(spike_train,\n",
    "                      recording, n_before, n_after,\n",
    "                      max_spikes=None):\n",
    "    if max_spikes is not None and len(spike_train) > max_spikes:\n",
    "        spike_train = np.array(spike_train)[np.random.choice(len(spike_train), size=max_spikes, replace=False)]\n",
    "\n",
    "    waveforms = np.zeros((len(spike_train), recording.get_num_channels(), n_before + 1 + n_after), dtype=\"float32\")\n",
    "\n",
    "    sf = recording.get_sampling_frequency()\n",
    "    for i, st in enumerate(spike_train):\n",
    "        st = int(st * sf)\n",
    "        traces = recording.get_traces_filt(st-n_before, st+n_after+1)\n",
    "        if traces.shape[1] == waveforms.shape[2]:\n",
    "            waveforms[i, :, :] = traces\n",
    "        else:\n",
    "            if st-N_BEFORE < 0:\n",
    "                waveforms[i, :, :traces.shape[1]] = traces\n",
    "            else:\n",
    "                waveforms[i, :, -traces.shape[1]:] = traces\n",
    "\n",
    "    return waveforms\n",
    "\n",
    "def extract_waveforms_job(unit_idx):\n",
    "    waveforms = extract_waveforms(SPIKE_TIMES[unit_idx], RECORDING,\n",
    "                                  N_BEFORE, N_AFTER)\n",
    "    np.save(SAVE_PATH / f\"{unit_idx}.npy\", waveforms)"
   ],
   "metadata": {
    "collapsed": false,
    "pycharm": {
     "name": "#%%\n"
    }
   }
  },
  {
   "cell_type": "code",
   "execution_count": 5,
   "outputs": [
    {
     "name": "stderr",
     "output_type": "stream",
     "text": [
      "100%|██████████| 90/90 [02:25<00:00,  1.61s/it]\n"
     ]
    }
   ],
   "source": [
    "with Pool(processes=12) as pool:\n",
    "    tasks = range(len(SPIKE_TIMES))\n",
    "    for _ in tqdm(pool.imap(extract_waveforms_job, tasks), total=len(tasks)):\n",
    "        pass"
   ],
   "metadata": {
    "collapsed": false,
    "pycharm": {
     "name": "#%%\n"
    }
   }
  },
  {
   "cell_type": "code",
   "execution_count": null,
   "outputs": [],
   "source": [],
   "metadata": {
    "collapsed": false,
    "pycharm": {
     "name": "#%%\n"
    }
   }
  }
 ],
 "metadata": {
  "kernelspec": {
   "display_name": "Python 3",
   "language": "python",
   "name": "python3"
  },
  "language_info": {
   "codemirror_mode": {
    "name": "ipython",
    "version": 2
   },
   "file_extension": ".py",
   "mimetype": "text/x-python",
   "name": "python",
   "nbconvert_exporter": "python",
   "pygments_lexer": "ipython2",
   "version": "2.7.6"
  }
 },
 "nbformat": 4,
 "nbformat_minor": 0
}