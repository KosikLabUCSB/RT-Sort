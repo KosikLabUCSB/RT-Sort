{
 "cells": [
  {
   "cell_type": "markdown",
   "metadata": {},
   "source": [
    "## Objective\n",
    "For each spike sorter, extract spike times and RMS of each spike \n",
    "\n",
    "Plan:\n",
    "For each sorter, do parallel processing to extract data for each unit"
   ]
  },
  {
   "cell_type": "code",
   "execution_count": 1,
   "metadata": {},
   "outputs": [],
   "source": [
    "%load_ext autoreload"
   ]
  },
  {
   "cell_type": "code",
   "execution_count": 2,
   "metadata": {},
   "outputs": [],
   "source": [
    "from multiprocessing import Pool\n",
    "from pathlib import Path\n",
    "\n",
    "import numpy as np\n",
    "\n",
    "from spikeinterface.extractors import NpzSortingExtractor\n",
    "from tqdm import tqdm\n",
    "\n",
    "%autoreload 2\n",
    "from src.sorters.base import Unit\n",
    "from src import utils"
   ]
  },
  {
   "cell_type": "code",
   "execution_count": 3,
   "metadata": {},
   "outputs": [
    {
     "name": "stderr",
     "output_type": "stream",
     "text": [
      "/home/mea/anaconda3/envs/si_dl_ss/lib/python3.7/site-packages/hdmf/spec/namespace.py:532: UserWarning: Ignoring cached namespace 'hdmf-common' version 1.1.3 because version 1.6.0 is already loaded.\n",
      "  % (ns['name'], ns['version'], self.__namespaces.get(ns['name'])['version']))\n",
      "/home/mea/anaconda3/envs/si_dl_ss/lib/python3.7/site-packages/hdmf/spec/namespace.py:532: UserWarning: Ignoring cached namespace 'core' version 2.2.5 because version 2.5.0 is already loaded.\n",
      "  % (ns['name'], ns['version'], self.__namespaces.get(ns['name'])['version']))\n",
      "/home/mea/anaconda3/envs/si_dl_ss/lib/python3.7/site-packages/pynwb/ecephys.py:93: UserWarning: ElectricalSeries 'ElectricalSeries': The second dimension of data does not match the length of electrodes. Your data may be transposed.\n",
      "  \"Your data may be transposed.\" % (self.__class__.__name__, kwargs[\"name\"]))\n"
     ]
    },
    {
     "name": "stdout",
     "output_type": "stream",
     "text": [
      "Recording does not have scaled traces. Setting gain to 0.195\n"
     ]
    }
   ],
   "source": [
    "SAVE_PATH = Path(\"/data/MEAprojects/dandi/000034/sub-mouse412804/rt_sort/240319/consensus_spikes_data/rms_preceding_50ms\")\n",
    "\n",
    "# TRACES_FILT_PATH = \"/data/MEAprojects/dandi/000034/sub-mouse412804/rt_sort/filt_traces.npy\"  # Spikeinterface.get_traces after bandpass filter\n",
    "TRACES_PATH = \"/data/MEAprojects/dandi/000034/sub-mouse412804/rt_sort/dl_model/240318/scaled_traces.npy\"\n",
    "RECORDING = utils.rec_si()\n",
    "SAMP_FREQ = 30  # kHz\n",
    "SORTERS_ROOT = Path(\"/data/MEAprojects/spikeinterface/spiketrains/mouse412804_probeC\")\n",
    "TIME_FRAME = (5*60*1000, 10*60*1000)\n",
    "\n",
    "##\n",
    "TRACES = np.load(TRACES_PATH, mmap_mode=\"r\")\n",
    "\n",
    "MAX_FR = np.diff(TIME_FRAME) # Remove units with firing rates greater than 1kHz"
   ]
  },
  {
   "cell_type": "code",
   "execution_count": 4,
   "metadata": {},
   "outputs": [],
   "source": [
    "class Sorter:\n",
    "    # Wrapper of NpzSortingExtractor for Comparison\n",
    "    def __init__(self, full_name, name):\n",
    "        self.npz = NpzSortingExtractor(SORTERS_ROOT / full_name / \"sorting_cached.npz\")\n",
    "        self.name = name\n",
    "        \n",
    "    def __len__(self):\n",
    "        return len(self.get_spike_times()) \n",
    "    \n",
    "    def get_spike_times(self):\n",
    "        if hasattr(self, \"spike_times\"):\n",
    "            return self.spike_times\n",
    "        \n",
    "        start_ms, end_ms = TIME_FRAME\n",
    "        \n",
    "        spike_times = []\n",
    "        for uid in self.npz.get_unit_ids():\n",
    "            times = self.npz.get_unit_spike_train(uid) / SAMP_FREQ\n",
    "            times_ind = start_ms <= times\n",
    "            times_ind *= times <= end_ms\n",
    "            if MAX_FR > sum(times_ind) > 0:\n",
    "                spike_times.append(times[times_ind])\n",
    "        return spike_times\n",
    "    \n",
    "    def set_spike_times(self):\n",
    "        self.spike_times = self.get_spike_times()"
   ]
  },
  {
   "cell_type": "code",
   "execution_count": 5,
   "metadata": {},
   "outputs": [
    {
     "name": "stderr",
     "output_type": "stream",
     "text": [
      "100%|██████████| 6/6 [00:21<00:00,  3.50s/it]\n"
     ]
    }
   ],
   "source": [
    "HS = Sorter(\"herdingspikes\", \"herdingspikes\")\n",
    "KS = Sorter(\"kilosort2\", \"kilosort2\")\n",
    "IC = Sorter(\"ironclust\", \"ironclust\")\n",
    "TDC = Sorter(\"tridesclous\", \"tridesclous\")\n",
    "SC = Sorter(\"spykingcircus\", \"spykingcircus\")\n",
    "HDS = Sorter(\"hdsort\", \"hdsort\")\n",
    "PROP = utils.pickle_load(\"/data/MEAprojects/dandi/000034/sub-mouse412804/rt_sort/240319/prop_signal.pickle\")\n",
    "PROP.name = \"rt_sort\"\n",
    "SORTERS = [HS, KS, IC, TDC, SC, HDS, PROP]\n",
    "##\n",
    "for sorter in tqdm(SORTERS[:-1]):\n",
    "    sorter.set_spike_times()"
   ]
  },
  {
   "cell_type": "code",
   "execution_count": 6,
   "metadata": {},
   "outputs": [],
   "source": [
    "SNR_N_BEFORE = round(50 * SAMP_FREQ)   # For calculating SNR in preceeding window\n",
    "# If SNR_N_BEFORE is None, use entire recording\n",
    "USE_SNR = False  # If True, use SNR (median estimator). Otherwise, use RMS\n",
    "\n",
    "N_BEFORE = N_AFTER = round(0.4 * SAMP_FREQ)  # For finding unit's spike amps and channel location"
   ]
  },
  {
   "cell_type": "code",
   "execution_count": 7,
   "metadata": {},
   "outputs": [
    {
     "name": "stdout",
     "output_type": "stream",
     "text": [
      "herdingspikes\n"
     ]
    },
    {
     "name": "stderr",
     "output_type": "stream",
     "text": [
      "100%|██████████| 209/209 [01:22<00:00,  2.53it/s]\n"
     ]
    },
    {
     "name": "stdout",
     "output_type": "stream",
     "text": [
      "kilosort2\n"
     ]
    },
    {
     "name": "stderr",
     "output_type": "stream",
     "text": [
      "100%|██████████| 448/448 [03:24<00:00,  2.19it/s]\n"
     ]
    },
    {
     "name": "stdout",
     "output_type": "stream",
     "text": [
      "ironclust\n"
     ]
    },
    {
     "name": "stderr",
     "output_type": "stream",
     "text": [
      "100%|██████████| 220/220 [09:39<00:00,  2.63s/it]  \n"
     ]
    },
    {
     "name": "stdout",
     "output_type": "stream",
     "text": [
      "tridesclous\n"
     ]
    },
    {
     "name": "stderr",
     "output_type": "stream",
     "text": [
      "100%|██████████| 187/187 [03:11<00:00,  1.02s/it]\n"
     ]
    },
    {
     "name": "stdout",
     "output_type": "stream",
     "text": [
      "spykingcircus\n"
     ]
    },
    {
     "name": "stderr",
     "output_type": "stream",
     "text": [
      "100%|██████████| 616/616 [07:23<00:00,  1.39it/s]\n"
     ]
    },
    {
     "name": "stdout",
     "output_type": "stream",
     "text": [
      "hdsort\n"
     ]
    },
    {
     "name": "stderr",
     "output_type": "stream",
     "text": [
      "100%|██████████| 313/313 [05:17<00:00,  1.02s/it]\n"
     ]
    },
    {
     "name": "stdout",
     "output_type": "stream",
     "text": [
      "rt_sort\n"
     ]
    },
    {
     "name": "stderr",
     "output_type": "stream",
     "text": [
      "100%|██████████| 168/168 [02:42<00:00,  1.03it/s]\n"
     ]
    }
   ],
   "source": [
    "def job(data):\n",
    "    idx, spike_train = data\n",
    "    spike_snrs = np.zeros((len(spike_train), RECORDING.get_num_channels()), dtype=\"float32\")\n",
    "    # templates = np.zeros((RECORDING.get_num_channels(), N_BEFORE+N_AFTER+1), dtype=\"float32\")  # For testing\n",
    "    for s, time in enumerate(spike_train):\n",
    "        rec_frame = round(time * SAMP_FREQ)\n",
    "        amp_window = TRACES[:, max(0, rec_frame-N_BEFORE):rec_frame+N_AFTER+1]\n",
    "        amps = np.abs(np.min(amp_window, axis=1))\n",
    "                \n",
    "        # Use SNR of preceeding 50ms window\n",
    "        if SNR_N_BEFORE is not None:\n",
    "            snr_window = TRACES[:, max(0, rec_frame-SNR_N_BEFORE):rec_frame]\n",
    "            if USE_SNR:\n",
    "                snr = np.median(np.abs(snr_window), axis=1) / 0.6745\n",
    "            else:  # use RMS\n",
    "                snr = np.sqrt(np.mean(np.square(snr_window.astype(\"float64\")), axis=1)).astype(\"float32\")  # Need to convert to float64 for square to prevent overflow error\n",
    "            snr = np.clip(snr, a_min=0.5, a_max=None)  # clip to prevent divide by 0\n",
    "        else:\n",
    "            snr = 1\n",
    "                \n",
    "        spike_snrs[s] = amps / snr # / rms\n",
    "        \n",
    "        # # For testing\n",
    "        # if rec_frame-N_BEFORE >= 0:\n",
    "        #     template = TRACES_FILT[:, rec_frame-N_BEFORE:rec_frame+N_AFTER+1]\n",
    "        #     template = template / np.sqrt(np.mean(np.square(TRACES_FILT[:, max(0, rec_frame-RMS_N_BEFORE):rec_frame+RMS_N_AFTER]), axis=1, keepdims=True)) \n",
    "        #     templates += template\n",
    "\n",
    "    mean_amps = np.mean(spike_snrs, axis=0)\n",
    "    chan = np.argmax(mean_amps)\n",
    "    spike_snrs = spike_snrs[:, chan]\n",
    "    # Use SNR of entire recording\n",
    "    if SNR_N_BEFORE is None:  \n",
    "        assert USE_SNR, \"Using entire recording for RMS is not implemented yet\"\n",
    "        snr = np.clip(np.median(np.abs(TRACES[chan, :])) / 0.6745, a_min=0.5, a_max=None)  # clip to prevent divide by 0\n",
    "        spike_snrs /= snr\n",
    "    \n",
    "    # test = Unit(idx, spike_train, chan, None)\n",
    "    # templates = templates / len(test.spike_train)\n",
    "    # test.recording = RECORDING\n",
    "    # test.plot(wf=templates, chans_rms=np.full(RECORDING.get_num_channels(), 5.5/5))\n",
    "    # import matplotlib.pyplot as plt\n",
    "    # plt.show()\n",
    "    # print(RECORDING.get_channel_locations()[test.chan])\n",
    "    # print(np.min(templates))\n",
    "    # print(np.mean(spike_rmses))\n",
    "    \n",
    "    return {\n",
    "            \"location\": RECORDING.get_channel_locations()[chan],\n",
    "            \"spike_times\": spike_train,\n",
    "            \"spike_rmses\": spike_snrs,\n",
    "            }\n",
    "    \n",
    "for sorter in SORTERS:\n",
    "    print(sorter.name)\n",
    "    sorter.units = []\n",
    "    tasks = [(i, times) for i, times in enumerate(sorter.get_spike_times())]\n",
    "    with Pool(processes=16) as pool:\n",
    "        for unit in tqdm(pool.imap(job, tasks), total=len(tasks)):\n",
    "            sorter.units.append(unit)\n",
    "    \n",
    "    save_path = SAVE_PATH / f\"{sorter.name}.pickle\"\n",
    "    save_path.parent.mkdir(exist_ok=True, parents=True)\n",
    "    utils.pickle_dump(sorter.units, save_path)"
   ]
  },
  {
   "cell_type": "code",
   "execution_count": 12,
   "metadata": {},
   "outputs": [
    {
     "data": {
      "image/png": "[encoded data removed]",
      "text/plain": [
       "<Figure size 640x480 with 1 Axes>"
      ]
     },
     "metadata": {},
     "output_type": "display_data"
    }
   ],
   "source": [
    "test = utils.pickle_load(SAVE_PATH / (SORTERS[1].name + \".pickle\"))\n",
    "hist = []\n",
    "for unit in test:\n",
    "    hist.append(np.mean(unit['spike_rmses']))\n",
    "import matplotlib.pyplot as plt\n",
    "plt.hist(hist, bins=30)\n",
    "plt.show()"
   ]
  }
 ],
 "metadata": {
  "kernelspec": {
   "display_name": "Python 3 (ipykernel)",
   "language": "python",
   "name": "python3"
  },
  "language_info": {
   "codemirror_mode": {
    "name": "ipython",
    "version": 3
   },
   "file_extension": ".py",
   "mimetype": "text/x-python",
   "name": "python",
   "nbconvert_exporter": "python",
   "pygments_lexer": "ipython3",
   "version": "3.7.16"
  }
 },
 "nbformat": 4,
 "nbformat_minor": 2
}
