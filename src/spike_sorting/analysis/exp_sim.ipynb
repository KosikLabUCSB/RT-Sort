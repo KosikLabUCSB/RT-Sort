{
 "cells": [
  {
   "cell_type": "markdown",
   "metadata": {
    "collapsed": false,
    "pycharm": {
     "name": "#%% md\n"
    }
   },
   "source": [
    "## Objective\n",
    "Simulate a real time experiment by replaying an organoid recording. Find how long it takes for prop to detect it"
   ]
  },
  {
   "cell_type": "markdown",
   "metadata": {
    "collapsed": false,
    "pycharm": {
     "name": "#%% md\n"
    }
   },
   "source": [
    "# TODO\n",
    "Needs to work on any number of coactivations (right now, only works for 2)"
   ]
  },
  {
   "cell_type": "code",
   "execution_count": 1,
   "metadata": {
    "collapsed": false,
    "pycharm": {
     "name": "#%%\n"
    }
   },
   "outputs": [],
   "source": [
    "# region Set up notebook imports\n",
    "%load_ext autoreload\n",
    "%autoreload\n",
    "# Allow for imports of other scripts\n",
    "import sys\n",
    "IMPORTS_PATH = \"/data/MEAprojects/PropSignal\"\n",
    "if IMPORTS_PATH not in sys.path:\n",
    "    sys.path.append(IMPORTS_PATH)\n",
    "# Reload a module after changes have been made\n",
    "from importlib import reload\n",
    "# endregion\n",
    "\n",
    "from time import perf_counter\n",
    "import numpy as np\n",
    "import matplotlib.pyplot as plt\n",
    "import scipy\n",
    "\n",
    "from scipy.signal import find_peaks\n",
    "\n",
    "from src.sorters.prop_signal import PropSignal\n",
    "from src.recording import Recording\n",
    "from src import utils"
   ]
  },
  {
   "cell_type": "markdown",
   "metadata": {
    "collapsed": false,
    "pycharm": {
     "name": "#%% md\n"
    }
   },
   "source": [
    "## Setup"
   ]
  },
  {
   "cell_type": "code",
   "execution_count": 8,
   "metadata": {
    "collapsed": false,
    "pycharm": {
     "name": "#%%\n"
    }
   },
   "outputs": [],
   "source": [
    "RECORDING = Recording(utils.PATH_REC_SI)\n",
    "PROP_SIGNAL = PropSignal(\"/data/MEAprojects/dandi/000034/sub-mouse412804/prop_signal/230423\", RECORDING)\n",
    "THRESH_CROSSINGS = np.load(\"/data/MEAprojects/dandi/000034/sub-mouse412804/prop_signal/thresh_5_full/crossings.npy\", allow_pickle=True)"
   ]
  },
  {
   "cell_type": "code",
   "execution_count": 9,
   "metadata": {
    "collapsed": false,
    "pycharm": {
     "name": "#%%\n"
    }
   },
   "outputs": [],
   "source": [
    "# class BandpassFilter:\n",
    "#     \"\"\"\n",
    "#     From SpikeInterface\n",
    "#\n",
    "#     Generic filter class based on:\n",
    "#       * scipy.signal.iirfilter\n",
    "#       * scipy.signal.filtfilt or scipy.signal.sosfilt\n",
    "#     BandpassFilterRecording is built on top of it.\n",
    "#\n",
    "#     Parameters\n",
    "#     ----------\n",
    "#     band: int or tuple or list\n",
    "#         If int, cutoff frequency in Hz for 'highpass' filter type\n",
    "#         If list. band (low, high) in Hz for 'bandpass' filter type\n",
    "#     sf: int\n",
    "#         Sampling frequency of traces to be filtered (kHz)\n",
    "#     btype: str\n",
    "#         Type of the filter ('bandpass', 'highpass')\n",
    "#     margin_ms: float\n",
    "#         Margin in ms on border to avoid border effect\n",
    "#     filter_mode: str 'sos' or 'ba'\n",
    "#         Filter form of the filter coefficients:\n",
    "#         - second-order sections (default): 'sos'\n",
    "#         - numerator/denominator: 'ba'\n",
    "#     coeff: ndarray or None\n",
    "#         Filter coefficients in the filter_mode form.\n",
    "#     \"\"\"\n",
    "#\n",
    "#     def __init__(self, band=(300, 6000), sf=20000, btype=\"bandpass\",\n",
    "#                  filter_order=5, ftype=\"butter\", filter_mode=\"sos\", margin_ms=5.0,\n",
    "#                  coeff=None):\n",
    "#         assert filter_mode in (\"sos\", \"ba\")\n",
    "#         if coeff is None:\n",
    "#             assert btype in ('bandpass', 'highpass')\n",
    "#             # coefficient\n",
    "#             if btype in ('bandpass', 'bandstop'):\n",
    "#                 assert len(band) == 2\n",
    "#                 Wn = [e / sf * 2 for e in band]\n",
    "#             else:\n",
    "#                 Wn = float(band) / sf * 2\n",
    "#             N = filter_order\n",
    "#             # self.coeff is 'sos' or 'ab' style\n",
    "#             filter_coeff = scipy.signal.iirfilter(N, Wn, analog=False, btype=btype, ftype=ftype, output=filter_mode)\n",
    "#         else:\n",
    "#             filter_coeff = coeff\n",
    "#             if not isinstance(coeff, list):\n",
    "#                 if filter_mode == 'ba':\n",
    "#                     coeff = [c.tolist() for c in coeff]\n",
    "#                 else:\n",
    "#                     coeff = coeff.tolist()\n",
    "#\n",
    "#         margin = int(margin_ms * sf / 1000.)\n",
    "#\n",
    "#         self.coeff = filter_coeff\n",
    "#         self.filter_mode = filter_mode\n",
    "#         self.margin = margin\n",
    "#\n",
    "#     def __call__(self, trace):\n",
    "#         # if self.filter_mode == \"sos\":\n",
    "#         #     filtered = scipy.signal.sosfiltfilt(self.coeff, trace, axis=-1)\n",
    "#         # elif self.filter_mode == \"ba\":\n",
    "#         #     b, a = self.coeff\n",
    "#         #     filtered = scipy.signal.filtfilt(b, a, trace, axis=-1)\n",
    "#         # return filtered\n",
    "#         return scipy.signal.sosfiltfilt(self.coeff, trace, axis=-1)\n",
    "#\n",
    "# filter_coeff = BandpassFilter((300, 3000), sf=30000).coeff\n",
    "# # scipy.signal.sosfiltfilt(filter_coeff, trace, axis=-1)\n",
    "#\n",
    "# # Define the filter parameters\n",
    "# order = 5  # Filter order\n",
    "# fs = 30000  # Sample rate (Hz)\n",
    "# low_freq = 300  # Lower cutoff frequency (Hz)\n",
    "# high_freq = 3000  # Upper cutoff frequency (Hz)\n",
    "#\n",
    "# # Compute the filter coefficients\n",
    "# nyquist = 0.5 * fs\n",
    "# low = low_freq / nyquist\n",
    "# high = high_freq / nyquist\n",
    "# b, a = scipy.signal.butter(order, [low, high], btype='band')\n",
    "#\n",
    "# # Initialize filter state\n",
    "# zi = scipy.signal.lfilter_zi(b, a)\n",
    "# data_stream = RECORDING.get_traces_raw(100, 140)[100]\n",
    "#\n",
    "# filtered_data = []\n",
    "# for data in data_stream:\n",
    "#     filtered_data_point, zi = scipy.signal.lfilter(b, a, [data], zi=zi)\n",
    "#     filtered_data.append(filtered_data_point[0])\n",
    "# plt.plot(data_stream)\n",
    "# plt.plot(filtered_data)\n",
    "# plt.plot(scipy.signal.sosfiltfilt(filter_coeff, data_stream, axis=-1))\n",
    "# plt.show()"
   ]
  },
  {
   "cell_type": "code",
   "execution_count": 10,
   "metadata": {
    "collapsed": false,
    "pycharm": {
     "name": "#%%\n"
    }
   },
   "outputs": [],
   "source": [
    "thresh_crossings = {}  # {cross_time: [elecs with crossing]}\n",
    "for elec, crossings in enumerate(THRESH_CROSSINGS):\n",
    "    for cross in crossings:\n",
    "        if cross not in thresh_crossings:\n",
    "            thresh_crossings[cross] = [elec]\n",
    "        else:\n",
    "            thresh_crossings[cross].append(elec)\n",
    "thresh_crossing_times = sorted(list(thresh_crossings.keys()))"
   ]
  },
  {
   "cell_type": "markdown",
   "metadata": {
    "collapsed": false,
    "pycharm": {
     "name": "#%% md\n"
    }
   },
   "source": [
    "## Start simulation"
   ]
  },
  {
   "cell_type": "code",
   "execution_count": 11,
   "metadata": {
    "collapsed": false,
    "pycharm": {
     "name": "#%%\n"
    }
   },
   "outputs": [],
   "source": [
    "# In ms\n",
    "MAX_DURATION = 0.5\n",
    "ISI_VIOL = 1.5"
   ]
  },
  {
   "cell_type": "code",
   "execution_count": 12,
   "metadata": {
    "collapsed": false,
    "pycharm": {
     "name": "#%%\n"
    }
   },
   "outputs": [],
   "source": [
    "# Keep track of latest threshold crossing on first electrode of each propagation\n",
    "propagations = {elec: -np.inf for elec in range(RECORDING.get_num_channels())}  # Faster to have one for every electrode (more than number of props)\n",
    "\n",
    "# Keep track of last detected spike for prop (prevents ISI violations of merged propagations)\n",
    "last_detected_spikes = {}\n",
    "for prop in PROP_SIGNAL:\n",
    "    last = [-np.inf]  # Use array since passed by reference\n",
    "    for df in prop.df:\n",
    "        last_detected_spikes[df.ID[0]] = last\n",
    "\n",
    "# Go from an electrode with thresh crossing to props with that electrode\n",
    "elec_to_prop = {elec: [] for elec in range(RECORDING.get_num_channels())}  # Go from an electrode with thresh crossing to props with that electrode\n",
    "for prop in PROP_SIGNAL:\n",
    "    for df in prop.df:\n",
    "        first_elec = df.ID[0]\n",
    "        for elec in df.ID[1:]:\n",
    "            elec_to_prop[elec].append(first_elec)\n",
    "\n",
    "detected_spikes = []\n",
    "\n",
    "processing_time = thresh_crossing_times[0]\n",
    "for time in thresh_crossing_times:\n",
    "    electrode_crossings = thresh_crossings[time]\n",
    "    processing_end = None\n",
    "    if time < processing_time:\n",
    "        add_time = processing_time - time\n",
    "    else:\n",
    "        add_time = 0\n",
    "        processing_time = time\n",
    "    processing_start = perf_counter()\n",
    "    for elec in electrode_crossings:\n",
    "        propagations[elec] = time  # Faster to just set value than use an if-statement\n",
    "\n",
    "    for elec in electrode_crossings:\n",
    "        first_elecs = elec_to_prop[elec]\n",
    "        for first_elec in first_elecs:\n",
    "            first_time = propagations[first_elec]\n",
    "            if time - first_time <= MAX_DURATION and first_time - last_detected_spikes[first_elec][0] > ISI_VIOL:\n",
    "                propagations[first_elec] = -np.inf\n",
    "                last_detected_spikes[first_elec][0] = first_time\n",
    "                processing_end = perf_counter()\n",
    "\n",
    "                add_start = perf_counter()\n",
    "                detected_spikes.append((\n",
    "                    time, first_time,\n",
    "                    (processing_end - processing_start)*1000 + (time - first_time) + add_time\n",
    "                ))\n",
    "                add_end = perf_counter()\n",
    "                processing_start += add_end - add_start\n",
    "\n",
    "    processing_end_2 = perf_counter()\n",
    "    if processing_end is None:\n",
    "        processing_end = processing_end_2\n",
    "\n",
    "    processing_time += (processing_end - processing_start) * 1000"
   ]
  },
  {
   "cell_type": "code",
   "execution_count": 13,
   "metadata": {
    "collapsed": false,
    "pycharm": {
     "name": "#%%\n"
    }
   },
   "outputs": [
    {
     "data": {
      "text/plain": [
       "0.9792289063524152"
      ]
     },
     "execution_count": 13,
     "metadata": {},
     "output_type": "execute_result"
    }
   ],
   "source": [
    "len(detected_spikes) / sum(len(prop) for prop in PROP_SIGNAL)"
   ]
  },
  {
   "cell_type": "code",
   "execution_count": 14,
   "metadata": {
    "collapsed": false,
    "pycharm": {
     "name": "#%%\n"
    }
   },
   "outputs": [],
   "source": [
    "def get_matching_spikes(times1, times2, delta=0.4):\n",
    "    matched = []\n",
    "    unmatched1 = []\n",
    "\n",
    "    already_matched = set()\n",
    "    from tqdm import tqdm\n",
    "    for st1 in tqdm(times1):\n",
    "        idx = np.searchsorted(times2, st1)\n",
    "        idx_left = idx - 1\n",
    "        while idx_left in already_matched:\n",
    "            idx_left -= 1\n",
    "        if idx_left >= 0:\n",
    "            left = times2[idx_left]\n",
    "        else:\n",
    "            left = -np.inf\n",
    "\n",
    "        idx_right = idx\n",
    "        while idx_right in already_matched:\n",
    "            idx_right += 1\n",
    "        if idx_right < len(times2):\n",
    "            right = times2[idx_right]\n",
    "        else:\n",
    "            right = np.inf\n",
    "\n",
    "        if right - st1 < st1 - left:\n",
    "            if right - st1 <= delta:\n",
    "                matched.append(st1)\n",
    "                already_matched.add(idx_right)\n",
    "            else:\n",
    "                unmatched1.append(st1)\n",
    "        else:\n",
    "            if st1 - left <= delta:\n",
    "                matched.append(st1)\n",
    "                already_matched.add(idx_left)\n",
    "            else:\n",
    "                unmatched1.append(st1)\n",
    "\n",
    "    unmatched2 = [times2[i] for i in range(len(times2)) if i not in already_matched]\n",
    "\n",
    "    return matched, unmatched1, unmatched2"
   ]
  },
  {
   "cell_type": "code",
   "execution_count": 15,
   "metadata": {
    "collapsed": false,
    "pycharm": {
     "name": "#%%\n"
    }
   },
   "outputs": [],
   "source": [
    "detected_spikes_sanity = sorted(st[0] for st in detected_spikes)\n",
    "spikes_prop = np.sort(np.concatenate([prop.spike_train for prop in PROP_SIGNAL]))"
   ]
  },
  {
   "cell_type": "code",
   "execution_count": 16,
   "metadata": {
    "collapsed": false,
    "pycharm": {
     "name": "#%%\n"
    }
   },
   "outputs": [
    {
     "name": "stderr",
     "output_type": "stream",
     "text": [
      "100%|██████████| 1135412/1135412 [00:06<00:00, 189122.74it/s]\n"
     ]
    }
   ],
   "source": [
    "matched, unmatched1, unmatched2 = get_matching_spikes(detected_spikes_sanity, spikes_prop, delta=0.8)#  / len(detected_spikes_sanity)"
   ]
  },
  {
   "cell_type": "code",
   "execution_count": 17,
   "metadata": {
    "collapsed": false,
    "pycharm": {
     "name": "#%%\n"
    }
   },
   "outputs": [
    {
     "data": {
      "text/plain": [
       "1123240"
      ]
     },
     "execution_count": 17,
     "metadata": {},
     "output_type": "execute_result"
    }
   ],
   "source": [
    "len(matched)"
   ]
  },
  {
   "cell_type": "code",
   "execution_count": 18,
   "metadata": {
    "collapsed": false,
    "pycharm": {
     "name": "#%%\n"
    }
   },
   "outputs": [
    {
     "data": {
      "text/plain": [
       "12172"
      ]
     },
     "execution_count": 18,
     "metadata": {},
     "output_type": "execute_result"
    }
   ],
   "source": [
    "len(unmatched1)"
   ]
  },
  {
   "cell_type": "code",
   "execution_count": 19,
   "metadata": {
    "collapsed": false,
    "pycharm": {
     "name": "#%%\n"
    }
   },
   "outputs": [
    {
     "data": {
      "text/plain": [
       "36256"
      ]
     },
     "execution_count": 19,
     "metadata": {},
     "output_type": "execute_result"
    }
   ],
   "source": [
    "len(unmatched2)"
   ]
  },
  {
   "cell_type": "code",
   "execution_count": 20,
   "metadata": {
    "collapsed": false,
    "pycharm": {
     "name": "#%%\n"
    }
   },
   "outputs": [
    {
     "data": {
      "text/plain": [
       "0.9687312418499072"
      ]
     },
     "execution_count": 20,
     "metadata": {},
     "output_type": "execute_result"
    }
   ],
   "source": [
    "len(matched) / len(spikes_prop)"
   ]
  },
  {
   "cell_type": "markdown",
   "metadata": {
    "collapsed": false,
    "pycharm": {
     "name": "#%% md\n"
    }
   },
   "source": [
    "## Plot"
   ]
  },
  {
   "cell_type": "code",
   "execution_count": 21,
   "metadata": {
    "collapsed": false,
    "pycharm": {
     "name": "#%%\n"
    }
   },
   "outputs": [],
   "source": [
    "from src import plot"
   ]
  },
  {
   "cell_type": "code",
   "execution_count": 22,
   "metadata": {
    "collapsed": false,
    "pycharm": {
     "name": "#%%\n"
    }
   },
   "outputs": [],
   "source": [
    "detection_delays = [ds[2] for ds in detected_spikes]\n",
    "detection_delays_inst = [ds[2] - (ds[0] - ds[1]) for ds in detected_spikes]\n",
    "prop_delays = [ds[0] - ds[1] for ds in detected_spikes]"
   ]
  },
  {
   "cell_type": "code",
   "execution_count": 23,
   "metadata": {
    "collapsed": false,
    "pycharm": {
     "name": "#%%\n"
    }
   },
   "outputs": [
    {
     "data": {
      "text/plain": [
       "1.585327616759379e-05"
      ]
     },
     "execution_count": 23,
     "metadata": {},
     "output_type": "execute_result"
    }
   ],
   "source": [
    "np.sum(np.array(detection_delays_inst) >= 0.03) / len(detection_delays_inst)"
   ]
  },
  {
   "cell_type": "code",
   "execution_count": 24,
   "metadata": {
    "collapsed": false,
    "pycharm": {
     "name": "#%%\n"
    }
   },
   "outputs": [
    {
     "data": {
      "image/png": "[encoded data removed]",
      "text/plain": [
       "<Figure size 640x480 with 1 Axes>"
      ]
     },
     "metadata": {},
     "output_type": "display_data"
    }
   ],
   "source": [
    "plot.plot_hist_percents(detection_delays, range=(0, MAX_DURATION), bins=20)\n",
    "plt.xlim(0, MAX_DURATION)\n",
    "plt.xticks([0, 0.05, 0.1, 0.15, 0.2, 0.25, 0.3, 0.35, 0.4, 0.45, 0.5])\n",
    "plt.xlabel(\"Time delay (ms)\")\n",
    "plt.title(\"Time delay from spike to detection.\")\n",
    "plt.tight_layout()\n",
    "plt.show()"
   ]
  },
  {
   "cell_type": "code",
   "execution_count": 32,
   "metadata": {
    "collapsed": false,
    "pycharm": {
     "name": "#%%\n"
    }
   },
   "outputs": [
    {
     "data": {
      "image/png": "[encoded data removed]",
      "text/plain": [
       "<Figure size 640x480 with 1 Axes>"
      ]
     },
     "metadata": {},
     "output_type": "display_data"
    }
   ],
   "source": [
    "plot.plot_hist_percents(detection_delays_inst, range=(0, MAX_DURATION), bins=20)\n",
    "plt.xlim(0, MAX_DURATION)\n",
    "plt.xticks([0, 0.05, 0.1, 0.15, 0.2, 0.25, 0.3, 0.35, 0.4, 0.45, 0.5])\n",
    "plt.xlabel(\"Time delay (ms)\")\n",
    "plt.title(\"Time delay from spike to detection.\")\n",
    "plt.tight_layout()\n",
    "plt.show()"
   ]
  },
  {
   "cell_type": "code",
   "execution_count": 30,
   "metadata": {
    "collapsed": false,
    "pycharm": {
     "name": "#%%\n"
    }
   },
   "outputs": [
    {
     "data": {
      "image/png": "[encoded data removed]",
      "text/plain": [
       "<Figure size 640x480 with 1 Axes>"
      ]
     },
     "metadata": {},
     "output_type": "display_data"
    }
   ],
   "source": [
    "plot.plot_hist_percents(detection_delays_inst, bins=50, range=(min(detection_delays_inst), 0.01))\n",
    "plt.xlim(min(detection_delays_inst), 0.01)\n",
    "plt.xlabel(\"Time delay (ms)\")\n",
    "plt.title(\"Time delay caused by integrating prop.\")\n",
    "plt.tight_layout()\n",
    "plt.show()\n",
    "plt.show()"
   ]
  },
  {
   "cell_type": "code",
   "execution_count": 29,
   "metadata": {
    "collapsed": false,
    "pycharm": {
     "name": "#%%\n"
    }
   },
   "outputs": [
    {
     "data": {
      "image/png": "[encoded data removed]",
      "text/plain": [
       "<Figure size 640x480 with 1 Axes>"
      ]
     },
     "metadata": {},
     "output_type": "display_data"
    }
   ],
   "source": [
    "plot.plot_hist_percents(prop_delays, bins=20)\n",
    "plt.xlim(0, MAX_DURATION)\n",
    "plt.xticks([0, 0.05, 0.1, 0.15, 0.2, 0.25, 0.3, 0.35, 0.4, 0.45, 0.5])\n",
    "plt.xlabel(\"Detection delay (ms)\")\n",
    "plt.title(\"Time delay caused by spike propagating across electrodes.\")\n",
    "plt.tight_layout()\n",
    "plt.show()"
   ]
  },
  {
   "cell_type": "markdown",
   "metadata": {
    "collapsed": false,
    "pycharm": {
     "name": "#%% md\n"
    }
   },
   "source": [
    "## Speed when using .py (not running through jupyter) is faster\n",
    "Running from IPython (console) is probably faster than through IDE"
   ]
  },
  {
   "cell_type": "code",
   "execution_count": null,
   "metadata": {
    "collapsed": false,
    "pycharm": {
     "name": "#%%\n"
    }
   },
   "outputs": [],
   "source": []
  }
 ],
 "metadata": {
  "kernelspec": {
   "display_name": "Python 3 (ipykernel)",
   "language": "python",
   "name": "python3"
  }
 },
 "nbformat": 4,
 "nbformat_minor": 0
}
