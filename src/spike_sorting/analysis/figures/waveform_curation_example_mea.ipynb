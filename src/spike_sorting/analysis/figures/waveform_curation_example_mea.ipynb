{
 "cells": [
  {
   "cell_type": "markdown",
   "metadata": {},
   "source": [
    "## Objective\n",
    "RT-Sort manuscript figure 1B"
   ]
  },
  {
   "cell_type": "code",
   "execution_count": 1,
   "metadata": {},
   "outputs": [],
   "source": [
    "import matplotlib.pyplot as plt\n",
    "import numpy as np\n",
    "\n",
    "from spikeinterface.extractors import MaxwellRecordingExtractor\n",
    "\n",
    "from tqdm import tqdm\n",
    "\n",
    "REC_PATH = \"/data/MEAprojects/RT-Sort/figures/data/2953/data.raw.h5\"\n",
    "# Should be shape (201, 1020) = (n_samples, n_elecs) and scaled to uV\n",
    "TEMPLATES_AVERAGE_PATH = \"/data/MEAprojects/RT-Sort/figures/data/2953/templates_average.npy\"\n",
    "TEMPLATES_STD_PATH = \"/data/MEAprojects/RT-Sort/figures/data/2953/templates_std.npy\""
   ]
  },
  {
   "cell_type": "code",
   "execution_count": 2,
   "metadata": {},
   "outputs": [],
   "source": [
    "recording = MaxwellRecordingExtractor(REC_PATH)\n",
    "locations = recording.get_channel_locations()\n",
    "# Need to invert y-cords\n",
    "locations[:, 1] = 2100 - locations[:, 1]"
   ]
  },
  {
   "cell_type": "code",
   "execution_count": 3,
   "metadata": {},
   "outputs": [
    {
     "name": "stdout",
     "output_type": "stream",
     "text": [
      "92 [ 437.5 1557.5]\n",
      "93 [ 437.5 1557.5]\n",
      "97 [ 402.5 1522.5]\n",
      "111 [ 437.5 1557.5]\n"
     ]
    }
   ],
   "source": [
    "# Find unit based on max-amp channel by specifying location boundaries of where it could be\n",
    "X_MIN = 400\n",
    "X_MAX = 450\n",
    "Y_MIN = 1500  \n",
    "Y_MAX = 1600  \n",
    "##\n",
    "all_templates = np.load(TEMPLATES_AVERAGE_PATH, mmap_mode=\"r\")\n",
    "for i in range(all_templates.shape[0]):\n",
    "    chan = np.argmin(np.min(all_templates[i], axis=0))\n",
    "    x, y = locations[chan]\n",
    "    if X_MIN <= x <= X_MAX and Y_MIN <= y <= Y_MAX:\n",
    "        print(i, locations[chan])"
   ]
  },
  {
   "cell_type": "code",
   "execution_count": 30,
   "metadata": {
    "collapsed": false,
    "pycharm": {
     "name": "#%%\n"
    }
   },
   "outputs": [
    {
     "name": "stderr",
     "output_type": "stream",
     "text": [
      "100%|██████████| 1020/1020 [00:00<00:00, 34752.65it/s]\n"
     ]
    }
   ],
   "source": [
    "# XLIM = (190, 550)  # when using 2ms before and after\n",
    "XLIM = (175, 560)  # when using 1ms before and 2ms after\n",
    "YLIM = (1400, 1700)\n",
    "AMP_THRESH = 19\n",
    "NORM_STD_THRESH = 0.6\n",
    "UNIT_IDX = 111\n",
    "\n",
    "SAVE_PATH = \"/data/MEAprojects/RT-Sort/figures/1B_1ms_before_2ms_after.svg\"\n",
    "##\n",
    "\n",
    "# Plot waveforms\n",
    "templates_mean = np.load(TEMPLATES_AVERAGE_PATH, mmap_mode=\"r\")[UNIT_IDX].T  # peak is at frame 100\n",
    "templates_std = np.load(TEMPLATES_STD_PATH, mmap_mode=\"r\")[UNIT_IDX].T\n",
    "arange = np.arange(templates_mean.shape[0])\n",
    "peaks = np.argmax(np.abs(templates_mean), axis=1)\n",
    "amps = np.abs(templates_mean[arange, peaks])\n",
    "curation = (amps >= AMP_THRESH) * (templates_std[arange, peaks] / amps <= NORM_STD_THRESH)\n",
    "# templates_mean = templates_mean[:, 60:-60]  # 2ms before and after\n",
    "templates_mean = templates_mean[:, 80:-60]  # 1ms before and 2ms after\n",
    "\n",
    "fig, ax = plt.subplots(1)\n",
    "for chan in tqdm(range(len(curation))):\n",
    "    x, y = locations[chan]\n",
    "    if not (XLIM[0] < x < XLIM[1] and YLIM[0] < y < YLIM[1]): continue\n",
    "\n",
    "    color = \"#7542ff\" if curation[chan] else \"black\"\n",
    "\n",
    "    # if color == \"black\":\n",
    "    #     print(x, y, amps[chan])\n",
    "\n",
    "    temp = templates_mean[chan]\n",
    "\n",
    "    temp = temp * 3 / 6.295\n",
    "    loc = locations[chan]\n",
    "\n",
    "    # # When using 2ms before and after\n",
    "    # x = np.arange(temp.size, dtype=float) - 100\n",
    "    # x *= 0.35  \n",
    "    \n",
    "    # When using 1ms before and 2ms after\n",
    "    x = np.arange(temp.size, dtype=float) - 20\n",
    "    x *= 0.5\n",
    "\n",
    "    x += loc[0]\n",
    "    temp += loc[1]\n",
    "\n",
    "    # for wf in waveforms[:, :, chan]:\n",
    "    #     ax.plot(x, wf*3/6.295 + loc[1], color=\"#bbbbbb\")\n",
    "    ax.plot(x, temp, color=color, alpha=1)\n",
    "\n",
    "ax.set_ylim(YLIM)\n",
    "ax.set_xlim(XLIM)\n",
    "\n",
    "# Hide top and right spines\n",
    "ax.spines['top'].set_visible(False)\n",
    "ax.spines['right'].set_visible(False)\n",
    "\n",
    "# Increase thickness of the bottom and left spines\n",
    "ax.spines[\"bottom\"].set_linewidth(2.5)\n",
    "ax.spines[\"left\"].set_linewidth(2.5)\n",
    "\n",
    "# Increase thickness of tick marks\n",
    "ax.tick_params(axis='both', direction='out', length=6, width=2.5, colors='black')\n",
    "\n",
    "# Hide labels\n",
    "ax.set_title(\"\")\n",
    "ax.set_xlabel(\"\")\n",
    "ax.set_ylabel(\"\")\n",
    "\n",
    "ax.set_xticks([])\n",
    "ax.set_yticks([])\n",
    "\n",
    "plt.savefig(SAVE_PATH, format=\"svg\")\n",
    "plt.close()\n",
    "\n",
    "plt.show()"
   ]
  }
 ],
 "metadata": {
  "kernelspec": {
   "display_name": "Python 3",
   "language": "python",
   "name": "python3"
  },
  "language_info": {
   "codemirror_mode": {
    "name": "ipython",
    "version": 3
   },
   "file_extension": ".py",
   "mimetype": "text/x-python",
   "name": "python",
   "nbconvert_exporter": "python",
   "pygments_lexer": "ipython3",
   "version": "3.7.16"
  }
 },
 "nbformat": 4,
 "nbformat_minor": 0
}
