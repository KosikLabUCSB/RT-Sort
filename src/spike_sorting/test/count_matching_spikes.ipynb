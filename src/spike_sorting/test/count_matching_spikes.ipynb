{
 "cells": [
  {
   "cell_type": "markdown",
   "metadata": {},
   "source": [
    "## Objective\n",
    "Determine most accurate way to count matching spikes between sorters"
   ]
  },
  {
   "cell_type": "code",
   "execution_count": 2,
   "metadata": {},
   "outputs": [],
   "source": [
    "import numpy as np\n",
    "import sys"
   ]
  },
  {
   "cell_type": "code",
   "execution_count": 40,
   "metadata": {},
   "outputs": [],
   "source": [
    "def spikeinterface(times1, times2, delta=0.4):\n",
    "    # The way spikeinterface does it\n",
    "    times_concat = np.concatenate((times1, times2))\n",
    "    membership = np.concatenate((np.ones(len(times1)) * 1, np.ones(len(times2)) * 2))\n",
    "    indices = times_concat.argsort()\n",
    "    times_concat_sorted = times_concat[indices]\n",
    "    membership_sorted = membership[indices]\n",
    "    # diffs = times_concat_sorted[1:] - times_concat_sorted[:-1]\n",
    "    # inds = np.where((diffs <= delta) & (membership_sorted[:-1] != membership_sorted[1:]))[0]\n",
    "    diffs = times_concat_sorted[1:] - times_concat_sorted[:-1] - delta\n",
    "    inds = np.where((diffs <= 1e-4) & (membership_sorted[:-1] != membership_sorted[1:]))[0]\n",
    "    if len(inds) == 0:\n",
    "        return 0\n",
    "    inds2 = np.where(inds[:-1] + 1 != inds[1:])[0]  # Prevents a spike being matched with more than one other spike\n",
    "    return len(inds2) + 1\n",
    "\n",
    "\n",
    "def searchsorted(times1, times2, delta=0.4):\n",
    "    matched = []\n",
    "    unmatched1 = []\n",
    "\n",
    "    already_matched = set()\n",
    "    for st1 in times1:\n",
    "        idx = np.searchsorted(times2, st1)\n",
    "        idx_left = idx - 1\n",
    "        while idx_left in already_matched:\n",
    "            idx_left -= 1\n",
    "        if idx_left >= 0:\n",
    "            left = times2[idx_left]\n",
    "        else:\n",
    "            left = -np.inf\n",
    "\n",
    "        idx_right = idx\n",
    "        while idx_right in already_matched:\n",
    "            idx_right += 1\n",
    "        if idx_right < len(times2):\n",
    "            right = times2[idx_right]\n",
    "        else:\n",
    "            right = np.inf\n",
    "\n",
    "        if right - st1 < st1 - left:\n",
    "            if right - st1 - delta <= 1e-4:\n",
    "                matched.append(st1)\n",
    "                already_matched.add(idx_right)\n",
    "            else:\n",
    "                unmatched1.append(st1)\n",
    "        else:\n",
    "            if st1 - left - delta <= 1e-4:\n",
    "                matched.append(st1)\n",
    "                already_matched.add(idx_left)\n",
    "            else:\n",
    "                unmatched1.append(st1)\n",
    "\n",
    "    unmatched2 = [times2[i] for i in range(len(times2)) if i not in already_matched]\n",
    "\n",
    "    return len(matched)\n",
    "\n",
    "\n",
    "def merge_count(times1, times2, delta=0.4):\n",
    "    count = 0\n",
    "    ptr1 = ptr2 = 0\n",
    "    while ptr1 < len(times1) and ptr2 < len(times2):\n",
    "        diff = abs(times1[ptr1] - times2[ptr2]) - delta\n",
    "        if diff <= 1e-4:\n",
    "            count += 1\n",
    "            ptr1 += 1\n",
    "            ptr2 += 1\n",
    "        elif times1[ptr1] < times2[ptr2]:\n",
    "            ptr1 += 1\n",
    "        else:\n",
    "            ptr2 += 1\n",
    "    \n",
    "    return count"
   ]
  },
  {
   "cell_type": "code",
   "execution_count": 13,
   "metadata": {},
   "outputs": [],
   "source": [
    "def test_case(times1, times2, num_matches):\n",
    "    print(f\"Expected: {num_matches}\")\n",
    "    print(f\"Spikeinterface: {spikeinterface(times1, times2)/num_matches*100}%\")\n",
    "    print(f\"Search sorted: {searchsorted(times1, times2)/num_matches*100}%\")\n",
    "    print(f\"Merge count: {merge_count(times1, times2)/num_matches*100}%\")"
   ]
  },
  {
   "cell_type": "code",
   "execution_count": 69,
   "metadata": {},
   "outputs": [
    {
     "name": "stdout",
     "output_type": "stream",
     "text": [
      "Expected: 6\n"
     ]
    },
    {
     "name": "stdout",
     "output_type": "stream",
     "text": [
      "Spikeinterface: 100.0%\n",
      "Search sorted: 100.0%\n",
      "Merge count: 100.0%\n"
     ]
    }
   ],
   "source": [
    "times1 = [0, 1, 2, 3, 4, 5]\n",
    "times2 = [0, 1, 2, 3, 4, 5]\n",
    "num_matches = 6\n",
    "test_case(times1, times2, num_matches)"
   ]
  },
  {
   "cell_type": "code",
   "execution_count": 30,
   "metadata": {},
   "outputs": [
    {
     "name": "stdout",
     "output_type": "stream",
     "text": [
      "Expected: 2\n",
      "Spikeinterface: 100.0%\n",
      "Search sorted: 100.0%\n",
      "Merge count: 100.0%\n"
     ]
    }
   ],
   "source": [
    "test_case(\n",
    "    [1, 1.8],\n",
    "    [1.3, 2.1],\n",
    "    2\n",
    ")"
   ]
  },
  {
   "cell_type": "code",
   "execution_count": 31,
   "metadata": {},
   "outputs": [
    {
     "name": "stdout",
     "output_type": "stream",
     "text": [
      "Expected: 2\n",
      "Spikeinterface: 50.0%\n",
      "Search sorted: 100.0%\n",
      "Merge count: 100.0%\n"
     ]
    }
   ],
   "source": [
    "test_case(\n",
    "    [1, 1.8],\n",
    "    [1.4, 2.2],\n",
    "    2\n",
    ")"
   ]
  },
  {
   "cell_type": "code",
   "execution_count": 32,
   "metadata": {},
   "outputs": [
    {
     "name": "stdout",
     "output_type": "stream",
     "text": [
      "Expected: 2\n",
      "Spikeinterface: 50.0%\n",
      "Search sorted: 100.0%\n",
      "Merge count: 100.0%\n"
     ]
    }
   ],
   "source": [
    "test_case(\n",
    "    [1, 1.2],\n",
    "    [1, 1.2],\n",
    "    2\n",
    ")"
   ]
  },
  {
   "cell_type": "code",
   "execution_count": 71,
   "metadata": {},
   "outputs": [
    {
     "name": "stdout",
     "output_type": "stream",
     "text": [
      "Expected: 2\n",
      "Spikeinterface: 50.0%\n",
      "Search sorted: 50.0%\n",
      "Merge count: 100.0%\n"
     ]
    },
    {
     "data": {
      "text/plain": [
       "'\\nspikeinterface counts [1, 0.7]\\nsearchsorted counts [1, 1.1]\\nmerge_count matches [1, 0.7] and [1.4, 1.1]\\n'"
      ]
     },
     "execution_count": 71,
     "metadata": {},
     "output_type": "execute_result"
    }
   ],
   "source": [
    "test_case(\n",
    "    [1, 1.4],\n",
    "    [0.7, 1.1],\n",
    "    2\n",
    ")\n",
    "\n",
    "\"\"\"\n",
    "spikeinterface counts [1, 0.7]\n",
    "searchsorted counts [1, 1.1]\n",
    "merge_count matches [1, 0.7] and [1.4, 1.1]\n",
    "\"\"\""
   ]
  },
  {
   "cell_type": "code",
   "execution_count": 73,
   "metadata": {},
   "outputs": [
    {
     "name": "stdout",
     "output_type": "stream",
     "text": [
      "Expected: 2\n",
      "Spikeinterface: 100.0%\n",
      "Search sorted: 100.0%\n",
      "Merge count: 100.0%\n"
     ]
    }
   ],
   "source": [
    "test_case(\n",
    "    [1, 2],\n",
    "    [0.7, 1.1, 2.2],\n",
    "    2\n",
    ")"
   ]
  },
  {
   "cell_type": "code",
   "execution_count": 64,
   "metadata": {},
   "outputs": [
    {
     "name": "stdout",
     "output_type": "stream",
     "text": [
      "Expected: 3000\n",
      "Spikeinterface: 94.06666666666666%\n",
      "Search sorted: 100.0%\n",
      "Merge count: 100.0%\n"
     ]
    }
   ],
   "source": [
    "N = 10000\n",
    "NUM_MATCHES = 3000\n",
    "\n",
    "DELTA = 0.4\n",
    "np.random.seed(56)\n",
    "##\n",
    "times1 = np.arange(N)\n",
    "times1 = times1 + np.random.random(N)\n",
    "times1 = np.sort(times1)\n",
    "\n",
    "times2 = np.random.choice(times1, NUM_MATCHES, replace=False)\n",
    "times2 = times2 + np.random.random(NUM_MATCHES) * DELTA\n",
    "times2 = np.concatenate((times2, np.arange(N*3, N*3+(N-NUM_MATCHES))))\n",
    "times2 = np.sort(times2)\n",
    "\n",
    "test_case(times1, times2, NUM_MATCHES)"
   ]
  },
  {
   "cell_type": "code",
   "execution_count": null,
   "metadata": {},
   "outputs": [],
   "source": []
  }
 ],
 "metadata": {
  "kernelspec": {
   "display_name": "Python 3 (ipykernel)",
   "language": "python",
   "name": "python3"
  },
  "language_info": {
   "codemirror_mode": {
    "name": "ipython",
    "version": 3
   },
   "file_extension": ".py",
   "mimetype": "text/x-python",
   "name": "python",
   "nbconvert_exporter": "python",
   "pygments_lexer": "ipython3",
   "version": "3.7.16"
  },
  "orig_nbformat": 4
 },
 "nbformat": 4,
 "nbformat_minor": 2
}
