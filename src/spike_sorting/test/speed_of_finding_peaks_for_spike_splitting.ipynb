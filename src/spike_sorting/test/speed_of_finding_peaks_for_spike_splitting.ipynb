{
 "cells": [
  {
   "cell_type": "code",
   "execution_count": 24,
   "metadata": {},
   "outputs": [
    {
     "name": "stdout",
     "output_type": "stream",
     "text": [
      "2\n"
     ]
    },
    {
     "data": {
      "text/plain": [
       "array([0, 1, 0, 0, 0, 0, 0, 0, 1, 0, 0, 0, 1, 0, 0, 1, 1, 1, 0, 0])"
      ]
     },
     "execution_count": 24,
     "metadata": {},
     "output_type": "execute_result"
    }
   ],
   "source": [
    "import numpy as np\n",
    "import timeit\n",
    "\n",
    "def check_condition_2d(array, threshold):\n",
    "    \"\"\"THIS DOES NOT WORK\"\"\"\n",
    "    above_threshold = array > threshold\n",
    "\n",
    "    # Find indices where values are above the threshold in each row\n",
    "    above_threshold_indices = np.where(above_threshold)\n",
    "\n",
    "    # Calculate differences between consecutive indices\n",
    "    diff_indices = np.diff(above_threshold_indices[1])\n",
    "\n",
    "    # Find where there are two consecutive indices with a difference larger than 1\n",
    "    valid_indices = np.where(diff_indices > 1)[0]\n",
    "\n",
    "    # Check if there is any valid range where the values between A and B are below the threshold\n",
    "    if valid_indices.size > 0:\n",
    "        start_idx = above_threshold_indices[1][valid_indices[0]] + 1\n",
    "        end_idx = above_threshold_indices[1][valid_indices[0] + 1]\n",
    "        print(above_threshold_indices[1])\n",
    "\n",
    "        # Check the condition for each row\n",
    "        count = np.sum(array[np.arange(array.shape[0]), start_idx:end_idx] < threshold, axis=1)\n",
    "        return count\n",
    "\n",
    "    return 0\n",
    "\n",
    "# Generate a random 2D array with shape (20, 30)\n",
    "random_array = np.random.randint(0, 10, size=(20, 30))\n",
    "LOOSE_THRESH = 5\n",
    "\n",
    "# Measure the execution time\n",
    "# execution_time = timeit.timeit(lambda: check_condition_2d(random_array, LOOSE_THRESH), number=10000)\n",
    "# print(f\"Average execution time: {execution_time / 10000:.8f} seconds\")\n",
    "check_condition_2d(random_array, LOOSE_THRESH)"
   ]
  },
  {
   "cell_type": "code",
   "execution_count": 19,
   "metadata": {},
   "outputs": [
    {
     "data": {
      "text/plain": [
       "0"
      ]
     },
     "execution_count": 19,
     "metadata": {},
     "output_type": "execute_result"
    }
   ],
   "source": [
    "check_condition_2d(np.array([\n",
    "    [0, 0, 5, 0, 5],\n",
    "]), LOOSE_THRESH)"
   ]
  },
  {
   "cell_type": "code",
   "execution_count": 82,
   "metadata": {},
   "outputs": [
    {
     "name": "stdout",
     "output_type": "stream",
     "text": [
      "Average execution time: 0.00001717 s\n"
     ]
    }
   ],
   "source": [
    "def test(elec_probs):\n",
    "    # best_count = 0\n",
    "    # for probs in elec_probs:\n",
    "    #     cur_count = 0\n",
    "    #     cross_i = 0\n",
    "    #     below_thresh = False\n",
    "    #     for i, p in enumerate(probs):\n",
    "            \n",
    "            \n",
    "    #         if p >= LOOSE_THRESH:\n",
    "    #             cross_i = i\n",
    "    #             if not below_thresh:\n",
    "    #                 best_count = max(cur_count, best_count)\n",
    "    #             else:\n",
    "    #                 cur_count += 1\n",
    "    #                 below_thresh = False\n",
    "    #         else:\n",
    "    #             below_thresh = True\n",
    "    \n",
    "    above_thresh = elec_probs >= LOOSE_THRESH\n",
    "    peaks = above_thresh[:, :-1] & ~above_thresh[:, 1:]\n",
    "    num_spikes = np.sum(peaks, axis=1) + above_thresh[:, -1]  # above_thresh[:, -1] to account for a peak not going below LOOSE_THRESH due to window ending \n",
    "    num_spikes = np.max(num_spikes)\n",
    "    return num_spikes\n",
    "    # print(num_spikes)\n",
    "    # return max(0, np.max(num_above_thresh - 1))\n",
    "                \n",
    "execution_time = timeit.timeit(lambda: test(random_array), number=10000)\n",
    "print(f\"Average execution time: {execution_time / 10000:.8f} s\")\n",
    "\n",
    "# test(np.array([\n",
    "#     [0, 0, 0, 5, 5, 0],  # 1\n",
    "#     [0, 5, 0, 5, 0, 0],  # 2\n",
    "#     [5, 0, 0, 0, 0, 0],  # 1\n",
    "#     [0, 0, 0, 0, 0, 0],  # 0\n",
    "#     [0, 0, 0, 5, 5, 5],  # 1\n",
    "#     [5, 0, 0, 5, 5, 5],  # 2\n",
    "#     [0, 5, 0, 5, 5, 5]  # 2\n",
    "# ]))"
   ]
  },
  {
   "cell_type": "code",
   "execution_count": 81,
   "metadata": {},
   "outputs": [
    {
     "name": "stdout",
     "output_type": "stream",
     "text": [
      "[1, 3, 0, 2, 3, 2, 3, 6, 4, 1]\n",
      "[6, 4, 3, 3, 3, 2, 2, 1, 1, 0]\n"
     ]
    }
   ],
   "source": [
    "class Test:\n",
    "    def __init__(self) -> None:\n",
    "        self.value = np.random.randint(0, 9)\n",
    "        \n",
    "test = [Test() for _ in range(10)]\n",
    "print([t.value for t in test])\n",
    "test = sorted(test, key=lambda spike: spike.value, reverse=True)\n",
    "print([t.value for t in test])"
   ]
  },
  {
   "cell_type": "code",
   "execution_count": 29,
   "metadata": {},
   "outputs": [
    {
     "name": "stdout",
     "output_type": "stream",
     "text": [
      "Average execution time: 0.27503796 ms\n"
     ]
    }
   ],
   "source": [
    "from scipy.signal import find_peaks\n",
    "execution_time = timeit.timeit(lambda: [find_peaks(row, LOOSE_THRESH) for row in random_array], number=10000)\n",
    "print(f\"Average execution time: {execution_time / 10000 * 1000:.8f} ms\")"
   ]
  },
  {
   "cell_type": "code",
   "execution_count": 33,
   "metadata": {},
   "outputs": [
    {
     "name": "stdout",
     "output_type": "stream",
     "text": [
      "Average execution time: 0.00540069 ms\n"
     ]
    }
   ],
   "source": [
    "execution_time = timeit.timeit(lambda: test(random_array), number=10000)\n",
    "print(f\"Average execution time: {execution_time / 10000 * 1000:.8f} ms\")"
   ]
  }
 ],
 "metadata": {
  "kernelspec": {
   "display_name": "prop",
   "language": "python",
   "name": "python3"
  },
  "language_info": {
   "codemirror_mode": {
    "name": "ipython",
    "version": 3
   },
   "file_extension": ".py",
   "mimetype": "text/x-python",
   "name": "python",
   "nbconvert_exporter": "python",
   "pygments_lexer": "ipython3",
   "version": "3.7.16"
  }
 },
 "nbformat": 4,
 "nbformat_minor": 2
}
