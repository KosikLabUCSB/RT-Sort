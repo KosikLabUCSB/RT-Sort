{
 "cells": [
  {
   "attachments": {},
   "cell_type": "markdown",
   "metadata": {},
   "source": [
    "## Objective\n",
    "Explore .nwb files"
   ]
  },
  {
   "cell_type": "code",
   "execution_count": 9,
   "metadata": {},
   "outputs": [],
   "source": [
    "RECORDING_PATH = \"/data/MEAprojects/dandi/sub-CGM1_ses-CGM1-0um-181130-112307_ecephys.nwb\""
   ]
  },
  {
   "cell_type": "code",
   "execution_count": 10,
   "metadata": {},
   "outputs": [],
   "source": [
    "from pynwb import NWBHDF5IO, NWBFile, TimeSeries"
   ]
  },
  {
   "cell_type": "code",
   "execution_count": 11,
   "metadata": {},
   "outputs": [],
   "source": [
    "with NWBHDF5IO(RECORDING_PATH, \"r\") as io:\n",
    "    nwb_file = io.read()"
   ]
  },
  {
   "cell_type": "code",
   "execution_count": 12,
   "metadata": {},
   "outputs": [
    {
     "data": {
      "text/plain": [
       "root pynwb.file.NWBFile at 0x140516429734736\n",
       "Fields:\n",
       "  acquisition: {\n",
       "    Accelerometer <class 'pynwb.base.TimeSeries'>,\n",
       "    ElectricalSeriesRaw <class 'pynwb.ecephys.ElectricalSeries'>,\n",
       "    GlucoseLevel <class 'pynwb.base.TimeSeries'>\n",
       "  }\n",
       "  devices: {\n",
       "    IntanDevice <class 'pynwb.device.Device'>,\n",
       "    Medtronic iPro2 CGM <class 'pynwb.device.Device'>\n",
       "  }\n",
       "  electrode_groups: {\n",
       "    Group1 <class 'pynwb.ecephys.ElectrodeGroup'>,\n",
       "    Group2 <class 'pynwb.ecephys.ElectrodeGroup'>,\n",
       "    Group3 <class 'pynwb.ecephys.ElectrodeGroup'>,\n",
       "    Group4 <class 'pynwb.ecephys.ElectrodeGroup'>\n",
       "  }\n",
       "  electrodes: electrodes <class 'hdmf.common.table.DynamicTable'>\n",
       "  experiment_description: Experiment condition 'ripple/glucose recording' with surgery condition 'rCA1'.\n",
       "  experimenter: ['Tingley, David' 'McClain, Kathryn' 'Kaya, Ekin' 'Carpenter, Jordan'\n",
       " 'Buzsáki, György']\n",
       "  file_create_date: [datetime.datetime(2022, 4, 24, 5, 1, 7, 926126, tzinfo=tzutc())]\n",
       "  identifier: 57989eae-ca57-4a4d-92f2-d723096a89cf\n",
       "  institution: NYU\n",
       "  lab: Buzsáki\n",
       "  processing: {\n",
       "    behavior <class 'pynwb.base.ProcessingModule'>,\n",
       "    ecephys <class 'pynwb.base.ProcessingModule'>\n",
       "  }\n",
       "  related_publications: ['https://doi.org/10.1038/s41586-021-03811-w']\n",
       "  session_description: no description\n",
       "  session_id: CGM1_0um_181130_112307\n",
       "  session_start_time: 2018-11-29 18:15:00+00:00\n",
       "  subject: subject pynwb.file.Subject at 0x140516429574032\n",
       "Fields:\n",
       "  description: A total of 45 adult Long Evans rats were used in this study. Five were used for the hippocampal and lateral septal  in vivo recordings26. Ten rats were used for chronic electrophysiological recordings paired with glucose  monitoring. Eight rats were used for optogenetic induction of SPW-Rs and glucose monitoring. Six rats were used for  the DREADD experiment, and seven rats were used as controls for this experiment. Three additional rats were used  for simultaneous dorsal and ventral hippocampus recordings. Six additional rats were used for the posterior  parietal cortex (PPC) optogenetic stimulation control experiments. Sample sizes were selected to match cohort  sizes where applicable.\n",
       "\n",
       "  sex: U\n",
       "  species: Rattus norvegicus\n",
       "  strain: Long Evans\n",
       "  subject_id: CGM1\n",
       "\n",
       "  timestamps_reference_time: 2018-11-29 18:15:00+00:00"
      ]
     },
     "execution_count": 12,
     "metadata": {},
     "output_type": "execute_result"
    }
   ],
   "source": [
    "nwb_file"
   ]
  },
  {
   "cell_type": "code",
   "execution_count": 13,
   "metadata": {},
   "outputs": [
    {
     "data": {
      "text/plain": [
       "root pynwb.file.NWBFile at 0x140516429734736\n",
       "Fields:\n",
       "  acquisition: {\n",
       "    Accelerometer <class 'pynwb.base.TimeSeries'>,\n",
       "    ElectricalSeriesRaw <class 'pynwb.ecephys.ElectricalSeries'>,\n",
       "    GlucoseLevel <class 'pynwb.base.TimeSeries'>\n",
       "  }\n",
       "  devices: {\n",
       "    IntanDevice <class 'pynwb.device.Device'>,\n",
       "    Medtronic iPro2 CGM <class 'pynwb.device.Device'>\n",
       "  }\n",
       "  electrode_groups: {\n",
       "    Group1 <class 'pynwb.ecephys.ElectrodeGroup'>,\n",
       "    Group2 <class 'pynwb.ecephys.ElectrodeGroup'>,\n",
       "    Group3 <class 'pynwb.ecephys.ElectrodeGroup'>,\n",
       "    Group4 <class 'pynwb.ecephys.ElectrodeGroup'>\n",
       "  }\n",
       "  electrodes: electrodes <class 'hdmf.common.table.DynamicTable'>\n",
       "  experiment_description: Experiment condition 'ripple/glucose recording' with surgery condition 'rCA1'.\n",
       "  experimenter: ['Tingley, David' 'McClain, Kathryn' 'Kaya, Ekin' 'Carpenter, Jordan'\n",
       " 'Buzsáki, György']\n",
       "  file_create_date: [datetime.datetime(2022, 4, 24, 5, 1, 7, 926126, tzinfo=tzutc())]\n",
       "  identifier: 57989eae-ca57-4a4d-92f2-d723096a89cf\n",
       "  institution: NYU\n",
       "  lab: Buzsáki\n",
       "  processing: {\n",
       "    behavior <class 'pynwb.base.ProcessingModule'>,\n",
       "    ecephys <class 'pynwb.base.ProcessingModule'>\n",
       "  }\n",
       "  related_publications: ['https://doi.org/10.1038/s41586-021-03811-w']\n",
       "  session_description: no description\n",
       "  session_id: CGM1_0um_181130_112307\n",
       "  session_start_time: 2018-11-29 18:15:00+00:00\n",
       "  subject: subject pynwb.file.Subject at 0x140516429574032\n",
       "Fields:\n",
       "  description: A total of 45 adult Long Evans rats were used in this study. Five were used for the hippocampal and lateral septal  in vivo recordings26. Ten rats were used for chronic electrophysiological recordings paired with glucose  monitoring. Eight rats were used for optogenetic induction of SPW-Rs and glucose monitoring. Six rats were used for  the DREADD experiment, and seven rats were used as controls for this experiment. Three additional rats were used  for simultaneous dorsal and ventral hippocampus recordings. Six additional rats were used for the posterior  parietal cortex (PPC) optogenetic stimulation control experiments. Sample sizes were selected to match cohort  sizes where applicable.\n",
       "\n",
       "  sex: U\n",
       "  species: Rattus norvegicus\n",
       "  strain: Long Evans\n",
       "  subject_id: CGM1\n",
       "\n",
       "  timestamps_reference_time: 2018-11-29 18:15:00+00:00"
      ]
     },
     "execution_count": 13,
     "metadata": {},
     "output_type": "execute_result"
    }
   ],
   "source": [
    "nwb_file"
   ]
  },
  {
   "cell_type": "code",
   "execution_count": null,
   "metadata": {},
   "outputs": [],
   "source": []
  }
 ],
 "metadata": {
  "kernelspec": {
   "display_name": "Python 3 (ipykernel)",
   "language": "python",
   "name": "python3"
  },
  "language_info": {
   "codemirror_mode": {
    "name": "ipython",
    "version": 3
   },
   "file_extension": ".py",
   "mimetype": "text/x-python",
   "name": "python",
   "nbconvert_exporter": "python",
   "pygments_lexer": "ipython3",
   "version": "3.7.16"
  },
  "orig_nbformat": 4
 },
 "nbformat": 4,
 "nbformat_minor": 2
}
