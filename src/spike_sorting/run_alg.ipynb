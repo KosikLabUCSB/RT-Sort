{
 "cells": [
  {
   "cell_type": "markdown",
   "source": [
    "## Objective\n",
    "Run propagation signal algorithm and perform initial analysis"
   ],
   "metadata": {
    "collapsed": false,
    "pycharm": {
     "name": "#%% md\n"
    }
   }
  },
  {
   "cell_type": "code",
   "execution_count": 20,
   "outputs": [
    {
     "name": "stdout",
     "output_type": "stream",
     "text": [
      "The autoreload extension is already loaded. To reload it, use:\n",
      "  %reload_ext autoreload\n"
     ]
    }
   ],
   "source": [
    "# region Set up notebook imports\n",
    "%load_ext autoreload\n",
    "%autoreload\n",
    "# Allow for imports of other scripts\n",
    "import sys\n",
    "PATH = \"/data/MEAprojects/PropSignal\"\n",
    "if PATH not in sys.path:\n",
    "    sys.path.append(PATH)\n",
    "# Reload a module after changes have been made\n",
    "from importlib import reload\n",
    "# endregion\n",
    "\n",
    "import numpy as np\n",
    "from pathlib import Path\n",
    "\n",
    "from sorters import PropSignal"
   ],
   "metadata": {
    "collapsed": false,
    "pycharm": {
     "name": "#%%\n"
    }
   }
  },
  {
   "cell_type": "code",
   "execution_count": 2,
   "outputs": [],
   "source": [
    "# Load spike times\n",
    "# For 5RMS thresh crossing inputs, check src/analysis/deprecated/si, to rewrite this, rename \"get_inputs_from_maxwell\" to just \"inputs\"\n",
    "SPIKE_TIMES_PATH = Path(\"/data/MEAprojects/dandi/000034/sub-mouse412804/prop_signal/thresh_crossings_5_neg_only.npy\")\n",
    "##\n",
    "SPIKE_TIMES = np.load(SPIKE_TIMES_PATH, allow_pickle=True)\n",
    "##\n",
    "SPIKE_TIMES = PropSignal.format_thresh_crossings(SPIKE_TIMES)"
   ],
   "metadata": {
    "collapsed": false,
    "pycharm": {
     "name": "#%%\n"
    }
   }
  },
  {
   "cell_type": "code",
   "execution_count": 12,
   "outputs": [],
   "source": [
    "## Load example spike times\n",
    "# from scipy.io import loadmat\n",
    "# SPIKE_TIMES = loadmat(\"/data/MEAprojects/PropSignal/data/example/example_data.mat\")[\"spike_times\"][0, :]\n",
    "# SPIKE_TIMES = np.array([a[0, :] if a.size > 0 else np.array([]) for a in SPIKE_TIMES], dtype=object)\n",
    "# spike_times = SPIKE_TIMES"
   ],
   "metadata": {
    "collapsed": false,
    "pycharm": {
     "name": "#%%\n"
    }
   }
  },
  {
   "cell_type": "code",
   "execution_count": 4,
   "outputs": [],
   "source": [
    "# Convert spike times to milliseconds (None for no conversion, or just don't run the cell)\n",
    "SAMPLING_FREQ = None  # in kHz\n",
    "##\n",
    "if SAMPLING_FREQ is not None:\n",
    "    spike_times = np.array([st / SAMPLING_FREQ for st in SPIKE_TIMES], dtype=object)\n",
    "else:\n",
    "    spike_times = SPIKE_TIMES"
   ],
   "metadata": {
    "collapsed": false,
    "pycharm": {
     "name": "#%%\n"
    }
   }
  },
  {
   "cell_type": "code",
   "execution_count": 15,
   "outputs": [],
   "source": [
    "%autoreload\n",
    "from sorters import PropSignal\n",
    "\n",
    "SAVE_PATH = SPIKE_TIMES_PATH.parent / \"versions/1\"\n",
    "ALG_PARAMS_V1 = {\n",
    "    \"thres_freq\": 1,\n",
    "    \"seconds_recording\": 900,\n",
    "    \"thres_number_spikes\": None,\n",
    "    \"ratio\": 0.5,\n",
    "    \"thres_cooccurrences\": 250,\n",
    "    \"p\": 50,\n",
    "\n",
    "    \"small_window\": 0.5,\n",
    "    \"big_window\": 2,\n",
    "    \"ccg_before\": 1.5,\n",
    "    \"ccg_after\": 1.5,\n",
    "    \"ccg_n_bins\": 91,\n",
    "}\n",
    "ALG_PARAMS_V2 = {\n",
    "    \"thresh_freq\": 1,\n",
    "    \"seconds_recording\": 180,\n",
    "    \"thresh_number_spikes\": None,\n",
    "    \"ratio\": 0.5,\n",
    "    \"thresh_cooccurrences_num\": 50,\n",
    "    \"thresh_cooccurrences_p\": 50,\n",
    "    \"p\": 50,\n",
    "\n",
    "    \"small_window\": 0.5,\n",
    "    \"big_window\": 2,\n",
    "    \"ccg_before\": 1.5,\n",
    "    \"ccg_after\": 1.5,\n",
    "    \"ccg_n_bins\": 61,\n",
    "}\n",
    "##\n",
    "prop_signals = PropSignal.run(SAVE_PATH, 1, spike_times, **ALG_PARAMS_V1)"
   ],
   "metadata": {
    "collapsed": false,
    "pycharm": {
     "name": "#%%\n"
    }
   }
  },
  {
   "cell_type": "code",
   "execution_count": 16,
   "outputs": [
    {
     "name": "stdout",
     "output_type": "stream",
     "text": [
      "Num propagations: 51\n"
     ]
    }
   ],
   "source": [
    "print(f\"Num propagations: {len(prop_signals)}\")"
   ],
   "metadata": {
    "collapsed": false,
    "pycharm": {
     "name": "#%%\n"
    }
   }
  },
  {
   "cell_type": "code",
   "execution_count": null,
   "outputs": [],
   "source": [
    "test = np.load(\"/data/MEAprojects/dandi/000034/sub-mouse412804/prop_signal/old_testing/list_of_propagation_final.npy\", allow_pickle=True)\n",
    "len(test)"
   ],
   "metadata": {
    "collapsed": false,
    "pycharm": {
     "name": "#%%\n",
     "is_executing": true
    }
   }
  },
  {
   "cell_type": "code",
   "execution_count": 26,
   "outputs": [],
   "source": [
    "# Save propagations\n",
    "ROOT_SAVE_PATH = \"/data/MEAprojects/PropSignal/data/example/default\"  # Path(SPIKE_TIMES_PATH).parent / \"prop_signal/default\"\n",
    "##\n",
    "path_root = Path(ROOT_SAVE_PATH)\n",
    "path_root.mkdir(parents=True, exist_ok=False)\n",
    "np.save(str(path_root / \"propagations.npy\"), np.array(list_of_propagation, dtype=object))\n",
    "np.save(str(path_root / \"propagating_times.npy\"), np.array(propagating_times, dtype=object))\n",
    "with open(path_root / \"params.json\", \"w\") as f:\n",
    "    json.dump(ALG_PARAMS, f)"
   ],
   "metadata": {
    "collapsed": false,
    "pycharm": {
     "name": "#%%\n"
    }
   }
  },
  {
   "cell_type": "markdown",
   "source": [
    "## Investigation\n",
    "Objective: To investigate propagations with plots"
   ],
   "metadata": {
    "collapsed": false,
    "pycharm": {
     "name": "#%% md\n"
    }
   }
  },
  {
   "cell_type": "code",
   "execution_count": 42,
   "outputs": [],
   "source": [
    "# Load propagation data\n",
    "prop_signals = PropSignal(\"ROOT_SAVE_PATH\", elec_idx=-1)"
   ],
   "metadata": {
    "collapsed": false,
    "pycharm": {
     "name": "#%%\n"
    }
   }
  },
  {
   "cell_type": "code",
   "execution_count": 43,
   "outputs": [
    {
     "name": "stdout",
     "output_type": "stream",
     "text": [
      "/data/MEAprojects/DLSpikeSorter/2950/data.raw.h5\n"
     ]
    }
   ],
   "source": [
    "# Set params needed for most cells\n",
    "REC_PATH = \"/data/MEAprojects/DLSpikeSorter/2950/data.raw.h5\"\n",
    "print(REC_PATH)"
   ],
   "metadata": {
    "collapsed": false,
    "pycharm": {
     "name": "#%%\n"
    }
   }
  },
  {
   "cell_type": "code",
   "execution_count": null,
   "outputs": [],
   "source": [
    "## Plot individual propagations\n",
    "# prop_signals.plot_prop(14, REC_PATH)\n",
    "prop_signals.plot_props_all(REC_PATH,\n",
    "                            xlim_buffer=200, ylim_buffer=200)"
   ],
   "metadata": {
    "collapsed": false,
    "pycharm": {
     "name": "#%%\n"
    }
   }
  },
  {
   "cell_type": "code",
   "execution_count": 25,
   "outputs": [
    {
     "data": {
      "text/plain": "<Figure size 640x480 with 1 Axes>",
      "image/png": "[encoded data removed]"
     },
     "metadata": {},
     "output_type": "display_data"
    }
   ],
   "source": [
    "## Plot spikes detected by propagations\n",
    "prop_signals.plot_activity_map(REC_PATH)"
   ],
   "metadata": {
    "collapsed": false,
    "pycharm": {
     "name": "#%%\n"
    }
   }
  },
  {
   "cell_type": "code",
   "execution_count": 13,
   "outputs": [
    {
     "data": {
      "text/plain": "<Figure size 640x480 with 1 Axes>",
      "image/png": "[encoded data removed]"
     },
     "metadata": {},
     "output_type": "display_data"
    },
    {
     "name": "stdout",
     "output_type": "stream",
     "text": [
      "1% ISI Viol Pass/Total: 24/35\n",
      "[ 0  1  5  6  7  9 10 11 12 13 14 16 17 18 23 24 25 26 27 28 29 30 31 33]\n"
     ]
    }
   ],
   "source": [
    "# Plot ISI-violation distribution\n",
    "CURATE_THRESHOLD = 1  # Max percent of ISI violations for curation\n",
    "##\n",
    "%autoreload\n",
    "isis = prop_signals.plot_isis(bins=range(10))\n",
    "print(f\"{CURATE_THRESHOLD}% ISI Viol Pass/Total: {sum(1 for isi in isis if isi <= CURATE_THRESHOLD)}/{len(isis)}\")\n",
    "print(np.flatnonzero(np.array(isis) <= CURATE_THRESHOLD))"
   ],
   "metadata": {
    "collapsed": false,
    "pycharm": {
     "name": "#%%\n"
    }
   }
  },
  {
   "cell_type": "code",
   "execution_count": null,
   "outputs": [],
   "source": [],
   "metadata": {
    "collapsed": false,
    "pycharm": {
     "name": "#%%\n"
    }
   }
  }
 ],
 "metadata": {
  "kernelspec": {
   "display_name": "Python 3",
   "language": "python",
   "name": "python3"
  },
  "language_info": {
   "codemirror_mode": {
    "name": "ipython",
    "version": 2
   },
   "file_extension": ".py",
   "mimetype": "text/x-python",
   "name": "python",
   "nbconvert_exporter": "python",
   "pygments_lexer": "ipython2",
   "version": "2.7.6"
  }
 },
 "nbformat": 4,
 "nbformat_minor": 0
}