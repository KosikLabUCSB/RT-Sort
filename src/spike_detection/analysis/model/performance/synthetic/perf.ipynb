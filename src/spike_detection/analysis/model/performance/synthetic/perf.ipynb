{
 "cells": [
  {
   "attachments": {},
   "cell_type": "markdown",
   "metadata": {},
   "source": [
    "## Objective\n",
    "Test model's performance"
   ]
  },
  {
   "cell_type": "code",
   "execution_count": 1,
   "metadata": {},
   "outputs": [],
   "source": [
    "%load_ext autoreload\n",
    "%autoreload 2\n",
    "import torch\n",
    "\n",
    "from model import ModelSpikeSorter\n",
    "from data import RecordingCrossVal\n",
    "from utils import random_seed\n",
    "import meta"
   ]
  },
  {
   "cell_type": "code",
   "execution_count": 2,
   "metadata": {},
   "outputs": [],
   "source": [
    "CROSS_VAL = RecordingCrossVal(\n",
    "    samples_per_waveform=1, front_buffer=40, end_buffer=40,\n",
    "    num_wfs_probs=[0.8165, 0.1529, 0.0259, 0.004, 0.0006, 0.0001], isi_wf_min=5, isi_wf_max=None,\n",
    "    rec_paths=meta.SI_MOUSE[:], thresh_amp=0, thresh_std=0.6,\n",
    "    sample_size=200, start=0, ms_before=3, ms_after=3, gain_to_uv=meta.GAIN_TO_UV,\n",
    "    device=\"cuda\", dtype=torch.float16, mmap_mode=\"r\",\n",
    "    as_datasets=False,\n",
    "    num_workers=0, shuffle=True, batch_size=1\n",
    ")"
   ]
  },
  {
   "cell_type": "code",
   "execution_count": 3,
   "metadata": {},
   "outputs": [
    {
     "name": "stdout",
     "output_type": "stream",
     "text": [
      "Val Recording: probe_773592320 - Train: 5991 samples - Val: 1973 - Train/Val: 32.9%\n"
     ]
    }
   ],
   "source": [
    "REC, TRAIN, VAL = CROSS_VAL[2]\n",
    "CROSS_VAL.summarize(REC, TRAIN, VAL)"
   ]
  },
  {
   "cell_type": "code",
   "execution_count": null,
   "metadata": {},
   "outputs": [
    {
     "name": "stdout",
     "output_type": "stream",
     "text": [
      "Using random seed 101\n",
      "Prob Thresh: 2.5%: Loss: 0.489 | WF Detected: 304.0% | Accuracy: 99.6% | Recall: 96.3% | Precision: 31.7% | F1 Score: 47.7% | Loc MAD: 0.37 frames = 0.0122 ms\n",
      "F1 Score: 47.7\n",
      "\n",
      "Prob Thresh: 5.0%: Loss: 0.489 | WF Detected: 212.4% | Accuracy: 99.8% | Recall: 94.9% | Precision: 44.7% | F1 Score: 60.7% | Loc MAD: 0.36 frames = 0.0120 ms\n",
      "F1 Score: 60.7\n",
      "\n",
      "Prob Thresh: 7.5%: Loss: 0.489 | WF Detected: 175.5% | Accuracy: 99.8% | Recall: 93.2% | Precision: 53.1% | F1 Score: 67.7% | Loc MAD: 0.36 frames = 0.0119 ms\n",
      "F1 Score: 67.7\n",
      "\n",
      "Prob Thresh: 10.0%: Loss: 0.489 | WF Detected: 152.8% | Accuracy: 99.9% | Recall: 90.9% | Precision: 59.5% | F1 Score: 71.9% | Loc MAD: 0.34 frames = 0.0114 ms\n",
      "F1 Score: 71.9\n",
      "\n",
      "Prob Thresh: 12.5%: Loss: 0.489 | WF Detected: 139.5% | Accuracy: 99.9% | Recall: 89.3% | Precision: 64.0% | F1 Score: 74.5% | Loc MAD: 0.34 frames = 0.0112 ms\n",
      "F1 Score: 74.5\n",
      "\n",
      "Prob Thresh: 15.0%: Loss: 0.489 | WF Detected: 126.9% | Accuracy: 99.9% | Recall: 88.1% | Precision: 69.4% | F1 Score: 77.7% | Loc MAD: 0.33 frames = 0.0110 ms\n",
      "F1 Score: 77.7\n",
      "\n",
      "Prob Thresh: 17.5%: Loss: 0.489 | WF Detected: 118.2% | Accuracy: 99.9% | Recall: 87.4% | Precision: 73.9% | F1 Score: 80.1% | Loc MAD: 0.32 frames = 0.0108 ms\n",
      "F1 Score: 80.1\n",
      "\n",
      "Prob Thresh: 20.0%: Loss: 0.489 | WF Detected: 111.0% | Accuracy: 99.9% | Recall: 86.7% | Precision: 78.1% | F1 Score: 82.2% | Loc MAD: 0.32 frames = 0.0105 ms\n",
      "F1 Score: 82.2\n",
      "\n",
      "Prob Thresh: 22.5%: Loss: 0.489 | WF Detected: 106.5% | Accuracy: 99.9% | Recall: 86.0% | Precision: 80.7% | F1 Score: 83.3% | Loc MAD: 0.32 frames = 0.0105 ms\n",
      "F1 Score: 83.3\n",
      "\n",
      "Prob Thresh: 25.0%: Loss: 0.489 | WF Detected: 102.8% | Accuracy: 99.9% | Recall: 85.0% | Precision: 82.7% | F1 Score: 83.9% | Loc MAD: 0.30 frames = 0.0102 ms\n",
      "F1 Score: 83.9\n",
      "\n",
      "Prob Thresh: 27.5%: Loss: 0.489 | WF Detected: 100.0% | Accuracy: 99.9% | Recall: 84.1% | Precision: 84.1% | F1 Score: 84.1% | Loc MAD: 0.29 frames = 0.0098 ms\n",
      "F1 Score: 84.1\n",
      "\n",
      "Prob Thresh: 30.0%: Loss: 0.489 | WF Detected: 95.6% | Accuracy: 99.9% | Recall: 82.7% | Precision: 86.6% | F1 Score: 84.6% | Loc MAD: 0.29 frames = 0.0096 ms\n",
      "F1 Score: 84.6\n",
      "\n",
      "Prob Thresh: 32.5%: Loss: 0.489 | WF Detected: 92.5% | Accuracy: 99.9% | Recall: 81.3% | Precision: 87.9% | F1 Score: 84.5% | Loc MAD: 0.29 frames = 0.0096 ms\n",
      "F1 Score: 84.5\n",
      "\n",
      "Prob Thresh: 35.0%: Loss: 0.489 | WF Detected: 90.0% | Accuracy: 99.9% | Recall: 79.4% | Precision: 88.3% | F1 Score: 83.6% | Loc MAD: 0.27 frames = 0.0091 ms\n",
      "F1 Score: 83.6\n",
      "\n",
      "Prob Thresh: 37.5%: Loss: 0.489 | WF Detected: 85.3% | Accuracy: 99.9% | Recall: 77.3% | Precision: 90.7% | F1 Score: 83.5% | Loc MAD: 0.25 frames = 0.0085 ms\n",
      "F1 Score: 83.5\n",
      "\n",
      "Prob Thresh: 40.0%: Loss: 0.489 | WF Detected: 82.9% | Accuracy: 99.9% | Recall: 75.9% | Precision: 91.5% | F1 Score: 83.0% | Loc MAD: 0.24 frames = 0.0080 ms\n",
      "F1 Score: 83.0\n",
      "\n",
      "Prob Thresh: 42.5%: Loss: 0.489 | WF Detected: 79.4% | Accuracy: 99.9% | Recall: 73.6% | Precision: 92.6% | F1 Score: 82.0% | Loc MAD: 0.23 frames = 0.0076 ms\n",
      "F1 Score: 82.0\n",
      "\n",
      "Prob Thresh: 45.0%: Loss: 0.489 | WF Detected: 74.8% | Accuracy: 99.9% | Recall: 70.1% | Precision: 93.8% | F1 Score: 80.2% | Loc MAD: 0.21 frames = 0.0069 ms\n",
      "F1 Score: 80.2\n",
      "\n",
      "Prob Thresh: 47.5%: Loss: 0.489 | WF Detected: 72.4% | Accuracy: 99.9% | Recall: 68.2% | Precision: 94.2% | F1 Score: 79.1% | Loc MAD: 0.20 frames = 0.0067 ms\n",
      "F1 Score: 79.1\n",
      "\n",
      "Prob Thresh: 50.0%: Loss: 0.489 | WF Detected: 69.9% | Accuracy: 99.9% | Recall: 65.7% | Precision: 94.0% | F1 Score: 77.3% | Loc MAD: 0.19 frames = 0.0063 ms\n",
      "F1 Score: 77.3\n",
      "\n",
      "Best thresh: 30.0%\n",
      "Val: Loss: 0.480 | WF Detected: 102.7% | Accuracy: 99.9% | Recall: 87.0% | Precision: 84.7% | F1 Score: 85.8% | Loc MAD: 0.24 frames = 0.0081 ms\n"
     ]
    }
   ],
   "source": [
    "# Set num_wfs_probs\n",
    "random_seed(101)\n",
    "MODEL = ModelSpikeSorter.load(\"/data/MEAprojects/buzsaki/SiegleJ/AllenInstitute_744912849/session_766640955/dl_models/230703/c\")\n",
    "MODEL.tune_loc_prob_thresh(VAL)\n",
    "\n",
    "# Find performance\n",
    "perf = MODEL.perf(VAL)\n",
    "_ = MODEL.perf_report(\"Val\", perf)"
   ]
  },
  {
   "cell_type": "code",
   "execution_count": 17,
   "metadata": {},
   "outputs": [
    {
     "name": "stdout",
     "output_type": "stream",
     "text": [
      "Using random seed 100\n",
      "Val: Loss: 0.399 | WF Detected: 90.5% | Accuracy: 100.0% | Recall: 80.3% | Precision: 88.7% | F1 Score: 84.3% | Loc MAD: 0.24 frames = 0.0079 ms\n"
     ]
    }
   ],
   "source": [
    "random_seed(100)\n",
    "MODEL = ModelSpikeSorter.load(\"/data/MEAprojects/buzsaki/SiegleJ/AllenInstitute_744912849/session_766640955/dl_models/230710/c\")\n",
    "\n",
    "# MODEL.tune_loc_prob_thresh(VAL, verbose=True)\n",
    "\n",
    "# VAL.dataset.num_wfs_probs = [0, 0, 0.5, 0.5]\n",
    "# VAL.dataset.isi_wf_max = 20\n",
    "\n",
    "perf = MODEL.perf(VAL, loc_buffer=8)\n",
    "_ = MODEL.perf_report(\"Val\", perf)"
   ]
  },
  {
   "cell_type": "code",
   "execution_count": 9,
   "metadata": {},
   "outputs": [
    {
     "data": {
      "text/plain": [
       "12.0"
      ]
     },
     "execution_count": 9,
     "metadata": {},
     "output_type": "execute_result"
    }
   ],
   "source": [
    "8/20*30"
   ]
  },
  {
   "cell_type": "code",
   "execution_count": 36,
   "metadata": {},
   "outputs": [
    {
     "data": {
      "text/plain": [
       "[0.8165, 0.1529, 0.0259, 0.004, 0.0006, 0.0001]"
      ]
     },
     "execution_count": 36,
     "metadata": {},
     "output_type": "execute_result"
    }
   ],
   "source": [
    "VAL.dataset.num_wfs_probs"
   ]
  },
  {
   "cell_type": "code",
   "execution_count": null,
   "metadata": {},
   "outputs": [],
   "source": [
    "import numpy as np"
   ]
  }
 ],
 "metadata": {
  "kernelspec": {
   "display_name": "Python 3 (ipykernel)",
   "language": "python",
   "name": "python3"
  },
  "orig_nbformat": 4
 },
 "nbformat": 4,
 "nbformat_minor": 2
}
