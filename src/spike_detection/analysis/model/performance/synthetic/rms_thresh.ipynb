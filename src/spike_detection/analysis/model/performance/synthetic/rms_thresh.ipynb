{
 "cells": [
  {
   "cell_type": "markdown",
   "metadata": {
    "collapsed": false,
    "pycharm": {
     "name": "#%% md\n"
    }
   },
   "source": [
    "## Objective\n",
    "Evaluate performance of using RMS thresh on synthetic training data\n",
    "Old version for January 2023 presentation to Prof. Kosik"
   ]
  },
  {
   "cell_type": "code",
   "execution_count": 1,
   "metadata": {
    "collapsed": false,
    "pycharm": {
     "name": "#%%\n"
    }
   },
   "outputs": [],
   "source": [
    "# %load_ext autoreload\n",
    "# %autoreload\n",
    "\n",
    "# Update PATH to allow imports\n",
    "import sys\n",
    "sys.path.append(\"/data/MEAprojects/DLSpikeSorter\")\n",
    "\n",
    "# Imports\n",
    "from src.data import RecordingCrossVal\n",
    "from src.model import ModelSpikeSorter\n",
    "from src.utils import random_seed\n",
    "import torch\n",
    "import numpy as np"
   ]
  },
  {
   "cell_type": "code",
   "execution_count": 9,
   "metadata": {
    "collapsed": false,
    "pycharm": {
     "name": "#%%\n"
    }
   },
   "outputs": [],
   "source": [
    "# Load recording cross val\n",
    "SAMPLE_SIZE = 1000  # Size of sample to get noise\n",
    "FRONT_BUFFER = 400 + 40  # Buffer to make output same shape as DL model\n",
    "END_BUFFER = 400 + 40  # Buffer to make output same shape as DL model\n",
    "##\n",
    "rec_cross_val = RecordingCrossVal(sample_size=SAMPLE_SIZE, front_buffer=FRONT_BUFFER, end_buffer=END_BUFFER,\n",
    "                                  num_wfs_probs=[0.6, 0.24, 0.12, 0.04], isi_wf_min=5, isi_wf_max=None,\n",
    "                                  thresh_amp=3, thresh_std=0.6,\n",
    "                                  samples_per_waveform=(2, 20), mmap_mode=\"r\",\n",
    "                                  device=\"cpu\", dtype=torch.float32,\n",
    "                                  batch_size=1000)"
   ]
  },
  {
   "cell_type": "code",
   "execution_count": 10,
   "metadata": {
    "collapsed": false,
    "pycharm": {
     "name": "#%%\n"
    }
   },
   "outputs": [],
   "source": [
    "# Load model\n",
    "model = ModelSpikeSorter(1, SAMPLE_SIZE, FRONT_BUFFER, END_BUFFER, 50, 0, 0, \"cpu\", None)"
   ]
  },
  {
   "cell_type": "code",
   "execution_count": 17,
   "metadata": {
    "collapsed": false,
    "pycharm": {
     "name": "#%%\n"
    }
   },
   "outputs": [
    {
     "name": "stdout",
     "output_type": "stream",
     "text": [
      "Using random seed 231\n",
      "2950: Loss: 1712.500 | WF Detected: 68.3% | Accuracy: 99.8% | Recall: 66.9% | Precision: 97.9% | F1 Score: 79.5% | Loc MAD: 0.44 frames = 0.0219 ms\n",
      "2953: Loss: 1620.333 | WF Detected: 64.3% | Accuracy: 99.7% | Recall: 62.8% | Precision: 97.6% | F1 Score: 76.4% | Loc MAD: 0.50 frames = 0.0248 ms\n",
      "2954: Loss: 1724.188 | WF Detected: 69.7% | Accuracy: 99.8% | Recall: 66.7% | Precision: 95.8% | F1 Score: 78.7% | Loc MAD: 0.57 frames = 0.0286 ms\n",
      "2957: Loss: 1496.500 | WF Detected: 61.9% | Accuracy: 99.7% | Recall: 59.0% | Precision: 95.3% | F1 Score: 72.9% | Loc MAD: 0.63 frames = 0.0314 ms\n",
      "5116: Loss: 1573.348 | WF Detected: 62.7% | Accuracy: 99.6% | Recall: 55.8% | Precision: 89.1% | F1 Score: 68.6% | Loc MAD: 0.69 frames = 0.0347 ms\n",
      "5118: Loss: 2433.333 | WF Detected: 80.9% | Accuracy: 99.9% | Recall: 80.9% | Precision: 100.0% | F1 Score: 89.4% | Loc MAD: 0.13 frames = 0.0066 ms\n"
     ]
    }
   ],
   "source": [
    "# Get performances\n",
    "random_seed(231)\n",
    "##\n",
    "perfs = []\n",
    "recs = []\n",
    "for rec, train, val in rec_cross_val:\n",
    "    perf = model.perf(val)\n",
    "    model.perf_report(rec, perf)\n",
    "    perfs.append(perf)\n",
    "    recs.append(rec)"
   ]
  },
  {
   "cell_type": "code",
   "execution_count": 18,
   "metadata": {
    "collapsed": false,
    "pycharm": {
     "name": "#%%\n"
    }
   },
   "outputs": [
    {
     "name": "stdout",
     "output_type": "stream",
     "text": [
      "Mean: Loss: 1578.917 | WF Detected: 60.3% | Accuracy: 87.3% | Recall: 58.2% | Precision: 84.4% | F1 Score: 68.7% | Loc MAD: 0.45 frames = 0.0227 ms\n",
      " STD: Loss: 549.736 | WF Detected: 21.1% | Accuracy: 33.0% | Recall: 20.2% | Precision: 30.7% | F1 Score: 24.2% | Loc MAD: 0.19 frames = 0.0094 ms\n"
     ]
    }
   ],
   "source": [
    "perfs_np = np.vstack(perfs)\n",
    "perfs.append(np.mean(perfs_np, axis=0))\n",
    "perfs.append(np.std(perfs_np, axis=0))\n",
    "recs.append(\"Mean\")\n",
    "recs.append(\"STD\")\n",
    "\n",
    "_ = model.perf_report(\"Mean\", np.mean(perfs, axis=0))\n",
    "_ = model.perf_report(\" STD\", np.std(perfs, axis=0))"
   ]
  },
  {
   "cell_type": "code",
   "execution_count": 21,
   "metadata": {
    "collapsed": false,
    "pycharm": {
     "name": "#%%\n"
    }
   },
   "outputs": [
    {
     "name": "stdout",
     "output_type": "stream",
     "text": [
      "2950,1712.5,68.30122591943957,99.77199074074075,66.9001751313485,97.94871794871794,79.50052029136316,0.43717277486910994,0.021858638743455498\n",
      "2953,1620.3333251953125,64.29699842022117,99.74337517433752,62.76987888362296,97.62489762489763,76.41025641025642,0.4966442953020134,0.024832214765100672\n",
      "2954,1724.1875,69.70387243735763,99.7576219512195,66.74259681093395,95.7516339869281,78.65771812080538,0.5722411831626849,0.028612059158134244\n",
      "2957,1496.5,61.93737769080235,99.70768229166667,59.00195694716243,95.260663507109,72.8700906344411,0.6285240464344942,0.03142620232172471\n",
      "5116,1573.3478393554688,62.67095736122285,99.63812785388127,55.83266291230893,89.08857509627728,68.64490603363008,0.6945244956772334,0.03472622478386167\n",
      "5118,2433.333251953125,80.85106382978724,99.875,80.85106382978724,100.0,89.41176470588236,0.13157894736842105,0.006578947368421052\n",
      "Mean,1760.0336527506508,67.9602492764718,99.74896633530761,65.349722419194,95.94574802732166,77.58254269939643,0.4934476238023262,0.02467238119011631\n",
      "STD,311.0987264709937,6.416133110945141,0.07130957143959778,7.980807488647375,3.435021411912514,6.432054392989821,0.18212266455420273,0.009106133227710136\n"
     ]
    }
   ],
   "source": [
    "# Copy and paste into excel and use data --> text-to-columns\n",
    "for rec, row in zip(recs, perfs):\n",
    "    print(rec+\",\"+\",\".join([str(r) for r in row]))"
   ]
  },
  {
   "cell_type": "code",
   "execution_count": 53,
   "metadata": {
    "collapsed": false,
    "pycharm": {
     "name": "#%%\n"
    }
   },
   "outputs": [],
   "source": [
    "perfs_np_thresh = np.vstack(perfs)"
   ]
  },
  {
   "cell_type": "code",
   "execution_count": 54,
   "metadata": {
    "collapsed": false,
    "pycharm": {
     "name": "#%%\n"
    }
   },
   "outputs": [
    {
     "data": {
      "text/plain": [
       "array([[1.71250000e+03, 6.83012259e+01, 9.97719907e+01, 6.69001751e+01,\n",
       "        9.79487179e+01, 7.95005203e+01, 4.37172775e-01, 2.18586387e-02],\n",
       "       [1.62033333e+03, 6.42969984e+01, 9.97433752e+01, 6.27698789e+01,\n",
       "        9.76248976e+01, 7.64102564e+01, 4.96644295e-01, 2.48322148e-02],\n",
       "       [1.72418750e+03, 6.97038724e+01, 9.97576220e+01, 6.67425968e+01,\n",
       "        9.57516340e+01, 7.86577181e+01, 5.72241183e-01, 2.86120592e-02],\n",
       "       [1.49650000e+03, 6.19373777e+01, 9.97076823e+01, 5.90019569e+01,\n",
       "        9.52606635e+01, 7.28700906e+01, 6.28524046e-01, 3.14262023e-02],\n",
       "       [1.57334784e+03, 6.26709574e+01, 9.96381279e+01, 5.58326629e+01,\n",
       "        8.90885751e+01, 6.86449060e+01, 6.94524496e-01, 3.47262248e-02],\n",
       "       [2.43333325e+03, 8.08510638e+01, 9.98750000e+01, 8.08510638e+01,\n",
       "        1.00000000e+02, 8.94117647e+01, 1.31578947e-01, 6.57894737e-03],\n",
       "       [1.76003365e+03, 6.79602493e+01, 9.97489663e+01, 6.53497224e+01,\n",
       "        9.59457480e+01, 7.75825427e+01, 4.93447624e-01, 2.46723812e-02],\n",
       "       [3.11098726e+02, 6.41613311e+00, 7.13095714e-02, 7.98080749e+00,\n",
       "        3.43502141e+00, 6.43205439e+00, 1.82122665e-01, 9.10613323e-03]])"
      ]
     },
     "execution_count": 54,
     "metadata": {},
     "output_type": "execute_result"
    }
   ],
   "source": [
    "perfs_np_thresh"
   ]
  },
  {
   "cell_type": "code",
   "execution_count": 49,
   "metadata": {
    "collapsed": false,
    "pycharm": {
     "name": "#%%\n"
    }
   },
   "outputs": [],
   "source": [
    "import pandas\n",
    "perf_model = pandas.read_csv(\"/data/MEAprojects/DLSpikeSorter/models/v0_4_4/cross_val_table_perf.csv\")\n",
    "perf_model = perf_model[[\"Loss\", \"Accuracy (%)\", \"Recall (%)\", \"Precision (%)\", \" F1 Score (%)\", \" MAD of Location (ms)\"]]"
   ]
  },
  {
   "cell_type": "code",
   "execution_count": 50,
   "metadata": {
    "collapsed": false,
    "pycharm": {
     "name": "#%%\n"
    }
   },
   "outputs": [],
   "source": [
    "perf_model_np = perf_model.to_numpy()"
   ]
  },
  {
   "cell_type": "code",
   "execution_count": 59,
   "metadata": {
    "collapsed": false,
    "pycharm": {
     "name": "#%%\n"
    }
   },
   "outputs": [],
   "source": [
    "diff = perf_model_np[:, :] - perfs_np_thresh[:, [0, 2, 3, 4, 5, 7]]"
   ]
  },
  {
   "cell_type": "code",
   "execution_count": 60,
   "metadata": {
    "collapsed": false,
    "pycharm": {
     "name": "#%%\n"
    }
   },
   "outputs": [
    {
     "data": {
      "text/plain": [
       "array([[-1.71179800e+03,  1.28009259e-01,  2.49998249e+01,\n",
       "        -1.94871795e+00,  1.43994797e+01, -1.41586387e-02],\n",
       "       [-1.61934133e+03,  1.56624826e-01,  2.44301211e+01,\n",
       "        -2.52489762e+00,  1.45897436e+01, -1.16322148e-02],\n",
       "       [-1.72345350e+03,  1.42378049e-01,  2.61574032e+01,\n",
       "        -5.16339869e-02,  1.56422819e+01, -2.01120592e-02],\n",
       "       [-1.49527700e+03,  9.23177083e-02,  2.82980431e+01,\n",
       "        -6.36066351e+00,  1.52299094e+01, -1.71262023e-02],\n",
       "       [-1.57234584e+03,  2.61872146e-01,  3.06673371e+01,\n",
       "         3.51142490e+00,  2.08550940e+01, -1.80262248e-02],\n",
       "       [-2.43303025e+03,  2.50000000e-02,  1.91489362e+01,\n",
       "        -1.43000000e+01,  2.88823529e+00, -6.57894737e-03],\n",
       "       [-1.75920765e+03,  1.51033665e-01,  2.56502776e+01,\n",
       "        -3.64574803e+00,  1.39174573e+01, -1.45723812e-02],\n",
       "       [-3.10806726e+02, -7.13095714e-02, -3.28080749e+00,\n",
       "         3.64978588e-01, -4.23205439e+00, -3.60613323e-03]])"
      ]
     },
     "execution_count": 60,
     "metadata": {},
     "output_type": "execute_result"
    }
   ],
   "source": [
    "diff"
   ]
  },
  {
   "cell_type": "code",
   "execution_count": null,
   "metadata": {
    "collapsed": false,
    "pycharm": {
     "name": "#%%\n"
    }
   },
   "outputs": [],
   "source": []
  }
 ],
 "metadata": {
  "kernelspec": {
   "display_name": "Python 3",
   "language": "python",
   "name": "python3"
  },
  "language_info": {
   "codemirror_mode": {
    "name": "ipython",
    "version": 2
   },
   "file_extension": ".py",
   "mimetype": "text/x-python",
   "name": "python",
   "nbconvert_exporter": "python",
   "pygments_lexer": "ipython2",
   "version": "2.7.6"
  }
 },
 "nbformat": 4,
 "nbformat_minor": 0
}
