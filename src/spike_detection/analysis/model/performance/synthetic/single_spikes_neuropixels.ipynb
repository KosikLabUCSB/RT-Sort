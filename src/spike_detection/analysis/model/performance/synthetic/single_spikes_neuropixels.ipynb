{
 "cells": [
  {
   "cell_type": "markdown",
   "metadata": {
    "collapsed": false,
    "pycharm": {
     "name": "#%% md\n"
    }
   },
   "source": [
    "## Objective\n",
    "Measure performance of neuropixels model on individual spikes\n",
    "\n",
    "1. Histogram of RMS of detected and missed spikes\n",
    "2. Store absolute deviation of predicted and actual spike locations\n",
    "   \n",
    "Commented code may have been needed for older version and/or section \"Deprecated\" analyses"
   ]
  },
  {
   "cell_type": "code",
   "execution_count": 1,
   "metadata": {
    "collapsed": false,
    "pycharm": {
     "name": "#%%\n"
    }
   },
   "outputs": [],
   "source": [
    "%load_ext autoreload\n",
    "%autoreload\n",
    "\n",
    "# from importlib import reload\n",
    "# from src import plot\n",
    "# reload(plot)\n",
    "# from src.plot import plot_hist_percents\n",
    "\n",
    "# Update PATH to allow imports\n",
    "import sys\n",
    "sys.path.append(\"/data/MEAprojects/DLSpikeSorter\")\n",
    "\n",
    "# Imports\n",
    "import matplotlib.pyplot as plt\n",
    "from pathlib import Path\n",
    "import torch\n",
    "import numpy as np\n",
    "from src.model import ModelSpikeSorter\n",
    "from src.utils import random_seed\n",
    "from src import data, meta"
   ]
  },
  {
   "cell_type": "code",
   "execution_count": 2,
   "metadata": {
    "collapsed": false,
    "pycharm": {
     "name": "#%%\n"
    }
   },
   "outputs": [
    {
     "name": "stdout",
     "output_type": "stream",
     "text": [
      "Using random seed 231\n"
     ]
    },
    {
     "name": "stdout",
     "output_type": "stream",
     "text": [
      "probe_773592315: 750 waveforms\n",
      "Using random seed 231\n",
      "probe_773592318: 1040 waveforms\n",
      "Using random seed 231\n",
      "probe_773592320: 1655 waveforms\n",
      "Using random seed 231\n",
      "probe_773592324: 738 waveforms\n",
      "Using random seed 231\n",
      "probe_773592328: 1493 waveforms\n",
      "Using random seed 231\n",
      "probe_773592330: 576 waveforms\n"
     ]
    }
   ],
   "source": [
    "# Get plotting data\n",
    "\n",
    "# Set rec and model paths\n",
    "REC_PATHS = meta.SI_MOUSE[:]\n",
    "MODEL_PATHS = meta.SI_MODELS[:]\n",
    "FACTOR_UV = meta.GAIN_TO_UV\n",
    "THRESH_AMP = 36\n",
    "\n",
    "NUM_SAMPLES = 1  # Number of sample to calculate probability of correctly predicting waveform\n",
    "\n",
    "LOC_BUFFER = round(30*0.4)  # If |predicted_location - actual_location| <= LOC_BUFFER, the waveform will be regarded as correctly detected\n",
    "\n",
    "RECORDING_COLORS = [  # Color for each recording in scatter plot\n",
    "    \"cyan\",\n",
    "    \"green\",\n",
    "    'purple',\n",
    "    'orange',\n",
    "    'blue',\n",
    "    'red'\n",
    "]\n",
    "\n",
    "NOISE_SAMPLE_SIZE = 1500  # Size of samples to extract to calculate noies\n",
    "\n",
    "DTYPE = torch.float16\n",
    "\n",
    "FILTER = data.BandpassFilter((300, 3000))\n",
    "##\n",
    "# Get total amps and probs across all recordings\n",
    "# For scatter plot\n",
    "# recording_name_to_color = {}\n",
    "# amps_rms = []\n",
    "# amps = []\n",
    "# probs = []\n",
    "# colors = []\n",
    "#\n",
    "# For histogram\n",
    "amps_all = []  # Taken directly from sample\n",
    "rmses_all = []  # RMS of sample\n",
    "was_detected = []  # Whether spike was detected\n",
    "loc_diffs_detected = []  # For detected spikes, deviation between predicted and actual location\n",
    "#\n",
    "for rec_path, model_path in zip(REC_PATHS, MODEL_PATHS):  # Iterate through each individual recording/model\n",
    "    random_seed(231)\n",
    "    # Get recording\n",
    "    rec = rec_path.name\n",
    "    # rec_color = RECORDING_COLORS.pop()\n",
    "    # recording_name_to_color[rec] = rec_color\n",
    "\n",
    "    # Get model\n",
    "    model = ModelSpikeSorter.load(model_path).eval().to(DTYPE)\n",
    "\n",
    "    # Get data\n",
    "    dataset = data.MultiRecordingDataset.load_single(\n",
    "        path_folder=rec_path,\n",
    "        samples_per_waveform=1, front_buffer=model.buffer_front_sample, end_buffer=NOISE_SAMPLE_SIZE-model.sample_size+model.buffer_end_sample,\n",
    "        num_wfs_probs=[0, 1], isi_wf_min=6, isi_wf_max=None,\n",
    "        sample_size=NOISE_SAMPLE_SIZE,\n",
    "        thresh_amp=THRESH_AMP, thresh_std=0.6, mmap_mode=\"r\",\n",
    "        device=\"cuda\", dtype=DTYPE, gain_to_uv=FACTOR_UV,\n",
    "    )\n",
    "    # alpha_to_waveform_dict = dataset.get_alpha_to_waveform_dict()\n",
    "    print(f\"{rec}: {len(dataset)} waveforms\")\n",
    "\n",
    "    # Get prob and amp\n",
    "    # colors += [rec_color] * len(dataset)\n",
    "    for i in range(len(dataset)):\n",
    "        amp = dataset.wf_datasets[0].waveforms[i].amp\n",
    "        num_detected = 0\n",
    "        for _ in range(NUM_SAMPLES):\n",
    "            trace, num_wfs, wf_trace_locs, wf_alphas = dataset[i]\n",
    "\n",
    "            trace_np = trace.cpu().numpy()\n",
    "            rms = np.sqrt(np.mean(np.square(FILTER(trace_np))))\n",
    "\n",
    "            with torch.no_grad():\n",
    "                output = model(trace[None, :model.sample_size])\n",
    "            pred = model.outputs_to_preds(output)[0]\n",
    "            loc_diff = np.abs(pred - wf_trace_locs.item())\n",
    "            if len(pred) > 0 and np.any(loc_diff <= LOC_BUFFER):\n",
    "                num_detected += 1\n",
    "                was_detected.append(True)\n",
    "                loc_diffs_detected.append(min(loc_diff))\n",
    "            else:\n",
    "                was_detected.append(False)\n",
    "\n",
    "            rmses_all.append(rms)\n",
    "            amps_all.append(amp)\n",
    "            # amps_raw.append(np.abs(trace[0, wf_trace_locs.item()].item() * FACTOR_UV))\n",
    "\n",
    "        # amps.append(amp)\n",
    "\n",
    "        # amp_rms_avg = np.mean(np.array([amps_raw[-NUM_SAMPLES:]]) / np.array(rmses[-NUM_SAMPLES:]) / 5)\n",
    "        # amp_rms_avg = np.mean(amp / np.array(rmses[-NUM_SAMPLES:]) / 5)  # /5 so 5RMS\n",
    "        # amps_rms.append(amp_rms_avg)\n",
    "\n",
    "        # probs.append(100 * num_detected / NUM_SAMPLES)"
   ]
  },
  {
   "cell_type": "code",
   "execution_count": 3,
   "metadata": {
    "collapsed": false,
    "pycharm": {
     "name": "#%%\n"
    }
   },
   "outputs": [
    {
     "name": "stdout",
     "output_type": "stream",
     "text": [
      "Min detected RMS: 0.1075384987372612\n"
     ]
    }
   ],
   "source": [
    "# Get amps histogram data\n",
    "amps_detected = []\n",
    "amps_failed = []\n",
    "for amp, rms, detected in zip(amps_all, rmses_all, was_detected):\n",
    "    amp = np.abs(amp)\n",
    "    amp_norm = amp / rms\n",
    "    if detected:\n",
    "        amps_detected.append(amp_norm)\n",
    "    else:\n",
    "        amps_failed.append(amp_norm)\n",
    "print(f\"Min detected RMS: {min(amps_detected)}\")"
   ]
  },
  {
   "cell_type": "code",
   "execution_count": 6,
   "metadata": {},
   "outputs": [
    {
     "name": "stdout",
     "output_type": "stream",
     "text": [
      "5 percentile: 3.67\n"
     ]
    }
   ],
   "source": [
    "# Check X percentile\n",
    "PERCENTILE = 5\n",
    "print(f\"{PERCENTILE} percentile: {np.percentile(amps_detected, PERCENTILE):.2f}\")"
   ]
  },
  {
   "cell_type": "code",
   "execution_count": 7,
   "metadata": {},
   "outputs": [
    {
     "data": {
      "image/png": "[encoded data removed]",
      "text/plain": [
       "<Figure size 640x480 with 1 Axes>"
      ]
     },
     "metadata": {},
     "output_type": "display_data"
    }
   ],
   "source": [
    "# Plot histogram of detected spikes (blue) and missed spikes (red)\n",
    "BINS = np.arange(0, 23, 0.75)\n",
    "plt.hist(amps_detected, alpha=1, color=\"#7542ff\", bins=BINS)\n",
    "plt.hist(amps_failed, alpha=1, color=\"#42ccff\", bins=BINS)\n",
    "\n",
    "# region Format for Nature manuscript\n",
    "# Any of these can be None to not use these defined values\n",
    "XTICKS = [0, 5, 10, 15, 20]\n",
    "XLIM = [0, 23]\n",
    "\n",
    "YTICKS = [0, 200, 400]\n",
    "YLIM = [0, 500]\n",
    "        \n",
    "from pathlib import Path\n",
    "SVG_PATH = Path(\"/data/MEAprojects/RT-Sort/figures/spike_detection_model_for_artificially_generated_samples/hist_num_detections_vs_spike_5rms/neuropixels.svg\")\n",
    "\n",
    "TICKS_PATH = SVG_PATH.parent / f\"{SVG_PATH.name.split('.')[0]}_ticks.txt\"  # Where to save ticks\n",
    "\n",
    "SVG_PATH.parent.mkdir(exist_ok=True, parents=True)\n",
    "\n",
    "ax = plt.gca()\n",
    "# Hide top and right spines\n",
    "ax.spines['top'].set_visible(False)\n",
    "ax.spines['right'].set_visible(False)\n",
    "\n",
    "# Increase thickness of the bottom and left spines\n",
    "ax.spines[\"bottom\"].set_linewidth(2.5)\n",
    "ax.spines[\"left\"].set_linewidth(2.5)\n",
    "\n",
    "# Increase thickness of tick marks\n",
    "ax.tick_params(axis='both', direction='out', length=6, width=2.5, colors='black')\n",
    "\n",
    "# Hide labels\n",
    "ax.set_title(\"\")\n",
    "ax.set_xlabel(\"\")\n",
    "ax.set_ylabel(\"\")\n",
    "\n",
    "# Update ticks\n",
    "if XTICKS is not None:\n",
    "    ax.set_xticks(XTICKS, [''] * len(XTICKS))\n",
    "    if XLIM is None:\n",
    "        ax.set_xlim(XTICKS[0], XTICKS[-1])\n",
    "    else:\n",
    "        ax.set_xlim(*XLIM)\n",
    "if YTICKS is not None:\n",
    "    ax.set_yticks(YTICKS, [''] * len(YTICKS))\n",
    "    if YLIM is None:\n",
    "        ax.set_ylim(YTICKS[0], YTICKS[-1])\n",
    "    else:\n",
    "        ax.set_ylim(*YLIM)\n",
    "\n",
    "# # Save figure\n",
    "# plt.savefig(SVG_PATH, format=\"svg\")\n",
    "# plt.close()\n",
    "# # Save ticks\n",
    "# with open(TICKS_PATH, \"w\") as file:\n",
    "#     file.write(f\"x-ticks: {XTICKS}\\ny-ticks: {YTICKS}\")\n",
    "\n",
    "np.save(SVG_PATH.parent / \"neuropixels_amps_detected.npy\", amps_detected)\n",
    "np.save(SVG_PATH.parent / \"neuropixels_amps_missed.npy\", amps_failed)\n",
    "\n",
    "plt.show()\n",
    "\n",
    "# endregion"
   ]
  },
  {
   "cell_type": "code",
   "execution_count": 12,
   "metadata": {},
   "outputs": [
    {
     "data": {
      "image/png": "[encoded data removed]",
      "text/plain": [
       "<Figure size 640x480 with 1 Axes>"
      ]
     },
     "metadata": {},
     "output_type": "display_data"
    }
   ],
   "source": [
    "# Plot loc_diffs_detected as sanity check (all should be below LOC_BUFFER)\n",
    "plt.hist(loc_diffs_detected)\n",
    "plt.show()"
   ]
  },
  {
   "cell_type": "code",
   "execution_count": 13,
   "metadata": {},
   "outputs": [],
   "source": [
    "# Save loc_diffs_detected\n",
    "SAVE_PATH = Path(\"/data/MEAprojects/RT-Sort/figures/spike_detection_model_for_artificially_generated_samples/abs_deviation_between_predicted_and_actual/neuropixels.npy\")\n",
    "##\n",
    "SAVE_PATH.parent.mkdir(exist_ok=True, parents=True)\n",
    "np.save(SAVE_PATH, loc_diffs_detected)"
   ]
  }
 ],
 "metadata": {
  "kernelspec": {
   "display_name": "Python 3",
   "language": "python",
   "name": "python3"
  },
  "language_info": {
   "codemirror_mode": {
    "name": "ipython",
    "version": 3
   },
   "file_extension": ".py",
   "mimetype": "text/x-python",
   "name": "python",
   "nbconvert_exporter": "python",
   "pygments_lexer": "ipython3",
   "version": "3.7.16"
  }
 },
 "nbformat": 4,
 "nbformat_minor": 0
}
