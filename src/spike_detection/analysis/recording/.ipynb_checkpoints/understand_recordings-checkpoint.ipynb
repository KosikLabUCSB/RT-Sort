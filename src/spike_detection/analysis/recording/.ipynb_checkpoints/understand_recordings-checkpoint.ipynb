{
 "cells": [
  {
   "cell_type": "markdown",
   "metadata": {},
   "source": [
    "## Objective\n",
    "Become acquainted with recordings and using them for training and testing DL model"
   ]
  },
  {
   "cell_type": "markdown",
   "metadata": {},
   "source": [
    "## Imports"
   ]
  },
  {
   "cell_type": "code",
   "execution_count": 2,
   "metadata": {
    "pycharm": {
     "name": "#%%\n"
    }
   },
   "outputs": [
    {
     "ename": "ModuleNotFoundError",
     "evalue": "No module named 'torch'",
     "output_type": "error",
     "traceback": [
      "\u001b[0;31m---------------------------------------------------------------------------\u001b[0m",
      "\u001b[0;31mModuleNotFoundError\u001b[0m                       Traceback (most recent call last)",
      "\u001b[0;32m/tmp/ipykernel_600498/2859069318.py\u001b[0m in \u001b[0;36m<module>\u001b[0;34m\u001b[0m\n\u001b[1;32m      8\u001b[0m \u001b[0;31m# Imports\u001b[0m\u001b[0;34m\u001b[0m\u001b[0;34m\u001b[0m\u001b[0;34m\u001b[0m\u001b[0m\n\u001b[1;32m      9\u001b[0m \u001b[0;32mimport\u001b[0m \u001b[0mnumpy\u001b[0m \u001b[0;32mas\u001b[0m \u001b[0mnp\u001b[0m\u001b[0;34m\u001b[0m\u001b[0;34m\u001b[0m\u001b[0m\n\u001b[0;32m---> 10\u001b[0;31m \u001b[0;32mimport\u001b[0m \u001b[0mtorch\u001b[0m\u001b[0;34m\u001b[0m\u001b[0;34m\u001b[0m\u001b[0m\n\u001b[0m\u001b[1;32m     11\u001b[0m \u001b[0;34m\u001b[0m\u001b[0m\n\u001b[1;32m     12\u001b[0m \u001b[0;32mfrom\u001b[0m \u001b[0mutils\u001b[0m \u001b[0;32mimport\u001b[0m \u001b[0mrandom_seed\u001b[0m\u001b[0;34m\u001b[0m\u001b[0;34m\u001b[0m\u001b[0m\n",
      "\u001b[0;31mModuleNotFoundError\u001b[0m: No module named 'torch'"
     ]
    }
   ],
   "source": [
    "# region Set up notebook imports\n",
    "%load_ext autoreload\n",
    "%autoreload 2\n",
    "# Reload a module after changes have been made\n",
    "from importlib import reload\n",
    "# endregion\n",
    "\n",
    "# Imports\n",
    "import numpy as np\n",
    "import torch\n",
    "\n",
    "from utils import random_seed\n",
    "import data, meta"
   ]
  },
  {
   "cell_type": "code",
   "execution_count": 2,
   "metadata": {},
   "outputs": [
    {
     "name": "stdout",
     "output_type": "stream",
     "text": [
      "/data/MEAprojects/DLSpikeSorter/src\n",
      "/data/MEAprojects/DLSpikeSorter/src/analysis/recording\n",
      "/home/mea/anaconda3/envs/dl_ss/lib/python38.zip\n",
      "/home/mea/anaconda3/envs/dl_ss/lib/python3.8\n",
      "/home/mea/anaconda3/envs/dl_ss/lib/python3.8/lib-dynload\n",
      "\n",
      "/home/mea/anaconda3/envs/dl_ss/lib/python3.8/site-packages\n"
     ]
    }
   ],
   "source": [
    "import sys\n",
    "for p in sys.path:\n",
    "    print(p)\n",
    "    "
   ]
  },
  {
   "cell_type": "code",
   "execution_count": 1,
   "metadata": {},
   "outputs": [
    {
     "name": "stderr",
     "output_type": "stream",
     "text": [
      "UsageError: Line magic function `%autoreload` not found.\n"
     ]
    }
   ],
   "source": [
    "%autoreload \n",
    "import data\n",
    "data.test()"
   ]
  },
  {
   "cell_type": "markdown",
   "metadata": {},
   "source": [
    "## Load and format one recording\n",
    "\n",
    "#### File system notes:\n",
    "1. Delete spike_band_scaled_filtered.dat from spikesort_matlab4 folder because it is not needed and only takes up storage"
   ]
  },
  {
   "cell_type": "code",
   "execution_count": 2,
   "metadata": {},
   "outputs": [],
   "source": [
    "from spikeinterface import load_extractor\n",
    "from spikeinterface.extractors import BinaryRecordingExtractor"
   ]
  },
  {
   "cell_type": "code",
   "execution_count": 3,
   "metadata": {},
   "outputs": [],
   "source": [
    "MOUSE_PATH = meta.SI_MOUSE_PATHS[0]\n",
    "##\n",
    "recording_si = load_extractor(MOUSE_PATH / \"spike_band.si\")  # type: BinaryRecordingExtractor\n",
    "# np.save(MOUSE_PATH / \"recording.npy\", recording_si.get_traces(return_scaled=False).T)"
   ]
  },
  {
   "cell_type": "code",
   "execution_count": null,
   "metadata": {},
   "outputs": [],
   "source": [
    "# Format all SI mouse recordings\n",
    "# from tdqm import tqdm\n",
    "# for mouse_path in tqdm(meta.SI_MOUSE_PATHS[1:]):\n",
    "#     recording_si = load_extractor(mouse_path / \"spike_band.si\")\n",
    "#     np.save(mouse_path / \"recording.npy\", recording_si.get_traces(return_scaled=False).T)\n",
    "#     (mouse_path / \"spikesort_matlab4/spike_band_scaled_filtered.dat\").unlink()"
   ]
  },
  {
   "cell_type": "code",
   "execution_count": 9,
   "metadata": {},
   "outputs": [
    {
     "data": {
      "text/plain": [
       "1473546"
      ]
     },
     "execution_count": 9,
     "metadata": {},
     "output_type": "execute_result"
    }
   ],
   "source": [
    "sorted = np.load(MOUSE_PATH / \"spikesort_matlab4/results/sorted.npz\", allow_pickle=True)\n",
    "sorted[\"spike_times\"].size"
   ]
  },
  {
   "cell_type": "markdown",
   "metadata": {},
   "source": [
    "## Load MultiRecordingDataset"
   ]
  },
  {
   "cell_type": "code",
   "execution_count": 4,
   "metadata": {},
   "outputs": [],
   "source": [
    "multi_rec = data.MultiRecordingDataset(\n",
    "    samples_per_waveform=2, front_buffer=60, end_buffer=60,\n",
    "    num_wfs_probs=[0, 1], isi_wf_min=3, isi_wf_max=None,\n",
    "    data_paths=meta.SI_MOUSE_PATHS[:1], thresh_amp=0, thresh_std=9999,\n",
    "    sample_size=300, start=0, ms_before=3, ms_after=3, \n",
    "    device=\"cpu\", dtype=torch.float16, mmap_mode=\"r\"\n",
    ")"
   ]
  },
  {
   "cell_type": "code",
   "execution_count": 5,
   "metadata": {},
   "outputs": [],
   "source": [
    "alpha_to_waveform_dict = multi_rec.get_alpha_to_waveform_dict()"
   ]
  },
  {
   "cell_type": "code",
   "execution_count": 9,
   "metadata": {},
   "outputs": [
    {
     "name": "stdout",
     "output_type": "stream",
     "text": [
      "please work\n"
     ]
    },
    {
     "ename": "AssertionError",
     "evalue": "",
     "output_type": "error",
     "traceback": [
      "\u001b[0;31m---------------------------------------------------------------------------\u001b[0m",
      "\u001b[0;31mAssertionError\u001b[0m                            Traceback (most recent call last)",
      "Cell \u001b[0;32mIn[9], line 1\u001b[0m\n\u001b[0;32m----> 1\u001b[0m sample \u001b[39m=\u001b[39m multi_rec[\u001b[39m0\u001b[39;49m]\n",
      "File \u001b[0;32m/data/MEAprojects/DLSpikeSorter/src/data.py:477\u001b[0m, in \u001b[0;36mMultiRecordingDataset.__getitem__\u001b[0;34m(self, idx)\u001b[0m\n\u001b[1;32m    475\u001b[0m wf_ind \u001b[39m=\u001b[39m [idx]\n\u001b[1;32m    476\u001b[0m \u001b[39mprint\u001b[39m(\u001b[39m\"\u001b[39m\u001b[39msfsdf\u001b[39m\u001b[39m\"\u001b[39m)\n\u001b[0;32m--> 477\u001b[0m \u001b[39massert\u001b[39;00m \u001b[39mFalse\u001b[39;00m\n\u001b[1;32m    478\u001b[0m wf_ind\u001b[39m.\u001b[39mextend(np\u001b[39m.\u001b[39mrandom\u001b[39m.\u001b[39mchoice(\u001b[39mlen\u001b[39m(\u001b[39mself\u001b[39m), size\u001b[39m=\u001b[39mnum_wfs\u001b[39m-\u001b[39m\u001b[39m1\u001b[39m, replace\u001b[39m=\u001b[39m\u001b[39mTrue\u001b[39;00m))\n\u001b[1;32m    479\u001b[0m \u001b[39mfor\u001b[39;00m i \u001b[39min\u001b[39;00m wf_ind:\n",
      "\u001b[0;31mAssertionError\u001b[0m: "
     ]
    }
   ],
   "source": [
    "sample = multi_rec[0]\n",
    "# multi_rec.plot_sample(*sample, alpha_to_waveform_dict)"
   ]
  },
  {
   "cell_type": "markdown",
   "metadata": {},
   "source": [
    "## Load RecordingCrossVal"
   ]
  },
  {
   "cell_type": "code",
   "execution_count": null,
   "metadata": {
    "pycharm": {
     "name": "#%%\n"
    }
   },
   "outputs": [],
   "source": [
    "# Get the recording data\n",
    "rec_cross_val = data.RecordingCrossVal(\n",
    "    sample_size=200, front_buffer=40, end_buffer=40,\n",
    "    num_wfs_probs=[0, 0, 1], isi_wf_min=5, isi_wf_max=None,\n",
    "    thresh_amp=5, thresh_std=2,  #amp=1.2\n",
    "    samples_per_waveform=2, data_root=ROOT,\n",
    "    mmap_mode=\"r\", device=\"cpu\", as_datasets=True,\n",
    ")\n",
    "# rec_cross_val.summary()"
   ]
  },
  {
   "cell_type": "code",
   "execution_count": null,
   "metadata": {
    "pycharm": {
     "name": "#%%\n"
    }
   },
   "outputs": [],
   "source": [
    "# Get rec\n",
    "FOLD = \"2954\"\n",
    "##\n",
    "rec, train, val = rec_cross_val[FOLD]\n",
    "print(f\"Val Recording: {rec} - Train: {len(train)} samples - Val: {len(val)} - Train/Val: {len(val)/len(train) * 100:.1f}%\")\n",
    "alpha_to_wf_dict = train.get_alpha_to_waveform_dict()"
   ]
  },
  {
   "cell_type": "code",
   "execution_count": null,
   "metadata": {
    "pycharm": {
     "name": "#%%\n"
    }
   },
   "outputs": [],
   "source": [
    "# Plot samples\n",
    "NUM_SAMPLES = 1\n",
    "plot.set_dpi(400)\n",
    "random_seed(2)\n",
    "##\n",
    "sample_ind = np.random.choice(range(1, len(train), 2), NUM_SAMPLES)  # Only plot samples with waveforms\n",
    "for i in sample_ind:\n",
    "    train.plot_sample(*train[i], alpha_to_wf_dict)"
   ]
  },
  {
   "cell_type": "code",
   "execution_count": null,
   "metadata": {
    "pycharm": {
     "name": "#%%\n"
    }
   },
   "outputs": [],
   "source": [
    "# Plot template waveforms\n",
    "wf_dataset = data.WaveformDataset(ROOT / \"2954/sorted.npz\", thresh_amp=1.2, thresh_std=2, plotting=True)\n",
    "print(f\"Number of waveforms: {len(wf_dataset)}\")\n",
    "wf_dataset.plot_waveforms()"
   ]
  },
  {
   "cell_type": "code",
   "execution_count": null,
   "metadata": {
    "pycharm": {
     "name": "#%%\n"
    }
   },
   "outputs": [],
   "source": [
    "from src.plot import set_dpi\n",
    "from src.utils import FACTOR_UV\n",
    "import numpy as np\n",
    "import matplotlib.pyplot as plt\n",
    "from matplotlib.axes._axes import Axes\n",
    "from matplotlib.figure import Figure\n",
    "from mpl_toolkits.axes_grid1.anchored_artists import AnchoredSizeBar\n",
    "import matplotlib.font_manager as fm\n",
    "def plot_waveform_channels(kilosort_npz_path, thresh_amp, thresh_std,\n",
    "                           scale_v, scale_h, xlim=None, ylim=None,\n",
    "                           curation_colors=(\"red\", \"black\")):\n",
    "    \"\"\"\n",
    "    Plot the mean waveforms (which are defined on different channels) of a unit at their spatial locations\n",
    "    and color code them based on whether they are curated\n",
    "    #\n",
    "    :param kilosort_npz_path:\n",
    "        spikesort_matlab4.py --> sorted.npz\n",
    "    :param thresh_amp:\n",
    "        Minimum amplitude (in arbitrary scaled down units)\n",
    "    :param thresh_std:\n",
    "        Minimum standard deviation in amplitude divided by amplitude\n",
    "    :param scale_v:\n",
    "        Vertical stretch factor of wf\n",
    "    :param scale_h:\n",
    "        Horizontal stretch factor of wf\n",
    "    :param xlim:\n",
    "        of plot\n",
    "        None --> use auto-generated lim\n",
    "    :param ylim:\n",
    "        of plot\n",
    "        None --> use auto-generated lim\n",
    "    :param curation_colors:\n",
    "        (failed color, passed color)\n",
    "    \"\"\"\n",
    "\n",
    "    npz = np.load(kilosort_npz_path, allow_pickle=True)\n",
    "    locations = npz[\"locations\"]\n",
    "    # Iterate through units\n",
    "    for i_u, unit in enumerate(npz[\"units\"]):\n",
    "        # Set up plot\n",
    "        fig, ax = plt.subplots(1)  # type: Figure, Axes\n",
    "        ax.set_title(i_u)\n",
    "        ax.set_aspect(\"equal\")\n",
    "\n",
    "        if xlim is not None:\n",
    "            ax.set_xlim(*xlim)\n",
    "        if ylim is not None:\n",
    "            ax.set_ylim(*ylim)\n",
    "\n",
    "        # Get waveform data\n",
    "        templates = unit[\"template\"].T   # (n_channels, n_samples)\n",
    "        center_i = templates.shape[1] // 2\n",
    "        is_curated = (unit[\"amplitudes\"] >= thresh_amp) * (unit[\"std_norms\"] <= thresh_std)  # type: np.ndarray\n",
    "\n",
    "        # Plot waveforms\n",
    "        for i, wf in enumerate(templates):\n",
    "            color = curation_colors[int(is_curated[i])]\n",
    "\n",
    "            wf *= scale_v\n",
    "            loc = locations[i]\n",
    "\n",
    "            x = np.arange(wf.size, dtype=float) - center_i\n",
    "            x *= scale_h\n",
    "\n",
    "            x += loc[0]\n",
    "            wf += loc[1]\n",
    "            ax.plot(x, wf, color=color)\n",
    "\n",
    "        # Add scalebar\n",
    "        fontprops = fm.FontProperties(size=18)\n",
    "        scalebar = AnchoredSizeBar(ax.transData,\n",
    "                                   FACTOR_UV * thresh_amp, '20 m', 'lower right',\n",
    "                                   pad=0.1,\n",
    "                                   color='black',\n",
    "                                   frameon=False,\n",
    "                                   size_vertical=1,\n",
    "                                   fontproperties=fontprops)\n",
    "        ax.add_artist(scalebar)\n",
    "\n",
    "        plt.tight_layout()\n",
    "        plt.show()\n",
    "        break\n",
    "\n",
    "plot_waveform_channels(\n",
    "    kilosort_npz_path=ROOT / \"2954/sorted.npz\",\n",
    "    thresh_amp=1.2, thresh_std=2,\n",
    "    scale_v=1, scale_h=1,\n",
    "    xlim=(700, 800), ylim=(250, 500),\n",
    "    curation_colors=(\"red\", \"black\")\n",
    ")"
   ]
  },
  {
   "cell_type": "code",
   "execution_count": null,
   "metadata": {
    "pycharm": {
     "name": "#%%\n"
    }
   },
   "outputs": [],
   "source": []
  },
  {
   "cell_type": "code",
   "execution_count": null,
   "metadata": {
    "pycharm": {
     "name": "#%%\n"
    }
   },
   "outputs": [],
   "source": []
  }
 ],
 "metadata": {
  "kernelspec": {
   "display_name": "Python 3 (ipykernel)",
   "language": "python",
   "name": "python3"
  },
  "language_info": {
   "codemirror_mode": {
    "name": "ipython",
    "version": 3
   },
   "file_extension": ".py",
   "mimetype": "text/x-python",
   "name": "python",
   "nbconvert_exporter": "python",
   "pygments_lexer": "ipython3",
   "version": "3.7.16"
  },
  "toc": {
   "base_numbering": 1,
   "nav_menu": {},
   "number_sections": true,
   "sideBar": true,
   "skip_h1_title": false,
   "title_cell": "Table of Contents",
   "title_sidebar": "Contents",
   "toc_cell": false,
   "toc_position": {},
   "toc_section_display": true,
   "toc_window_display": false
  }
 },
 "nbformat": 4,
 "nbformat_minor": 1
}
