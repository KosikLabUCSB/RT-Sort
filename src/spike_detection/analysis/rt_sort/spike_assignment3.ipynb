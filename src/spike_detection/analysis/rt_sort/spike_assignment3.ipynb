{
 "cells": [
  {
   "cell_type": "markdown",
   "metadata": {},
   "source": [
    "## Objective\n",
    "Make RT-Sort spike assignment very fast\n",
    "\n",
    "2 --> 3: Running on continuous recording"
   ]
  },
  {
   "cell_type": "markdown",
   "metadata": {},
   "source": [
    "## Setup"
   ]
  },
  {
   "cell_type": "markdown",
   "metadata": {},
   "source": [
    "### Notebook and recording"
   ]
  },
  {
   "cell_type": "code",
   "execution_count": 81,
   "metadata": {},
   "outputs": [
    {
     "name": "stdout",
     "output_type": "stream",
     "text": [
      "The autoreload extension is already loaded. To reload it, use:\n",
      "  %reload_ext autoreload\n"
     ]
    }
   ],
   "source": [
    "%load_ext autoreload"
   ]
  },
  {
   "cell_type": "code",
   "execution_count": 82,
   "metadata": {},
   "outputs": [],
   "source": [
    "from math import ceil\n",
    "from time import perf_counter\n",
    "\n",
    "import numpy as np\n",
    "import matplotlib.pyplot as plt\n",
    "import torch\n",
    "\n",
    "torch.backends.cudnn.benchmark = True\n",
    "\n",
    "from tqdm import tqdm\n",
    "\n",
    "%autoreload 2\n",
    "from src import utils"
   ]
  },
  {
   "cell_type": "code",
   "execution_count": 83,
   "metadata": {},
   "outputs": [],
   "source": [
    "TRACES = np.load(\"/data/MEAprojects/dandi/000034/sub-MEAREC-250neuron-Neuropixels/rt_sort/traces.npy\", mmap_mode=\"r\")\n",
    "OUTPUTS = np.load(\"/data/MEAprojects/dandi/000034/sub-MEAREC-250neuron-Neuropixels/rt_sort/outputs.npy\", mmap_mode=\"r\")\n",
    "ELEC_LOCS = np.load(\"/data/MEAprojects/dandi/000034/sub-MEAREC-250neuron-Neuropixels/rt_sort/elec_locs.npy\", mmap_mode=\"r\")\n",
    "ALL_SEQUENCES = utils.pickle_load(\"/data/MEAprojects/dandi/000034/sub-MEAREC-250neuron-Neuropixels/rt_sort/ground_truth_sequences.pickle\")\n",
    "# ALL_SEQUENCES = utils.pickle_load(\"/data/MEAprojects/dandi/000034/sub-MEAREC-250neuron-Neuropixels/rt_sort/230113/merged_sequences.pickle\")"
   ]
  },
  {
   "cell_type": "code",
   "execution_count": 84,
   "metadata": {},
   "outputs": [],
   "source": [
    "SAMP_FREQ = 32  # kHz\n",
    "FRONT_BUFFER = 60\n",
    "N_BEFORE = N_AFTER = round(0.5 * SAMP_FREQ)"
   ]
  },
  {
   "cell_type": "code",
   "execution_count": null,
   "metadata": {},
   "outputs": [],
   "source": [
    "START_FRAME = 0\n",
    "END_FRAME = round(5*60*1000*SAMP_FREQ)+1\n",
    "\n",
    "TORCH_TRACES = torch.tensor(TRACES[:, START_FRAME:END_FRAME], dtype=torch.float16, device=\"cuda\")\n",
    "TORCH_OUTPUTS = torch.tensor(OUTPUTS[:, START_FRAME:END_FRAME], dtype=torch.float16, device=\"cuda\")"
   ]
  },
  {
   "cell_type": "code",
   "execution_count": null,
   "metadata": {},
   "outputs": [],
   "source": [
    "elec_to_seqs = {}\n",
    "for seq in ALL_SEQUENCES:\n",
    "    if seq.root_elec not in elec_to_seqs:\n",
    "        elec_to_seqs[seq.root_elec] = [seq]\n",
    "    else:\n",
    "        elec_to_seqs[seq.root_elec].append(seq)"
   ]
  },
  {
   "cell_type": "code",
   "execution_count": null,
   "metadata": {},
   "outputs": [
    {
     "name": "stdout",
     "output_type": "stream",
     "text": [
      "1 [184, 89, 280, 376, 281, 88]\n",
      "49 [184, 88, 89, 281]\n",
      "\n",
      "4 [301, 109, 205, 206]\n",
      "85 [301, 12, 13, 14, 15, 299, 300, 302, 303, 304, 203, 204, 205, 206, 207, 208, 107, 108, 109, 110, 111]\n"
     ]
    }
   ],
   "source": [
    "for seq in elec_to_seqs[184]:\n",
    "    print(seq.idx, seq.comp_elecs)\n",
    "print()\n",
    "for seq in elec_to_seqs[301]:\n",
    "    print(seq.idx, seq.comp_elecs)"
   ]
  },
  {
   "cell_type": "code",
   "execution_count": null,
   "metadata": {},
   "outputs": [],
   "source": [
    "def sigmoid(x):\n",
    "    exp = np.exp(x)\n",
    "    return exp / (1 + exp)\n",
    "\n",
    "def sigmoid_inverse(y):\n",
    "    return -np.log(1 / y - 1)\n",
    "\n",
    "def calc_elec_dist(elec1, elec2):\n",
    "    # Calculate the spatial distance between two electrodes\n",
    "    x1, y1 = ELEC_LOCS[elec1]\n",
    "    x2, y2 = ELEC_LOCS[elec2]\n",
    "    return np.sqrt((x2 - x1)**2 + (y2 - y1)**2)\n",
    "\n",
    "# root_elec = 0\n",
    "STRICT_THRESH_LOGIT = sigmoid_inverse(0.1)# -1.7346010553881064\n",
    "LOOSE_THRESH_LOGIT = -2.1972245773362196\n",
    "\n",
    "MIN_LOOSE_DETECTIONS_N = 3 \n",
    "MIN_LOOSE_DETECTIONS_R = 2/3\n",
    "MIN_INNER_LOOSE_DETECTIONS = 2\n",
    "\n",
    "CLIP_LATENCY_DIFF = 5\n",
    "CLIP_AMP_DIFF = 1\n",
    "\n",
    "MAX_LATENCY_DIFF_SPIKES = 3#2.5\n",
    "MAX_AMP_MEDIAN_DIFF_SPIKES = 0.35\n",
    "MAX_ROOT_AMP_MEDIAN_STD = 2\n",
    "\n",
    "MAX_LOOSE_DETECTIONS = round(0.5 * TRACES.shape[0])\n",
    "\n",
    "OVERLAP = round(0.2 * SAMP_FREQ)\n",
    "INNER_RADIUS = 50\n",
    "OUTER_RADIUS = 100\n",
    "\n",
    "PRE_MEDIAN_FRAMES = round(50*SAMP_FREQ)"
   ]
  },
  {
   "cell_type": "code",
   "execution_count": null,
   "metadata": {},
   "outputs": [],
   "source": [
    "OUTPUT_WINDOW_HALF_SIZE = 90 #3 * SAMP_FREQ"
   ]
  },
  {
   "cell_type": "markdown",
   "metadata": {},
   "source": [
    "### Sequences"
   ]
  },
  {
   "cell_type": "code",
   "execution_count": null,
   "metadata": {},
   "outputs": [],
   "source": [
    "# Setup\n",
    "all_sequences = ALL_SEQUENCES# elec_to_seqs[184] + elec_to_seqs[301]\n",
    "# all_sequences = [ALL_SEQUENCES[4], ALL_SEQUENCES[5]]\n",
    "num_seqs = len(all_sequences)\n",
    "\n",
    "all_comp_elecs = set()\n",
    "seq_n_before = -np.inf\n",
    "seq_n_after = -np.inf\n",
    "seq_no_overlap_mask = torch.full((num_seqs, num_seqs), 0, dtype=torch.bool, device=\"cuda\")\n",
    "seq_idx_to_outer_elecs = {}\n",
    "for a, seq in enumerate(all_sequences):\n",
    "    all_comp_elecs.update(seq.comp_elecs)\n",
    "    seq_n_before = max(seq_n_before, ceil(np.abs(np.min(seq.all_latencies[seq.comp_elecs]))) + CLIP_LATENCY_DIFF)\n",
    "    seq_n_after = max(seq_n_after, ceil(np.abs(np.max(seq.all_latencies[seq.comp_elecs]))) + CLIP_LATENCY_DIFF)\n",
    "    for b, seq_b in enumerate(all_sequences):\n",
    "        if calc_elec_dist(seq.root_elec, seq_b.root_elec) > INNER_RADIUS:\n",
    "            seq_no_overlap_mask[a, b] = 1\n",
    "    outer_elecs = []\n",
    "    for elec in range(len(ELEC_LOCS)):\n",
    "        if calc_elec_dist(seq.root_elec, elec) <= OUTER_RADIUS:\n",
    "            outer_elecs.append(elec)\n",
    "    seq_idx_to_outer_elecs[a] = outer_elecs\n",
    "\n",
    "all_comp_elecs = list(all_comp_elecs)\n",
    "spike_arange = torch.arange(0, seq_n_before+seq_n_after+1, device=\"cuda\")\n",
    "\n",
    "seqs_root_elecs = set()\n",
    "seqs_root_elecs_dups = []  # Allow for multiple copies of same root elecs\n",
    "seqs_root_elecs_rel_comp_elecs = []\n",
    "seqs_inner_loose_elecs = []\n",
    "seqs_min_loose_elecs = []\n",
    "seqs_loose_elecs = []\n",
    "seqs_latencies = []\n",
    "seqs_latency_weights = []\n",
    "seqs_amps = []\n",
    "seqs_root_amp_means = []\n",
    "seqs_root_amp_stds = []\n",
    "seqs_amp_weights = []\n",
    "for seq in all_sequences: \n",
    "    seqs_root_elecs.add(seq.root_elec)\n",
    "    seqs_root_elecs_dups.append(seq.root_elec)\n",
    "    seqs_root_elecs_rel_comp_elecs.append(all_comp_elecs.index(seq.root_elec))\n",
    "\n",
    "    # Binary arrays (1 for comp_elec in inner_loose_elecs/loose_elecs, else 0)\n",
    "    seqs_inner_loose_elecs.append(torch.tensor([1 if elec in seq.inner_loose_elecs else 0 for elec in all_comp_elecs], dtype=torch.bool, device=\"cuda\"))\n",
    "    seqs_loose_elecs.append(torch.tensor([1 if elec in seq.loose_elecs else 0 for elec in all_comp_elecs], dtype=torch.bool, device=\"cuda\"))\n",
    "    \n",
    "    seqs_min_loose_elecs.append(ceil(seq.min_loose_detections))\n",
    "    \n",
    "    seq_comp_elecs = set(seq.comp_elecs)\n",
    "    seqs_latencies.append(torch.tensor([seq.all_latencies[elec] + seq_n_before if elec in seq_comp_elecs and elec != seq.root_elec else 0 for elec in all_comp_elecs], dtype=torch.float16, device=\"cuda\"))\n",
    "    seqs_amps.append(torch.tensor([seq.all_amp_medians[elec] if elec in seq_comp_elecs else 1 for elec in all_comp_elecs], dtype=torch.float16, device=\"cuda\"))  # Needs to be 1 to prevent divide by zero\n",
    "    \n",
    "    elec_probs = torch.tensor([seq.all_elec_probs[elec] if elec in seq_comp_elecs and elec != seq.root_elec else 0 for elec in all_comp_elecs], dtype=torch.float16, device=\"cuda\")\n",
    "    seqs_latency_weights.append(elec_probs/torch.sum(elec_probs))\n",
    "    \n",
    "    elec_probs = torch.tensor([seq.all_elec_probs[elec] if elec in seq_comp_elecs else 0 for elec in all_comp_elecs], dtype=torch.float16, device=\"cuda\")\n",
    "    seqs_amp_weights.append(elec_probs/torch.sum(elec_probs))\n",
    "    \n",
    "    seqs_root_amp_means.append(seq.all_amp_medians[seq.root_elec])\n",
    "    seqs_root_amp_stds.append(seq.root_to_amp_median_std[seq.root_elec])\n",
    "    \n",
    "comp_elecs = torch.tensor(all_comp_elecs, dtype=torch.long, device=\"cuda\")[:, None]\n",
    "comp_elecs_flattened = comp_elecs.flatten()\n",
    "    \n",
    "seqs_root_elecs = list(seqs_root_elecs)\n",
    "    \n",
    "seqs_inner_loose_elecs = torch.vstack(seqs_inner_loose_elecs)\n",
    "seqs_loose_elecs = torch.vstack(seqs_loose_elecs)\n",
    "seqs_min_loose_elecs = torch.tensor(seqs_min_loose_elecs, dtype=torch.int16, device=\"cuda\")\n",
    "seqs_latencies = torch.vstack(seqs_latencies)\n",
    "seqs_amps = torch.vstack(seqs_amps)\n",
    "seqs_latency_weights = torch.vstack(seqs_latency_weights)\n",
    "seqs_amp_weights = torch.vstack(seqs_amp_weights)\n",
    "seqs_root_amp_means = torch.tensor(seqs_root_amp_means, dtype=torch.float16, device=\"cuda\")\n",
    "seqs_root_amp_stds = torch.tensor(seqs_root_amp_stds, dtype=torch.float16, device=\"cuda\")\n",
    "    \n",
    "max_pool = torch.nn.MaxPool1d(seq_n_before+seq_n_after+1, return_indices=True)"
   ]
  },
  {
   "cell_type": "code",
   "execution_count": null,
   "metadata": {},
   "outputs": [],
   "source": [
    "step_size = OUTPUT_WINDOW_HALF_SIZE * 2 - seq_n_after - seq_n_before"
   ]
  },
  {
   "cell_type": "markdown",
   "metadata": {},
   "source": [
    "### torch.jit.trace and torch_tensorrt.compile\n",
    "For torch.jit.trace to work, can't use global TORCH_TRACES and TORCH_OUTPUTS"
   ]
  },
  {
   "cell_type": "code",
   "execution_count": null,
   "metadata": {},
   "outputs": [
    {
     "ename": "TracingCheckError",
     "evalue": "Tracing failed sanity checks!\nERROR: Tensor-valued Constant nodes differed in value across invocations. This often indicates that the tracer has encountered untraceable code.\n\tNode:\n\t\t%29 : Tensor = prim::Constant[value=<Tensor>]() # /tmp/ipykernel_530635/1522865237.py:11:0\n\tSource Location:\n\t\t/tmp/ipykernel_530635/1522865237.py(11): forward\n\t\t/home/mea/anaconda3/envs/dl_ss/lib/python3.7/site-packages/torch/nn/modules/module.py(1118): _slow_forward\n\t\t/home/mea/anaconda3/envs/dl_ss/lib/python3.7/site-packages/torch/nn/modules/module.py(1130): _call_impl\n\t\t/home/mea/anaconda3/envs/dl_ss/lib/python3.7/site-packages/torch/jit/_trace.py(974): trace_module\n\t\t/home/mea/anaconda3/envs/dl_ss/lib/python3.7/site-packages/torch/jit/_trace.py(759): trace\n\t\t/tmp/ipykernel_530635/1522865237.py(66): <module>\n\t\t/home/mea/anaconda3/envs/dl_ss/lib/python3.7/site-packages/IPython/core/interactiveshell.py(3457): run_code\n\t\t/home/mea/anaconda3/envs/dl_ss/lib/python3.7/site-packages/IPython/core/interactiveshell.py(3377): run_ast_nodes\n\t\t/home/mea/anaconda3/envs/dl_ss/lib/python3.7/site-packages/IPython/core/interactiveshell.py(3186): run_cell_async\n\t\t/home/mea/anaconda3/envs/dl_ss/lib/python3.7/site-packages/IPython/core/async_helpers.py(78): _pseudo_sync_runner\n\t\t/home/mea/anaconda3/envs/dl_ss/lib/python3.7/site-packages/IPython/core/interactiveshell.py(2960): _run_cell\n\t\t/home/mea/anaconda3/envs/dl_ss/lib/python3.7/site-packages/IPython/core/interactiveshell.py(2915): run_cell\n\t\t/home/mea/anaconda3/envs/dl_ss/lib/python3.7/site-packages/ipykernel/zmqshell.py(528): run_cell\n\t\t/home/mea/anaconda3/envs/dl_ss/lib/python3.7/site-packages/ipykernel/ipkernel.py(390): do_execute\n\t\t/home/mea/anaconda3/envs/dl_ss/lib/python3.7/site-packages/ipykernel/kernelbase.py(730): execute_request\n\t\t/home/mea/anaconda3/envs/dl_ss/lib/python3.7/site-packages/ipykernel/kernelbase.py(406): dispatch_shell\n\t\t/home/mea/anaconda3/envs/dl_ss/lib/python3.7/site-packages/ipykernel/kernelbase.py(499): process_one\n\t\t/home/mea/anaconda3/envs/dl_ss/lib/python3.7/site-packages/ipykernel/kernelbase.py(510): dispatch_queue\n\t\t/home/mea/anaconda3/envs/dl_ss/lib/python3.7/asyncio/events.py(88): _run\n\t\t/home/mea/anaconda3/envs/dl_ss/lib/python3.7/asyncio/base_events.py(1786): _run_once\n\t\t/home/mea/anaconda3/envs/dl_ss/lib/python3.7/asyncio/base_events.py(541): run_forever\n\t\t/home/mea/anaconda3/envs/dl_ss/lib/python3.7/site-packages/tornado/platform/asyncio.py(215): start\n\t\t/home/mea/anaconda3/envs/dl_ss/lib/python3.7/site-packages/ipykernel/kernelapp.py(712): start\n\t\t/home/mea/anaconda3/envs/dl_ss/lib/python3.7/site-packages/traitlets/config/application.py(992): launch_instance\n\t\t/home/mea/anaconda3/envs/dl_ss/lib/python3.7/site-packages/ipykernel_launcher.py(17): <module>\n\t\t/home/mea/anaconda3/envs/dl_ss/lib/python3.7/runpy.py(85): _run_code\n\t\t/home/mea/anaconda3/envs/dl_ss/lib/python3.7/runpy.py(193): _run_module_as_main\n\tComparison exception: \tCUDA out of memory. Tried to allocate 13.73 GiB (GPU 0; 23.67 GiB total capacity; 13.74 GiB already allocated; 7.12 GiB free; 13.74 GiB reserved in total by PyTorch) If reserved memory is >> allocated memory try setting max_split_size_mb to avoid fragmentation.  See documentation for Memory Management and PYTORCH_CUDA_ALLOC_CONF\n",
     "output_type": "error",
     "traceback": [
      "\u001b[0;31m---------------------------------------------------------------------------\u001b[0m",
      "\u001b[0;31mTracingCheckError\u001b[0m                         Traceback (most recent call last)",
      "\u001b[0;32m/tmp/ipykernel_530635/1522865237.py\u001b[0m in \u001b[0;36m<module>\u001b[0;34m\u001b[0m\n\u001b[1;32m     64\u001b[0m         \u001b[0;32mreturn\u001b[0m \u001b[0mspike_scores\u001b[0m\u001b[0;34m,\u001b[0m \u001b[0mpeak_ind_flat\u001b[0m\u001b[0;34m\u001b[0m\u001b[0;34m\u001b[0m\u001b[0m\n\u001b[1;32m     65\u001b[0m \u001b[0;34m\u001b[0m\u001b[0m\n\u001b[0;32m---> 66\u001b[0;31m \u001b[0mrt_sort\u001b[0m \u001b[0;34m=\u001b[0m \u001b[0mtorch\u001b[0m\u001b[0;34m.\u001b[0m\u001b[0mjit\u001b[0m\u001b[0;34m.\u001b[0m\u001b[0mtrace\u001b[0m\u001b[0;34m(\u001b[0m\u001b[0mRT_Sort\u001b[0m\u001b[0;34m(\u001b[0m\u001b[0;34m)\u001b[0m\u001b[0;34m,\u001b[0m \u001b[0mtorch\u001b[0m\u001b[0;34m.\u001b[0m\u001b[0mtensor\u001b[0m\u001b[0;34m(\u001b[0m\u001b[0;36m1000\u001b[0m\u001b[0;34m)\u001b[0m\u001b[0;34m)\u001b[0m\u001b[0;34m\u001b[0m\u001b[0;34m\u001b[0m\u001b[0m\n\u001b[0m",
      "\u001b[0;32m~/anaconda3/envs/dl_ss/lib/python3.7/site-packages/torch/jit/_trace.py\u001b[0m in \u001b[0;36mtrace\u001b[0;34m(func, example_inputs, optimize, check_trace, check_inputs, check_tolerance, strict, _force_outplace, _module_class, _compilation_unit)\u001b[0m\n\u001b[1;32m    757\u001b[0m             \u001b[0mstrict\u001b[0m\u001b[0;34m,\u001b[0m\u001b[0;34m\u001b[0m\u001b[0;34m\u001b[0m\u001b[0m\n\u001b[1;32m    758\u001b[0m             \u001b[0m_force_outplace\u001b[0m\u001b[0;34m,\u001b[0m\u001b[0;34m\u001b[0m\u001b[0;34m\u001b[0m\u001b[0m\n\u001b[0;32m--> 759\u001b[0;31m             \u001b[0m_module_class\u001b[0m\u001b[0;34m,\u001b[0m\u001b[0;34m\u001b[0m\u001b[0;34m\u001b[0m\u001b[0m\n\u001b[0m\u001b[1;32m    760\u001b[0m         )\n\u001b[1;32m    761\u001b[0m \u001b[0;34m\u001b[0m\u001b[0m\n",
      "\u001b[0;32m~/anaconda3/envs/dl_ss/lib/python3.7/site-packages/torch/jit/_trace.py\u001b[0m in \u001b[0;36mtrace_module\u001b[0;34m(mod, inputs, optimize, check_trace, check_inputs, check_tolerance, strict, _force_outplace, _module_class, _compilation_unit)\u001b[0m\n\u001b[1;32m    998\u001b[0m                         \u001b[0m_force_outplace\u001b[0m\u001b[0;34m,\u001b[0m\u001b[0;34m\u001b[0m\u001b[0;34m\u001b[0m\u001b[0m\n\u001b[1;32m    999\u001b[0m                         \u001b[0;32mTrue\u001b[0m\u001b[0;34m,\u001b[0m\u001b[0;34m\u001b[0m\u001b[0;34m\u001b[0m\u001b[0m\n\u001b[0;32m-> 1000\u001b[0;31m                         \u001b[0m_module_class\u001b[0m\u001b[0;34m,\u001b[0m\u001b[0;34m\u001b[0m\u001b[0;34m\u001b[0m\u001b[0m\n\u001b[0m\u001b[1;32m   1001\u001b[0m                     )\n\u001b[1;32m   1002\u001b[0m     \u001b[0;32mfinally\u001b[0m\u001b[0;34m:\u001b[0m\u001b[0;34m\u001b[0m\u001b[0;34m\u001b[0m\u001b[0m\n",
      "\u001b[0;32m~/anaconda3/envs/dl_ss/lib/python3.7/site-packages/torch/autograd/grad_mode.py\u001b[0m in \u001b[0;36mdecorate_context\u001b[0;34m(*args, **kwargs)\u001b[0m\n\u001b[1;32m     25\u001b[0m         \u001b[0;32mdef\u001b[0m \u001b[0mdecorate_context\u001b[0m\u001b[0;34m(\u001b[0m\u001b[0;34m*\u001b[0m\u001b[0margs\u001b[0m\u001b[0;34m,\u001b[0m \u001b[0;34m**\u001b[0m\u001b[0mkwargs\u001b[0m\u001b[0;34m)\u001b[0m\u001b[0;34m:\u001b[0m\u001b[0;34m\u001b[0m\u001b[0;34m\u001b[0m\u001b[0m\n\u001b[1;32m     26\u001b[0m             \u001b[0;32mwith\u001b[0m \u001b[0mself\u001b[0m\u001b[0;34m.\u001b[0m\u001b[0mclone\u001b[0m\u001b[0;34m(\u001b[0m\u001b[0;34m)\u001b[0m\u001b[0;34m:\u001b[0m\u001b[0;34m\u001b[0m\u001b[0;34m\u001b[0m\u001b[0m\n\u001b[0;32m---> 27\u001b[0;31m                 \u001b[0;32mreturn\u001b[0m \u001b[0mfunc\u001b[0m\u001b[0;34m(\u001b[0m\u001b[0;34m*\u001b[0m\u001b[0margs\u001b[0m\u001b[0;34m,\u001b[0m \u001b[0;34m**\u001b[0m\u001b[0mkwargs\u001b[0m\u001b[0;34m)\u001b[0m\u001b[0;34m\u001b[0m\u001b[0;34m\u001b[0m\u001b[0m\n\u001b[0m\u001b[1;32m     28\u001b[0m         \u001b[0;32mreturn\u001b[0m \u001b[0mcast\u001b[0m\u001b[0;34m(\u001b[0m\u001b[0mF\u001b[0m\u001b[0;34m,\u001b[0m \u001b[0mdecorate_context\u001b[0m\u001b[0;34m)\u001b[0m\u001b[0;34m\u001b[0m\u001b[0;34m\u001b[0m\u001b[0m\n\u001b[1;32m     29\u001b[0m \u001b[0;34m\u001b[0m\u001b[0m\n",
      "\u001b[0;32m~/anaconda3/envs/dl_ss/lib/python3.7/site-packages/torch/jit/_trace.py\u001b[0m in \u001b[0;36m_check_trace\u001b[0;34m(check_inputs, func, traced_func, check_tolerance, strict, force_outplace, is_trace_module, _module_class)\u001b[0m\n\u001b[1;32m    533\u001b[0m         \u001b[0mdiag_info\u001b[0m \u001b[0;34m=\u001b[0m \u001b[0mgraph_diagnostic_info\u001b[0m\u001b[0;34m(\u001b[0m\u001b[0;34m)\u001b[0m\u001b[0;34m\u001b[0m\u001b[0;34m\u001b[0m\u001b[0m\n\u001b[1;32m    534\u001b[0m         \u001b[0;32mif\u001b[0m \u001b[0many\u001b[0m\u001b[0;34m(\u001b[0m\u001b[0minfo\u001b[0m \u001b[0;32mis\u001b[0m \u001b[0;32mnot\u001b[0m \u001b[0;32mNone\u001b[0m \u001b[0;32mfor\u001b[0m \u001b[0minfo\u001b[0m \u001b[0;32min\u001b[0m \u001b[0mdiag_info\u001b[0m\u001b[0;34m)\u001b[0m\u001b[0;34m:\u001b[0m\u001b[0;34m\u001b[0m\u001b[0;34m\u001b[0m\u001b[0m\n\u001b[0;32m--> 535\u001b[0;31m             \u001b[0;32mraise\u001b[0m \u001b[0mTracingCheckError\u001b[0m\u001b[0;34m(\u001b[0m\u001b[0;34m*\u001b[0m\u001b[0mdiag_info\u001b[0m\u001b[0;34m)\u001b[0m\u001b[0;34m\u001b[0m\u001b[0;34m\u001b[0m\u001b[0m\n\u001b[0m\u001b[1;32m    536\u001b[0m \u001b[0;34m\u001b[0m\u001b[0m\n\u001b[1;32m    537\u001b[0m \u001b[0;34m\u001b[0m\u001b[0m\n",
      "\u001b[0;31mTracingCheckError\u001b[0m: Tracing failed sanity checks!\nERROR: Tensor-valued Constant nodes differed in value across invocations. This often indicates that the tracer has encountered untraceable code.\n\tNode:\n\t\t%29 : Tensor = prim::Constant[value=<Tensor>]() # /tmp/ipykernel_530635/1522865237.py:11:0\n\tSource Location:\n\t\t/tmp/ipykernel_530635/1522865237.py(11): forward\n\t\t/home/mea/anaconda3/envs/dl_ss/lib/python3.7/site-packages/torch/nn/modules/module.py(1118): _slow_forward\n\t\t/home/mea/anaconda3/envs/dl_ss/lib/python3.7/site-packages/torch/nn/modules/module.py(1130): _call_impl\n\t\t/home/mea/anaconda3/envs/dl_ss/lib/python3.7/site-packages/torch/jit/_trace.py(974): trace_module\n\t\t/home/mea/anaconda3/envs/dl_ss/lib/python3.7/site-packages/torch/jit/_trace.py(759): trace\n\t\t/tmp/ipykernel_530635/1522865237.py(66): <module>\n\t\t/home/mea/anaconda3/envs/dl_ss/lib/python3.7/site-packages/IPython/core/interactiveshell.py(3457): run_code\n\t\t/home/mea/anaconda3/envs/dl_ss/lib/python3.7/site-packages/IPython/core/interactiveshell.py(3377): run_ast_nodes\n\t\t/home/mea/anaconda3/envs/dl_ss/lib/python3.7/site-packages/IPython/core/interactiveshell.py(3186): run_cell_async\n\t\t/home/mea/anaconda3/envs/dl_ss/lib/python3.7/site-packages/IPython/core/async_helpers.py(78): _pseudo_sync_runner\n\t\t/home/mea/anaconda3/envs/dl_ss/lib/python3.7/site-packages/IPython/core/interactiveshell.py(2960): _run_cell\n\t\t/home/mea/anaconda3/envs/dl_ss/lib/python3.7/site-packages/IPython/core/interactiveshell.py(2915): run_cell\n\t\t/home/mea/anaconda3/envs/dl_ss/lib/python3.7/site-packages/ipykernel/zmqshell.py(528): run_cell\n\t\t/home/mea/anaconda3/envs/dl_ss/lib/python3.7/site-packages/ipykernel/ipkernel.py(390): do_execute\n\t\t/home/mea/anaconda3/envs/dl_ss/lib/python3.7/site-packages/ipykernel/kernelbase.py(730): execute_request\n\t\t/home/mea/anaconda3/envs/dl_ss/lib/python3.7/site-packages/ipykernel/kernelbase.py(406): dispatch_shell\n\t\t/home/mea/anaconda3/envs/dl_ss/lib/python3.7/site-packages/ipykernel/kernelbase.py(499): process_one\n\t\t/home/mea/anaconda3/envs/dl_ss/lib/python3.7/site-packages/ipykernel/kernelbase.py(510): dispatch_queue\n\t\t/home/mea/anaconda3/envs/dl_ss/lib/python3.7/asyncio/events.py(88): _run\n\t\t/home/mea/anaconda3/envs/dl_ss/lib/python3.7/asyncio/base_events.py(1786): _run_once\n\t\t/home/mea/anaconda3/envs/dl_ss/lib/python3.7/asyncio/base_events.py(541): run_forever\n\t\t/home/mea/anaconda3/envs/dl_ss/lib/python3.7/site-packages/tornado/platform/asyncio.py(215): start\n\t\t/home/mea/anaconda3/envs/dl_ss/lib/python3.7/site-packages/ipykernel/kernelapp.py(712): start\n\t\t/home/mea/anaconda3/envs/dl_ss/lib/python3.7/site-packages/traitlets/config/application.py(992): launch_instance\n\t\t/home/mea/anaconda3/envs/dl_ss/lib/python3.7/site-packages/ipykernel_launcher.py(17): <module>\n\t\t/home/mea/anaconda3/envs/dl_ss/lib/python3.7/runpy.py(85): _run_code\n\t\t/home/mea/anaconda3/envs/dl_ss/lib/python3.7/runpy.py(193): _run_module_as_main\n\tComparison exception: \tCUDA out of memory. Tried to allocate 13.73 GiB (GPU 0; 23.67 GiB total capacity; 13.74 GiB already allocated; 7.12 GiB free; 13.74 GiB reserved in total by PyTorch) If reserved memory is >> allocated memory try setting max_split_size_mb to avoid fragmentation.  See documentation for Memory Management and PYTORCH_CUDA_ALLOC_CONF\n"
     ]
    }
   ],
   "source": [
    "class RT_Sort(torch.nn.Module):\n",
    "    def __init__(self):\n",
    "        super().__init__()\n",
    "        \n",
    "    def forward(self, output_frame):\n",
    "        # output_window = OUTPUTS[:, output_frame-90:output_frame+90]\n",
    "        # torch_window = torch.tensor(output_window, device=\"cuda\")\n",
    "        output_start_frame = output_frame - OUTPUT_WINDOW_HALF_SIZE  # Make slices in TORCH_OUTPUTS relative to torch_window (see spike_assignment2.ipynb)\n",
    "        \n",
    "        # region Find peaks    \n",
    "        window = TORCH_OUTPUTS[seqs_root_elecs, output_start_frame+seq_n_before-1:output_frame+OUTPUT_WINDOW_HALF_SIZE-seq_n_after+1]  # torch_window[seqs_root_elecs, seq_n_before-1:-seq_n_after+1]  # -1 and +1 to identify peaks\n",
    "        main = window[:, 1:-1]\n",
    "        greater_than_left = main > window[:, :-2]\n",
    "        greater_than_right = main > window[:, 2:]\n",
    "        peaks = greater_than_left & greater_than_right\n",
    "        crosses = main >= STRICT_THRESH_LOGIT\n",
    "        peak_ind_flat = torch.nonzero(peaks & crosses, as_tuple=True)[1]\n",
    "        peak_ind_flat = peak_ind_flat[torch.sum(TORCH_OUTPUTS[:, output_start_frame+peak_ind_flat+seq_n_before] >= LOOSE_THRESH_LOGIT, dim=0) <= MAX_LOOSE_DETECTIONS]  # can take about 0.5-2ms\n",
    "        if torch.numel(peak_ind_flat) == 0:\n",
    "            return \n",
    "        \n",
    "        peak_ind = peak_ind_flat[:, None, None]  # Relative to seq_n_before in OUTPUT_WINDOW_HALF_SIZE\n",
    "        # endregion\n",
    "        \n",
    "        spike_window = TORCH_OUTPUTS[comp_elecs, output_start_frame + peak_ind + spike_arange] \n",
    "\n",
    "        elec_probs, latencies = max_pool(spike_window)  # Latencies are relative to peak-seq_n_before\n",
    "\n",
    "        elec_crosses = (elec_probs >= LOOSE_THRESH_LOGIT).transpose(1, 2)\n",
    "        num_inner_loose = torch.sum(elec_crosses & seqs_inner_loose_elecs, dim=2)\n",
    "        pass_inner_loose = num_inner_loose >= MIN_INNER_LOOSE_DETECTIONS\n",
    "\n",
    "        num_loose = torch.sum(elec_crosses & seqs_loose_elecs, dim=2)\n",
    "        pass_loose = num_loose >= seqs_min_loose_elecs\n",
    "\n",
    "        can_spike = pass_inner_loose & pass_loose\n",
    "        # if not np.any(can_spike): continue\n",
    "\n",
    "        latencies_float = latencies.transpose(1, 2).to(torch.float16)\n",
    "        latency_diff = torch.abs(latencies_float - seqs_latencies)\n",
    "        latency_diff = torch.clip(latency_diff, min=None, max=CLIP_LATENCY_DIFF)\n",
    "        latency_diff = torch.sum(latency_diff * seqs_latency_weights, axis=2)\n",
    "        pass_latency = latency_diff <= MAX_LATENCY_DIFF_SPIKES\n",
    "\n",
    "        amps = torch.abs(TORCH_TRACES[comp_elecs, (output_start_frame + FRONT_BUFFER) + peak_ind + latencies].transpose(1, 2)) / pre_medians  # peak_ind+seq_n_before = peak_ind_in_rec_window. latency-seq_n_before = latency_rel_peak_ind. --> (peak_ind+seq_n_before)+(latency-seq_n_before) = peak_ind+latency = spike index in rec_window\n",
    "\n",
    "        root_amp_z = torch.abs(amps[:, 0, seqs_root_elecs_rel_comp_elecs] - seqs_root_amp_means) / seqs_root_amp_stds\n",
    "        pass_root_amp_z = root_amp_z <= MAX_ROOT_AMP_MEDIAN_STD\n",
    "\n",
    "        amp_diff = torch.abs(amps - seqs_amps) / seqs_amps\n",
    "        amp_diff = torch.clip(amp_diff, min=None, max=CLIP_AMP_DIFF)\n",
    "        amp_diff = torch.sum(amp_diff * seqs_amp_weights, axis=2)\n",
    "        pass_amp_diff = amp_diff <= MAX_AMP_MEDIAN_DIFF_SPIKES\n",
    "\n",
    "        can_spike = pass_inner_loose & pass_loose & pass_latency & pass_root_amp_z & pass_amp_diff\n",
    "\n",
    "        # Slighty faster than the following due to only slicing once: # spike_scores = latency_diff[can_spike] / MAX_LATENCY_DIFF_SPIKES + amp_diff[can_spike] / MAX_AMP_MEDIAN_DIFF_SPIKES  - num_loose[can_spike] / torch.sum(elec_crosses, dim=2)\n",
    "        spike_scores = latency_diff / MAX_LATENCY_DIFF_SPIKES + amp_diff / MAX_AMP_MEDIAN_DIFF_SPIKES - num_loose / torch.sum(elec_crosses, dim=2)\n",
    "        spike_scores = 2.1 - spike_scores  # (additional 0.1 in case spike_scores=2)\n",
    "        spike_scores *= can_spike\n",
    "\n",
    "        # 1:34.7\n",
    "        \n",
    "        return spike_scores, peak_ind_flat\n",
    "    \n",
    "rt_sort = torch.jit.trace(RT_Sort(), torch.tensor(1000))"
   ]
  },
  {
   "cell_type": "markdown",
   "metadata": {},
   "source": [
    "## Start running"
   ]
  },
  {
   "cell_type": "code",
   "execution_count": 109,
   "metadata": {},
   "outputs": [
    {
     "name": "stderr",
     "output_type": "stream",
     "text": [
      "100%|██████████| 68074/68074 [02:32<00:00, 447.68it/s]\n"
     ]
    }
   ],
   "source": [
    "# region Time delay histograms\n",
    "delays_total = [] \n",
    "delays_total_spike_detected = []\n",
    "\n",
    "delays_pre_median = []\n",
    "delays_find_peak = []\n",
    "delays_elec_cross = []  # Includes time to extract probs from TORCH_OUTPUTS\n",
    "delays_latency = []\n",
    "delays_root_z = []  # Includes time to extract amps from TORCH_TRACES\n",
    "delays_amp = []\n",
    "delays_can_spike = []\n",
    "delays_assign_spike = []\n",
    "delays_split_spike = []\n",
    "# endregion\n",
    "\n",
    "\n",
    "detections = [[] for _ in range(num_seqs)]\n",
    "last_pre_median_output_frame = -np.inf\n",
    "last_detections = torch.full((num_seqs,), -PRE_MEDIAN_FRAMES, dtype=torch.int64, device=\"cuda\")\n",
    "# for output_frame in [round(315.125 * SAMP_FREQ) - FRONT_BUFFER]:\n",
    "for output_frame in tqdm(range(PRE_MEDIAN_FRAMES-FRONT_BUFFER, END_FRAME-OUTPUT_WINDOW_HALF_SIZE+seq_n_after, step_size)):\n",
    "    if output_frame - last_pre_median_output_frame >= PRE_MEDIAN_FRAMES:\n",
    "        start = perf_counter()\n",
    "        rec_frame = output_frame + FRONT_BUFFER\n",
    "        pre_medians = TORCH_TRACES[comp_elecs_flattened, rec_frame-PRE_MEDIAN_FRAMES:rec_frame] \n",
    "        pre_medians = torch.median(torch.abs(pre_medians), dim=1).values  # Pytorch median different than numpy median: https://stackoverflow.com/a/54310996\n",
    "        pre_medians = torch.clip(pre_medians / 0.6745, min=0.5, max=None)  # a_min=0.5 to prevent dividing by zero when data is just 1s and 0s (median could equal 0) \n",
    "        torch.cuda.synchronize()\n",
    "        end = perf_counter()\n",
    "        delays_pre_median.append((end-start)*1000)\n",
    "    \n",
    "    # output_window = OUTPUTS[:, output_frame-90:output_frame+90]\n",
    "    # torch_window = torch.tensor(output_window, device=\"cuda\")\n",
    "    start = perf_counter()\n",
    "    output_start_frame = output_frame - OUTPUT_WINDOW_HALF_SIZE  # Make slices in TORCH_OUTPUTS relative to torch_window (see spike_assignment2.ipynb)\n",
    "    \n",
    "    # region Find peaks    \n",
    "    # start = perf_counter()\n",
    "    window = TORCH_OUTPUTS[seqs_root_elecs, output_start_frame+seq_n_before-1:output_frame+OUTPUT_WINDOW_HALF_SIZE-seq_n_after+1]  # torch_window[seqs_root_elecs, seq_n_before-1:-seq_n_after+1]  # -1 and +1 to identify peaks\n",
    "    main = window[:, 1:-1]\n",
    "    greater_than_left = main > window[:, :-2]\n",
    "    greater_than_right = main > window[:, 2:]\n",
    "    peaks = greater_than_left & greater_than_right\n",
    "    crosses = main >= STRICT_THRESH_LOGIT\n",
    "    peak_ind_flat = torch.nonzero(peaks & crosses, as_tuple=True)[1]\n",
    "    peak_ind_flat = peak_ind_flat[torch.sum(TORCH_OUTPUTS[:, output_start_frame+peak_ind_flat+seq_n_before] >= LOOSE_THRESH_LOGIT, dim=0) <= MAX_LOOSE_DETECTIONS]  # can take about 0.5-2ms\n",
    "    # if torch.numel(peak_ind_flat) == 0:  # This is very rare (only happend once for 1/16/24 spikeinterface simulated recording)\n",
    "    #     end = perf_counter()\n",
    "    #     delays_find_peak.append((end-start)*1000)\n",
    "    #     delays_total.append(delays_find_peak[-1])\n",
    "    #     delays_total_spike_detected.append(False)\n",
    "    #     continue\n",
    "    # end = perf_counter()\n",
    "    # delays_find_peak.append((end-start)*1000)\n",
    "    # endregion\n",
    "    \n",
    "    # start = perf_counter()\n",
    "    peak_ind = peak_ind_flat[:, None, None]  # Relative to seq_n_before in OUTPUT_WINDOW_HALF_SIZE\n",
    "    spike_window = TORCH_OUTPUTS[comp_elecs, output_start_frame + peak_ind + spike_arange] \n",
    "\n",
    "    elec_probs, latencies = max_pool(spike_window)  # Latencies are relative to peak-seq_n_before\n",
    "    elec_crosses = (elec_probs >= LOOSE_THRESH_LOGIT).transpose(1, 2)\n",
    "    num_inner_loose = torch.sum(elec_crosses & seqs_inner_loose_elecs, dim=2)\n",
    "    pass_inner_loose = num_inner_loose >= MIN_INNER_LOOSE_DETECTIONS\n",
    "\n",
    "    num_loose = torch.sum(elec_crosses & seqs_loose_elecs, dim=2)\n",
    "    pass_loose = num_loose >= seqs_min_loose_elecs\n",
    "    # end = perf_counter()\n",
    "    # delays_elec_cross.append((end-start)*1000)\n",
    "\n",
    "    # Slower to check this since so many DL detections\n",
    "    # can_spike = pass_inner_loose & pass_loose\n",
    "    # if not torch.any(can_spike):\n",
    "    #     continue\n",
    "\n",
    "    # start = perf_counter()\n",
    "    latencies_float = latencies.transpose(1, 2).to(torch.float16)\n",
    "    latency_diff = torch.abs(latencies_float - seqs_latencies)\n",
    "    latency_diff = torch.clip(latency_diff, min=None, max=CLIP_LATENCY_DIFF)\n",
    "    latency_diff = torch.sum(latency_diff * seqs_latency_weights, axis=2)\n",
    "    pass_latency = latency_diff <= MAX_LATENCY_DIFF_SPIKES\n",
    "    # end = perf_counter()\n",
    "    # delays_latency.append((end-start)*1000)\n",
    "\n",
    "    # start = perf_counter()\n",
    "    rec_start_frame = output_start_frame + FRONT_BUFFER\n",
    "    amps = torch.abs(TORCH_TRACES[comp_elecs, rec_start_frame + peak_ind + latencies].transpose(1, 2)) / pre_medians  # peak_ind+seq_n_before = peak_ind_in_rec_window. latency-seq_n_before = latency_rel_peak_ind. --> (peak_ind+seq_n_before)+(latency-seq_n_before) = peak_ind+latency = spike index in rec_window\n",
    "\n",
    "    root_amp_z = torch.abs(amps[:, 0, seqs_root_elecs_rel_comp_elecs] - seqs_root_amp_means) / seqs_root_amp_stds\n",
    "    pass_root_amp_z = root_amp_z <= MAX_ROOT_AMP_MEDIAN_STD\n",
    "    # end = perf_counter()\n",
    "    # delays_root_z.append((end-start)*1000)\n",
    "\n",
    "    # start = perf_counter()\n",
    "    amp_diff = torch.abs(amps - seqs_amps) / seqs_amps\n",
    "    amp_diff = torch.clip(amp_diff, min=None, max=CLIP_AMP_DIFF)\n",
    "    amp_diff = torch.sum(amp_diff * seqs_amp_weights, axis=2)\n",
    "    pass_amp_diff = amp_diff <= MAX_AMP_MEDIAN_DIFF_SPIKES\n",
    "    # end = perf_counter()\n",
    "    # delays_amp.append((end-start)*1000)\n",
    "\n",
    "    # start = perf_counter()\n",
    "    can_spike = (elec_probs[:, seqs_root_elecs_dups, 0] >= STRICT_THRESH_LOGIT) & pass_inner_loose & pass_loose & pass_latency & pass_root_amp_z & pass_amp_diff\n",
    "    # end = perf_counter()\n",
    "    # delays_can_spike.append((end-start)*1000)\n",
    "\n",
    "    # Slighty faster than the following due to only slicing once: # spike_scores = latency_diff[can_spike] / MAX_LATENCY_DIFF_SPIKES + amp_diff[can_spike] / MAX_AMP_MEDIAN_DIFF_SPIKES  - num_loose[can_spike] / torch.sum(elec_crosses, dim=2)\n",
    "    # start = perf_counter()\n",
    "    spike_scores = latency_diff / MAX_LATENCY_DIFF_SPIKES + amp_diff / MAX_AMP_MEDIAN_DIFF_SPIKES - num_loose / torch.sum(elec_crosses, dim=2)\n",
    "    spike_scores = 2.1 - spike_scores  # (additional 0.1 in case spike_scores=2)\n",
    "    spike_scores *= can_spike\n",
    "\n",
    "    peak_ind_2d = peak_ind[:, 0]\n",
    "    next_can_spike = torch.full_like(can_spike, fill_value=1, dtype=torch.bool, device=\"cuda\")   \n",
    "    # end = perf_counter()\n",
    "    # cur_delay_split_spike = (end-start)*1000\n",
    "    \n",
    "    # cur_delay_assign_spike = 0\n",
    "    # spike_detected = False  # TODO: This is only needed for speed testing\n",
    "    while torch.any(spike_scores):\n",
    "        # start = perf_counter()\n",
    "        spike_seq_idx = torch.argmax(spike_scores).item()\n",
    "        spike_idx = spike_seq_idx // num_seqs\n",
    "        seq_idx = spike_seq_idx % num_seqs\n",
    "        offset_spike_time = peak_ind_flat[spike_idx]\n",
    "        spike_time = offset_spike_time + seq_n_before + rec_start_frame\n",
    "        # end = perf_counter()\n",
    "        # cur_delay_assign_spike += ((end-start)*1000)\n",
    "        \n",
    "        # start = perf_counter()\n",
    "        if spike_time - last_detections[seq_idx] <= OVERLAP:\n",
    "            spike_scores[spike_idx, seq_idx] = 0\n",
    "            continue\n",
    "        \n",
    "        detections[seq_idx].append(spike_time)\n",
    "        \n",
    "        # Spike splitting for current window\n",
    "        spike_scores *= seq_no_overlap_mask[seq_idx] & (torch.abs(peak_ind_2d - offset_spike_time) > OVERLAP)\n",
    "        # end = perf_counter()\n",
    "        # cur_delay_split_spike += ((end-start)*1000)\n",
    "        # spike_detected = True\n",
    "        \n",
    "        # Spike splitting for next window\n",
    "        # FAST: just change seq_n_before for all seqs\n",
    "        # Slower: last_spike[~no_overlap_mask] = max(last_spike[~no_overlap_mask], spike_time)\n",
    "        # last_detections[(~no_overlap_mask) & (last_detections < spike_time)] = spike_time\n",
    "\n",
    "    # delays_assign_spike.append(cur_delay_assign_spike)\n",
    "    # delays_split_spike.append(cur_delay_split_spike)\n",
    "    # delays_total.append(delays_find_peak[-1] + delays_elec_cross[-1] + delays_latency[-1] + delays_root_z[-1] + delays_amp[-1] + delays_can_spike[-1] + delays_assign_spike[-1] + delays_split_spike[-1])\n",
    "    # delays_total_spike_detected.append(spike_detected)\n",
    "    # torch.cuda.synchronize()\n",
    "    end = perf_counter()\n",
    "    delays_total.append((end-start)*1000)"
   ]
  },
  {
   "cell_type": "code",
   "execution_count": 103,
   "metadata": {},
   "outputs": [
    {
     "name": "stdout",
     "output_type": "stream",
     "text": [
      "271750\n",
      "513881\n"
     ]
    }
   ],
   "source": [
    "print(sum(len(s) for s in detections))\n",
    "print(sum(len(s.formation_spike_train) for s in ALL_SEQUENCES))\n",
    "\n",
    "def count_matching_events(times1, times2, delta=0.4):\n",
    "    count = 0\n",
    "    ptr1 = ptr2 = 0\n",
    "    while ptr1 < len(times1) and ptr2 < len(times2):\n",
    "        diff = abs(times1[ptr1] - times2[ptr2]) - delta\n",
    "        if diff <= 1e-4:\n",
    "            count += 1\n",
    "            ptr1 += 1\n",
    "            ptr2 += 1\n",
    "        elif times1[ptr1] < times2[ptr2]:\n",
    "            ptr1 += 1\n",
    "        else:\n",
    "            ptr2 += 1\n",
    "    \n",
    "    return count\n",
    "\n",
    "rt_sort = []\n",
    "for dets in detections:\n",
    "    rt_sort.extend([d.item() for d in dets])\n",
    "rt_sort = np.sort(rt_sort)\n",
    "\n",
    "truth = []\n",
    "for seq in ALL_SEQUENCES:\n",
    "    truth.extend(seq.spike_train * SAMP_FREQ)\n",
    "truth = np.sort(truth)"
   ]
  },
  {
   "cell_type": "code",
   "execution_count": 104,
   "metadata": {},
   "outputs": [
    {
     "data": {
      "text/plain": [
       "269491"
      ]
     },
     "execution_count": 104,
     "metadata": {},
     "output_type": "execute_result"
    }
   ],
   "source": [
    "count_matching_events(rt_sort, truth, 0.4*SAMP_FREQ)"
   ]
  },
  {
   "cell_type": "code",
   "execution_count": 80,
   "metadata": {},
   "outputs": [
    {
     "data": {
      "text/plain": [
       "0.5244229695201807"
      ]
     },
     "execution_count": 80,
     "metadata": {},
     "output_type": "execute_result"
    }
   ],
   "source": [
    "269491/513881"
   ]
  },
  {
   "cell_type": "code",
   "execution_count": 106,
   "metadata": {},
   "outputs": [
    {
     "data": {
      "image/png": "[encoded data removed]",
      "text/plain": [
       "<Figure size 640x480 with 1 Axes>"
      ]
     },
     "metadata": {},
     "output_type": "display_data"
    },
    {
     "name": "stdout",
     "output_type": "stream",
     "text": [
      "Mean: 2.04 ms\n",
      "Outliers: [1114.95319696]\n"
     ]
    },
    {
     "ename": "IndexError",
     "evalue": "arrays used as indices must be of integer (or boolean) type",
     "output_type": "error",
     "traceback": [
      "\u001b[0;31m---------------------------------------------------------------------------\u001b[0m",
      "\u001b[0;31mIndexError\u001b[0m                                Traceback (most recent call last)",
      "\u001b[0;32m/tmp/ipykernel_550853/4158333144.py\u001b[0m in \u001b[0;36m<module>\u001b[0;34m\u001b[0m\n\u001b[1;32m     12\u001b[0m \u001b[0mprint\u001b[0m\u001b[0;34m(\u001b[0m\u001b[0;34mf\"Outliers: {delays[delays > 10]}\"\u001b[0m\u001b[0;34m)\u001b[0m\u001b[0;34m\u001b[0m\u001b[0;34m\u001b[0m\u001b[0m\n\u001b[1;32m     13\u001b[0m \u001b[0;34m\u001b[0m\u001b[0m\n\u001b[0;32m---> 14\u001b[0;31m \u001b[0mdelays\u001b[0m \u001b[0;34m=\u001b[0m \u001b[0mdelays_total\u001b[0m\u001b[0;34m[\u001b[0m\u001b[0mdelays_total_spike_detected\u001b[0m\u001b[0;34m]\u001b[0m\u001b[0;34m\u001b[0m\u001b[0;34m\u001b[0m\u001b[0m\n\u001b[0m\u001b[1;32m     15\u001b[0m \u001b[0mplt\u001b[0m\u001b[0;34m.\u001b[0m\u001b[0mhist\u001b[0m\u001b[0;34m(\u001b[0m\u001b[0mdelays\u001b[0m\u001b[0;34m,\u001b[0m \u001b[0mbins\u001b[0m\u001b[0;34m=\u001b[0m\u001b[0;36m30\u001b[0m\u001b[0;34m,\u001b[0m \u001b[0mrange\u001b[0m\u001b[0;34m=\u001b[0m\u001b[0;34m(\u001b[0m\u001b[0;36m0\u001b[0m\u001b[0;34m,\u001b[0m \u001b[0;36m10\u001b[0m\u001b[0;34m)\u001b[0m\u001b[0;34m)\u001b[0m\u001b[0;34m\u001b[0m\u001b[0;34m\u001b[0m\u001b[0m\n\u001b[1;32m     16\u001b[0m \u001b[0mplt\u001b[0m\u001b[0;34m.\u001b[0m\u001b[0mtitle\u001b[0m\u001b[0;34m(\u001b[0m\u001b[0;34m\"Sorting speed for detections\"\u001b[0m\u001b[0;34m)\u001b[0m\u001b[0;34m\u001b[0m\u001b[0;34m\u001b[0m\u001b[0m\n",
      "\u001b[0;31mIndexError\u001b[0m: arrays used as indices must be of integer (or boolean) type"
     ]
    }
   ],
   "source": [
    "delays_total = np.array(delays_total)\n",
    "delays_total_spike_detected = np.array(delays_total_spike_detected)\n",
    "\n",
    "delays = delays_total\n",
    "plt.hist(delays, bins=30, range=(0, 10))\n",
    "plt.title(\"Sorting speed for every forward pass\")\n",
    "plt.xlabel(\"Computation time (ms)\")\n",
    "plt.ylabel(\"Num. detections\")\n",
    "plt.xlim(0)\n",
    "plt.show()\n",
    "print(f\"Mean: {np.mean(delays):.2f} ms\")\n",
    "print(f\"Outliers: {delays[delays > 10]}\")\n",
    "\n",
    "delays = delays_total[delays_total_spike_detected]\n",
    "plt.hist(delays, bins=30, range=(0, 10))\n",
    "plt.title(\"Sorting speed for detections\")\n",
    "plt.xlabel(\"Computation time (ms)\")\n",
    "plt.ylabel(\"Num. detections\")\n",
    "plt.xlim(0)\n",
    "plt.show()\n",
    "print(f\"Mean: {np.mean(delays):.2f} ms\")\n",
    "print(f\"Outliers: {delays[delays > 10]}\")\n",
    "\n",
    "delays = delays_total[~delays_total_spike_detected]\n",
    "plt.hist(delays, bins=30, range=(0, 10))\n",
    "plt.title(\"Sorting speed for no detections\")\n",
    "plt.xlabel(\"Computation time (ms)\")\n",
    "plt.ylabel(\"Num. detections\")\n",
    "plt.xlim(0)\n",
    "plt.show()\n",
    "print(f\"Mean: {np.mean(delays):.2f} ms\")\n",
    "print(f\"Outliers: {delays[delays > 10]}\")"
   ]
  },
  {
   "cell_type": "code",
   "execution_count": 110,
   "metadata": {},
   "outputs": [
    {
     "data": {
      "image/png": "[encoded data removed]",
      "text/plain": [
       "<Figure size 640x480 with 1 Axes>"
      ]
     },
     "metadata": {},
     "output_type": "display_data"
    },
    {
     "name": "stdout",
     "output_type": "stream",
     "text": [
      "Mean: 0.13 ms\n"
     ]
    }
   ],
   "source": [
    "plt.hist(delays_pre_median, bins=30)\n",
    "plt.title(\"Time to calculate preceeding median in traces every 50ms\")\n",
    "plt.xlim(0)\n",
    "plt.ylabel(\"Num. computations\")\n",
    "plt.xlabel(\"Computation time (ms)\")\n",
    "plt.show()\n",
    "print(f\"Mean: {np.mean(delays_pre_median):.2f} ms\")"
   ]
  },
  {
   "cell_type": "markdown",
   "metadata": {},
   "source": [
    "## Development"
   ]
  },
  {
   "cell_type": "code",
   "execution_count": 84,
   "metadata": {},
   "outputs": [],
   "source": [
    "TEST_TIME = 315.125  # Patch spike\n",
    "# TEST_TIME = 22681.78125  # RT-Sort patch spike"
   ]
  },
  {
   "cell_type": "code",
   "execution_count": 2,
   "metadata": {},
   "outputs": [
    {
     "ename": "NameError",
     "evalue": "name 'torch' is not defined",
     "output_type": "error",
     "traceback": [
      "\u001b[0;31m---------------------------------------------------------------------------\u001b[0m",
      "\u001b[0;31mNameError\u001b[0m                                 Traceback (most recent call last)",
      "\u001b[0;32m/tmp/ipykernel_530402/897649038.py\u001b[0m in \u001b[0;36m<module>\u001b[0;34m\u001b[0m\n\u001b[0;32m----> 1\u001b[0;31m \u001b[0mtorch\u001b[0m\u001b[0;34m.\u001b[0m\u001b[0mcuda\u001b[0m\u001b[0;34m.\u001b[0m\u001b[0mempty_cache\u001b[0m\u001b[0;34m(\u001b[0m\u001b[0;34m)\u001b[0m\u001b[0;34m\u001b[0m\u001b[0;34m\u001b[0m\u001b[0m\n\u001b[0m\u001b[1;32m      2\u001b[0m \u001b[0mnum_seqs\u001b[0m \u001b[0;34m=\u001b[0m \u001b[0mlen\u001b[0m\u001b[0;34m(\u001b[0m\u001b[0mall_sequences\u001b[0m\u001b[0;34m)\u001b[0m\u001b[0;34m\u001b[0m\u001b[0;34m\u001b[0m\u001b[0m\n\u001b[1;32m      3\u001b[0m \u001b[0mdetections\u001b[0m \u001b[0;34m=\u001b[0m \u001b[0;34m[\u001b[0m\u001b[0;34m[\u001b[0m\u001b[0;34m]\u001b[0m \u001b[0;32mfor\u001b[0m \u001b[0m_\u001b[0m \u001b[0;32min\u001b[0m \u001b[0mrange\u001b[0m\u001b[0;34m(\u001b[0m\u001b[0mnum_seqs\u001b[0m\u001b[0;34m)\u001b[0m\u001b[0;34m]\u001b[0m\u001b[0;34m\u001b[0m\u001b[0;34m\u001b[0m\u001b[0m\n\u001b[1;32m      4\u001b[0m \u001b[0;34m\u001b[0m\u001b[0m\n\u001b[1;32m      5\u001b[0m \u001b[0mN_BEFORE\u001b[0m \u001b[0;34m=\u001b[0m \u001b[0mN_AFTER\u001b[0m \u001b[0;34m=\u001b[0m \u001b[0mround\u001b[0m\u001b[0;34m(\u001b[0m\u001b[0;36m0.5\u001b[0m \u001b[0;34m*\u001b[0m \u001b[0mSAMP_FREQ\u001b[0m\u001b[0;34m)\u001b[0m\u001b[0;34m\u001b[0m\u001b[0;34m\u001b[0m\u001b[0m\n",
      "\u001b[0;31mNameError\u001b[0m: name 'torch' is not defined"
     ]
    }
   ],
   "source": [
    "torch.cuda.empty_cache()\n",
    "num_seqs = len(all_sequences)\n",
    "detections = [[] for _ in range(num_seqs)]\n",
    "\n",
    "N_BEFORE = N_AFTER = round(0.5 * SAMP_FREQ)\n",
    "output_frame = round(TEST_TIME * SAMP_FREQ) - FRONT_BUFFER\n",
    "output_window = OUTPUTS[:, output_frame-90:output_frame+90]\n",
    "torch_window = torch.tensor(output_window, device=\"cuda\")\n",
    "\n",
    "pre_frames = round(50 * SAMP_FREQ)\n",
    "rec_frame = round(TEST_TIME * SAMP_FREQ)\n",
    "pre_medians = TRACES[:, rec_frame-pre_frames:rec_frame]\n",
    "pre_medians = np.median(np.abs(pre_medians), axis=1)\n",
    "pre_medians = np.clip(pre_medians / 0.6745, a_min=0.5, a_max=None) \n",
    "pre_medians = torch.tensor(pre_medians, dtype=torch.float16, device=\"cuda\")\n",
    "\n",
    "rec_window = torch.tensor(TRACES[:, rec_frame-90:rec_frame+90], dtype=torch.float16, device=\"cuda\")\n",
    "rec_window_size = 90+90\n",
    "spike_arange = torch.arange(0, seq_n_before+seq_n_after+1, device=\"cuda\")# torch.arange(-seq_n_before, seq_n_after+1, device=\"cuda\")\n",
    "\n",
    "start_time = perf_counter()\n",
    "\n",
    "pre_medians_comp = pre_medians[comp_elecs_flattened]\n",
    "\n",
    "window = torch_window[seqs_root_elecs, seq_n_before-1:-seq_n_after+1] # -1 and +1 to identify peaks\n",
    "main = window[:, 1:-1]\n",
    "greater_than_left = main > window[:, :-2]\n",
    "greater_than_right = main > window[:, 2:]\n",
    "peaks = greater_than_left & greater_than_right\n",
    "crosses = main >= STRICT_THRESH_LOGIT\n",
    "peak_ind_flat = torch.nonzero(peaks & crosses, as_tuple=True)[1] # now done in spike_arange: + seq_n_before\n",
    "peak_ind_flat = peak_ind_flat[torch.sum(torch_window[:, peak_ind_flat+seq_n_before] >= LOOSE_THRESH_LOGIT, dim=0) <= MAX_LOOSE_DETECTIONS]  # can take about 0.5-2ms\n",
    "peak_ind = peak_ind_flat[:, None, None]  # Relative to seq_n_before in output_window\n",
    "assert torch.numel(peak_ind) > 0\n",
    "\n",
    "# spike_window = torch.stack([torch_window[comp_elecs, idx-seq_n_before:idx+seq_n_after+1] for idx in peak_ind if seq_n_before <= idx+1 < rec_window_size-seq_n_after])\n",
    "spike_window = torch_window[comp_elecs, peak_ind + spike_arange] \n",
    "\n",
    "elec_probs, latencies = max_pool(spike_window)  # Latencies are relative to peak-seq_n_before\n",
    "\n",
    "elec_crosses = (elec_probs >= LOOSE_THRESH_LOGIT).transpose(1, 2)\n",
    "num_inner_loose = torch.sum(elec_crosses & seqs_inner_loose_elecs, dim=2)\n",
    "pass_inner_loose = num_inner_loose >= MIN_INNER_LOOSE_DETECTIONS\n",
    "\n",
    "num_loose = torch.sum(elec_crosses & seqs_loose_elecs, dim=2)\n",
    "pass_loose = num_loose >= seqs_min_loose_elecs\n",
    "\n",
    "can_spike = pass_inner_loose & pass_loose\n",
    "# if not np.any(can_spike): continue\n",
    "\n",
    "latencies_float = latencies.transpose(1, 2).to(torch.float16)\n",
    "latency_diff = torch.abs(latencies_float - seqs_latencies)\n",
    "latency_diff = torch.clip(latency_diff, min=None, max=CLIP_LATENCY_DIFF)\n",
    "latency_diff = torch.sum(latency_diff * seqs_latency_weights, axis=2)\n",
    "pass_latency = latency_diff <= MAX_LATENCY_DIFF_SPIKES\n",
    "\n",
    "# region\n",
    "amps = torch.abs(rec_window[comp_elecs, peak_ind + latencies].transpose(1, 2)) / pre_medians_comp  # peak_ind+seq_n_before = peak_ind_in_rec_window. latency-seq_n_before = latency_rel_peak_ind. --> (peak_ind+seq_n_before)+(latency-seq_n_before) = peak_ind+latency = spike index in rec_window\n",
    "\n",
    "root_amp_z = torch.abs(amps[:, 0, seqs_root_elecs_rel_comp_elecs] - seqs_root_amp_means) / seqs_root_amp_stds\n",
    "pass_root_amp_z = root_amp_z <= MAX_ROOT_AMP_MEDIAN_STD\n",
    "\n",
    "amp_diff = torch.abs(amps - seqs_amps) / seqs_amps\n",
    "amp_diff = torch.clip(amp_diff, min=None, max=CLIP_AMP_DIFF)\n",
    "amp_diff = torch.sum(amp_diff * seqs_amp_weights, axis=2)\n",
    "pass_amp_diff = amp_diff <= MAX_AMP_MEDIAN_DIFF_SPIKES\n",
    "\n",
    "can_spike = pass_inner_loose & pass_loose & pass_latency & pass_root_amp_z & pass_amp_diff\n",
    "\n",
    "# Slighty faster than the following due to only slicing once: # spike_scores = latency_diff[can_spike] / MAX_LATENCY_DIFF_SPIKES + amp_diff[can_spike] / MAX_AMP_MEDIAN_DIFF_SPIKES  - num_loose[can_spike] / torch.sum(elec_crosses, dim=2)\n",
    "spike_scores = latency_diff / MAX_LATENCY_DIFF_SPIKES + amp_diff / MAX_AMP_MEDIAN_DIFF_SPIKES - num_loose / torch.sum(elec_crosses, dim=2)\n",
    "spike_scores = 2.1 - spike_scores  # (additional 0.1 in case spike_scores=2)\n",
    "# spike_scores = spike_scores[can_spike]\n",
    "# spike_scores = torch.topk(spike_scores, 2)\n",
    "spike_scores *= can_spike\n",
    "\n",
    "peak_ind_2d = peak_ind[:, 0]\n",
    "while torch.any(spike_scores):\n",
    "    spike_seq_idx = torch.argmax(spike_scores).item()\n",
    "    spike_idx = spike_seq_idx // num_seqs\n",
    "    seq_idx = spike_seq_idx % num_seqs\n",
    "    spike_time = peak_ind_flat[spike_idx]\n",
    "    # region Only one spike within OVERLAP\n",
    "    spike_scores *= seq_no_overlap_mask[seq_idx] & (torch.abs(peak_ind_2d - spike_time) > OVERLAP)\n",
    "    detections[seq_idx].append(spike_time + seq_n_before)\n",
    "    # endregion\n",
    "        \n",
    "    # region Allow multiple spikes within OVERLAP.\n",
    "    # spike_time = peak_ind[spike_idx] + seq_n_before\n",
    "    # above_thresh = torch_window[seq_idx_to_outer_elecs[seq_idx], spike_time-N_BEFORE:spike_time+N_AFTER+1] >= LOOSE_THRESH_LOGIT\n",
    "    # peaks = ~above_thresh[:, :-1] & above_thresh[:, 1:]\n",
    "    # num_spikes = torch.sum(peaks, dim=1)\n",
    "    # num_spikes = torch.max(num_spikes)\n",
    "    # spike_seq_ind = torch.topk(spike_scores.flatten(), num_spikes, sorted=False).indices\n",
    "    # for spike_seq_idx in spike_seq_ind:\n",
    "    #     spike_seq_idx = spike_seq_idx.item()\n",
    "    #     spike_idx = spike_seq_idx // num_seqs\n",
    "    #     seq_idx = spike_seq_idx % num_seqs\n",
    "    #     spike_time = peak_ind_flat[spike_idx]\n",
    "    #     spike_scores *= seq_no_overlap_mask[seq_idx] & (torch.abs(peak_ind_2d - spike_time) > OVERLAP)\n",
    "    #     detections[seq_idx].append(spike_time + seq_n_before)\n",
    "    # endregion\n",
    "        \n",
    "torch.cuda.synchronize()\n",
    "end_time = perf_counter()\n",
    "print((end_time-start_time)*1000)\n",
    "print(detections)\n",
    "# print(latency_diff)\n",
    "# print(amp_diff)\n",
    "\n",
    "# sigmoided = sigmoid6(output_window)\n",
    "# plt.plot(sigmoided)\n",
    "# plt.scatter(peaks, sigmoided[peaks], color=\"orange\")\n",
    "# plt.show()"
   ]
  },
  {
   "cell_type": "code",
   "execution_count": 630,
   "metadata": {},
   "outputs": [
    {
     "name": "stdout",
     "output_type": "stream",
     "text": [
      "7526\n"
     ]
    },
    {
     "data": {
      "text/plain": [
       "0.34784001763910055"
      ]
     },
     "execution_count": 630,
     "metadata": {},
     "output_type": "execute_result"
    }
   ],
   "source": [
    "pre_frames = round(50 * SAMP_FREQ)\n",
    "\n",
    "torch.cuda.empty_cache() \n",
    "value = np.random.randint(1000, 10000)\n",
    "rec_frame = round(value * SAMP_FREQ)\n",
    "pre_medians = torch.tensor(TRACES[all_comp_elecs, rec_frame-pre_frames:rec_frame], dtype=torch.float16, device=\"cuda\")\n",
    "\n",
    "start = perf_counter()\n",
    "\n",
    "pre_medians = torch.median(torch.abs(pre_medians), dim=1).values\n",
    "# pre_medians = torch.clip(pre_medians / 0.6745, a_min=0.5, a_max=None) \n",
    "\n",
    "torch.cuda.synchronize()\n",
    "end = perf_counter()\n",
    "(end - start)*1000"
   ]
  },
  {
   "cell_type": "code",
   "execution_count": 973,
   "metadata": {},
   "outputs": [
    {
     "data": {
      "text/plain": [
       "3.0458029941655695"
      ]
     },
     "execution_count": 973,
     "metadata": {},
     "output_type": "execute_result"
    }
   ],
   "source": [
    "pre_frames = round(50 * SAMP_FREQ)\n",
    "\n",
    "detections = []\n",
    "start = perf_counter()\n",
    "\n",
    "spike_scores, peak_ind_2d = model(torch_window)\n",
    "while torch.any(spike_scores):\n",
    "    spike_seq_idx = torch.argmax(spike_scores).item()\n",
    "    spike_idx = spike_seq_idx // num_seqs\n",
    "    seq_idx = spike_seq_idx % num_seqs\n",
    "    spike_time = peak_ind_flat[spike_idx]\n",
    "    # region Only one spike within OVERLAP\n",
    "    spike_scores *= seq_no_overlap_mask[seq_idx] & (torch.abs(peak_ind_2d - spike_time) > OVERLAP)\n",
    "    detections.append(seq_idx)\n",
    "    detections.append(spike_time)\n",
    "\n",
    "torch.cuda.synchronize()\n",
    "end = perf_counter()\n",
    "(end - start)*1000"
   ]
  },
  {
   "cell_type": "code",
   "execution_count": 10,
   "metadata": {},
   "outputs": [
    {
     "data": {
      "text/plain": [
       "torch.Size([48, 250, 1])"
      ]
     },
     "execution_count": 10,
     "metadata": {},
     "output_type": "execute_result"
    }
   ],
   "source": [
    "elec_probs[:, seqs_root_elecs_dups, 0]"
   ]
  },
  {
   "cell_type": "code",
   "execution_count": 90,
   "metadata": {},
   "outputs": [
    {
     "data": {
      "text/plain": [
       "0.49818301340565085"
      ]
     },
     "execution_count": 90,
     "metadata": {},
     "output_type": "execute_result"
    }
   ],
   "source": [
    "test = torch.tensor([0, 1, 2, 3])\n",
    "spike = torch.tensor(3)\n",
    "start = perf_counter()\n",
    "test[1:3] = torch.max(test[1:3], spike)\n",
    "end = perf_counter()\n",
    "(end-start)*1000"
   ]
  },
  {
   "cell_type": "code",
   "execution_count": 73,
   "metadata": {},
   "outputs": [
    {
     "data": {
      "text/plain": [
       "tensor(1166, device='cuda:0')"
      ]
     },
     "execution_count": 73,
     "metadata": {},
     "output_type": "execute_result"
    }
   ],
   "source": [
    "torch.sum(~seq_no_overlap_mask)"
   ]
  },
  {
   "cell_type": "code",
   "execution_count": 769,
   "metadata": {},
   "outputs": [
    {
     "data": {
      "text/plain": [
       "tensor([[[0, 1, 2],\n",
       "         [6, 7, 8]]])"
      ]
     },
     "execution_count": 769,
     "metadata": {},
     "output_type": "execute_result"
    }
   ],
   "source": [
    "torch.tensor([  # (chans, samples)\n",
    "    [0, 1, 2, 3, 4, 5],\n",
    "    [6, 7, 8, 9, 10, 11],\n",
    "    [12, 13, 14, 15, 16, 17],\n",
    "    [18, 19, 20, 21, 22, 23]\n",
    "])[\n",
    "    [[0], [1]],\n",
    "    [[[0, 1, 2]]]\n",
    "]"
   ]
  },
  {
   "cell_type": "code",
   "execution_count": 783,
   "metadata": {},
   "outputs": [
    {
     "data": {
      "text/plain": [
       "tensor([[[ 0,  7],\n",
       "         [12, 19]],\n",
       "\n",
       "        [[ 2,  9],\n",
       "         [14, 21]]])"
      ]
     },
     "execution_count": 783,
     "metadata": {},
     "output_type": "execute_result"
    }
   ],
   "source": [
    "torch.tensor([  # (chans, samples)\n",
    "    [0, 1, 2, 3, 4, 5],\n",
    "    [6, 7, 8, 9, 10, 11],\n",
    "    [12, 13, 14, 15, 16, 17],\n",
    "    [18, 19, 20, 21, 22, 23]\n",
    "])[        \n",
    "    [[0, 1],\n",
    "     [2, 3]],\n",
    "    \n",
    "    [[[0, 1]],\n",
    "     [[2, 3]]]\n",
    "]"
   ]
  },
  {
   "cell_type": "code",
   "execution_count": 717,
   "metadata": {},
   "outputs": [
    {
     "data": {
      "text/plain": [
       "(2, 1, 3)"
      ]
     },
     "execution_count": 717,
     "metadata": {},
     "output_type": "execute_result"
    }
   ],
   "source": [
    "np.array([[[0, 1, 2]], [[2, 3, 4]]]).shape"
   ]
  },
  {
   "cell_type": "code",
   "execution_count": 615,
   "metadata": {},
   "outputs": [
    {
     "data": {
      "text/plain": [
       "tensor([[[ 0,  1],\n",
       "         [ 6,  7]],\n",
       "\n",
       "        [[14, 15],\n",
       "         [20, 21]]])"
      ]
     },
     "execution_count": 615,
     "metadata": {},
     "output_type": "execute_result"
    }
   ],
   "source": [
    "torch.tensor([[  # (chans, samples)\n",
    "    [0, 1, 2, 3, 4, 5],\n",
    "    [6, 7, 8, 9, 10, 11],\n",
    "    [12, 13, 14, 15, 16, 17],\n",
    "    [18, 19, 20, 21, 22, 23]\n",
    "]])[    \n",
    "    [0, 0],\n",
    "    [[[0], [1]], [[2], [3]]],\n",
    "    [[[0, 1], [0, 1]], [[2, 3], [2, 3]]],\n",
    "    \n",
    "]"
   ]
  },
  {
   "cell_type": "code",
   "execution_count": 182,
   "metadata": {},
   "outputs": [
    {
     "ename": "IndexError",
     "evalue": "shape mismatch: indexing tensors could not be broadcast together with shapes [2, 13], [2, 26]",
     "output_type": "error",
     "traceback": [
      "\u001b[0;31m---------------------------------------------------------------------------\u001b[0m",
      "\u001b[0;31mIndexError\u001b[0m                                Traceback (most recent call last)",
      "\u001b[0;32m/tmp/ipykernel_331740/2832611322.py\u001b[0m in \u001b[0;36m<module>\u001b[0;34m\u001b[0m\n\u001b[1;32m      1\u001b[0m torch_window[\n\u001b[1;32m      2\u001b[0m     \u001b[0;34m[\u001b[0m\u001b[0mcomp_elecs\u001b[0m\u001b[0;34m]\u001b[0m\u001b[0;34m*\u001b[0m\u001b[0mlen\u001b[0m\u001b[0;34m(\u001b[0m\u001b[0mpeak_ind\u001b[0m\u001b[0;34m)\u001b[0m\u001b[0;34m,\u001b[0m\u001b[0;34m\u001b[0m\u001b[0;34m\u001b[0m\u001b[0m\n\u001b[0;32m----> 3\u001b[0;31m     \u001b[0mpeak_ind\u001b[0m\u001b[0;34m+\u001b[0m\u001b[0mspike_arange\u001b[0m\u001b[0;34m\u001b[0m\u001b[0;34m\u001b[0m\u001b[0m\n\u001b[0m\u001b[1;32m      4\u001b[0m ]\n",
      "\u001b[0;31mIndexError\u001b[0m: shape mismatch: indexing tensors could not be broadcast together with shapes [2, 13], [2, 26]"
     ]
    }
   ],
   "source": [
    "torch_window[\n",
    "    [comp_elecs]*len(peak_ind),\n",
    "    peak_ind+spike_arange\n",
    "]"
   ]
  },
  {
   "cell_type": "code",
   "execution_count": 161,
   "metadata": {},
   "outputs": [
    {
     "name": "stdout",
     "output_type": "stream",
     "text": [
      "0.23681597667746246\n"
     ]
    }
   ],
   "source": [
    "arange = torch.arange(10, device=\"cuda\")\n",
    "start_time = perf_counter()\n",
    "torch_window[\n",
    "    peak_ind,\n",
    "    peak_ind+arange\n",
    "]\n",
    "end_time = perf_counter()\n",
    "print((end_time - start_time)*1000)"
   ]
  },
  {
   "cell_type": "code",
   "execution_count": 111,
   "metadata": {},
   "outputs": [
    {
     "ename": "RuntimeError",
     "evalue": "Could not infer dtype of slice",
     "output_type": "error",
     "traceback": [
      "\u001b[0;31m---------------------------------------------------------------------------\u001b[0m",
      "\u001b[0;31mRuntimeError\u001b[0m                              Traceback (most recent call last)",
      "\u001b[0;32m/tmp/ipykernel_331740/3762189479.py\u001b[0m in \u001b[0;36m<module>\u001b[0;34m\u001b[0m\n\u001b[1;32m      2\u001b[0m     \u001b[0;34m[\u001b[0m\u001b[0;36m0\u001b[0m\u001b[0;34m,\u001b[0m \u001b[0;36m1\u001b[0m\u001b[0;34m,\u001b[0m \u001b[0;36m2\u001b[0m\u001b[0;34m]\u001b[0m\u001b[0;34m,\u001b[0m\u001b[0;34m\u001b[0m\u001b[0;34m\u001b[0m\u001b[0m\n\u001b[1;32m      3\u001b[0m     \u001b[0;34m[\u001b[0m\u001b[0;36m3\u001b[0m\u001b[0;34m,\u001b[0m \u001b[0;36m4\u001b[0m\u001b[0;34m,\u001b[0m \u001b[0;36m5\u001b[0m\u001b[0;34m]\u001b[0m\u001b[0;34m\u001b[0m\u001b[0;34m\u001b[0m\u001b[0m\n\u001b[0;32m----> 4\u001b[0;31m ])[slice(0, 1), [slice(0, 2), slice(0, 2)]]\n\u001b[0m",
      "\u001b[0;31mRuntimeError\u001b[0m: Could not infer dtype of slice"
     ]
    }
   ],
   "source": [
    "torch.tensor([\n",
    "    [0, 1, 2],\n",
    "    [3, 4, 5]\n",
    "])[slice(0, 1), [slice(0, 2), slice(0, 2)]]"
   ]
  },
  {
   "cell_type": "code",
   "execution_count": 109,
   "metadata": {},
   "outputs": [
    {
     "data": {
      "text/plain": [
       "tensor([0, 1])"
      ]
     },
     "execution_count": 109,
     "metadata": {},
     "output_type": "execute_result"
    }
   ],
   "source": [
    "torch.tensor([0, 1, 2])[slice(0, 2)]"
   ]
  },
  {
   "cell_type": "code",
   "execution_count": null,
   "metadata": {},
   "outputs": [],
   "source": []
  },
  {
   "cell_type": "code",
   "execution_count": null,
   "metadata": {},
   "outputs": [],
   "source": []
  },
  {
   "cell_type": "code",
   "execution_count": null,
   "metadata": {},
   "outputs": [],
   "source": []
  },
  {
   "cell_type": "code",
   "execution_count": 279,
   "metadata": {},
   "outputs": [
    {
     "name": "stdout",
     "output_type": "stream",
     "text": [
      "1.9555579929146916\n",
      "tensor([  1.8779,  41.1250,  85.2500, 138.2500], device='cuda:0',\n",
      "       dtype=torch.float16)\n",
      "tensor([ 0.1903,  4.8125, 13.2422, 23.2656], device='cuda:0',\n",
      "       dtype=torch.float16)\n"
     ]
    }
   ],
   "source": [
    "torch.cuda.empty_cache()\n",
    "NUM_SEQS = 4\n",
    "\n",
    "seq = ALL_SEQUENCES[4]\n",
    "latencies = seq.all_latencies[seq.comp_elecs]\n",
    "seq_n_before = ceil(np.abs(np.min(latencies))) + CLIP_LATENCY_DIFF\n",
    "seq_n_after = ceil(np.max(latencies)) + CLIP_LATENCY_DIFF \n",
    "comp_elecs = seq.comp_elecs\n",
    "nor_comp_elecs = seq.nor_comp_elecs\n",
    "\n",
    "max_pool = torch.nn.MaxPool1d(seq_n_before+seq_n_after+1, return_indices=True)\n",
    "\n",
    "torch_window = torch.tensor(output_window, device=\"cuda\")\n",
    "\n",
    "# seqs_root_elecs = [seq.root_elec for i in range(NUM_SEQS)]\n",
    "seqs_template_latencies = torch.vstack([seq.test_latencies+i for i in range(NUM_SEQS)])\n",
    "seqs_latency_weights = torch.vstack([seq.test_latency_weights+i for i in range(NUM_SEQS)])\n",
    "seqs_template_amps = torch.vstack([seq.test_amps+i for i in range(NUM_SEQS)])\n",
    "seqs_amp_weights = torch.vstack([seq.test_amp_weights+i for i in range(NUM_SEQS)])\n",
    "\n",
    "pre_frames = round(50 * SAMP_FREQ)\n",
    "rec_frame = round(TEST_TIME * SAMP_FREQ)\n",
    "pre_medians = TRACES[:, rec_frame-pre_frames:rec_frame]\n",
    "pre_medians = np.median(np.abs(pre_medians), axis=1)\n",
    "pre_medians = np.clip(pre_medians / 0.6745, a_min=0.5, a_max=None) \n",
    "pre_medians = torch.tensor(pre_medians, dtype=torch.float16, device=\"cuda\")\n",
    "\n",
    "rec_window = torch.tensor(TRACES[:, rec_frame-90:rec_frame+90], dtype=torch.float16, device=\"cuda\")\n",
    "\n",
    "start_time = perf_counter()\n",
    "\n",
    "# for win in window:\n",
    "#     main = win[1:-1]\n",
    "#     greater_than_left = main > win[:-2]\n",
    "#     greater_than_right = main > win[2:]\n",
    "#     peaks = greater_than_left & greater_than_right\n",
    "\n",
    "# main = window[:, 1:-1]\n",
    "# greater_than_left = main > window[:, :-2]\n",
    "# greater_than_right = main > window[:, 2:]\n",
    "# peaks = greater_than_left & greater_than_right\n",
    "# for p in peaks:\n",
    "#     np.flatnonzero(p)\n",
    "\n",
    "for _ in range(1):\n",
    "    window = torch_window[seq.root_elec]\n",
    "    main = window[1:-1]\n",
    "    greater_than_left = main > window[:-2]\n",
    "    greater_than_right = main > window[2:]\n",
    "    peaks = greater_than_left & greater_than_right\n",
    "    crosses = main >= strict_thresh_logit\n",
    "    peak_ind = torch.nonzero(peaks & crosses) + 1\n",
    "\n",
    "    pre_medians_comp = pre_medians[comp_elecs]\n",
    "    for idx in peak_ind:\n",
    "        spike_window = torch_window[comp_elecs, idx-seq_n_before:idx+seq_n_after+1]\n",
    "        elec_probs, latencies = max_pool(spike_window)\n",
    "        latencies = latencies.flatten()\n",
    "        \n",
    "        latencies_float = latencies.to(torch.float16) - seq_n_before\n",
    "        latency_diff = torch.abs(latencies_float[1:] - seqs_template_latencies)\n",
    "        latency_diff = torch.clip(latency_diff, max=CLIP_LATENCY_DIFF)\n",
    "        latency_diff = torch.sum(latency_diff * seqs_latency_weights, axis=1)\n",
    "\n",
    "        amps = torch.abs(rec_window[comp_elecs, idx-seq_n_before+latencies]) / pre_medians_comp\n",
    "        amp_diff = torch.abs(amps - seqs_template_amps) / seqs_template_amps\n",
    "        amp_diff = torch.clip(amp_diff, max=CLIP_AMP_DIFF)\n",
    "        amp_diff = torch.sum(amp_diff * seqs_amp_weights, axis=1)\n",
    "        break\n",
    "        \n",
    "# for _ in range(10):\n",
    "#     for idx in peak_ind:\n",
    "#         # for seq in elec_to_seqs[root_elec]:\n",
    "#         #     if torch.sum(elec_probs[seq.inner_loose_elecs] >= loose_thresh_logit) < MIN_INNER_LOOSE_DETECTIONS:\n",
    "#         #         continue\n",
    "            \n",
    "#         #     if torch.sum(elec_probs[seq.loose_elecs] >= loose_thresh_logit) < MIN_LOOSE_DETECTIONS_N:\n",
    "#         #         continue\n",
    "            \n",
    "            \n",
    "#         #     # latency_diff = latencies[seq.nor_comp_elecs] - seq.test_latencies\n",
    "#         #     latency_diff = torch.sum(latencies[seq.nor_comp_elecs] * seq.test_latency_elec_probs)\n",
    "#         # latency_diff = torch.abs((latencies[1:] - latencies[0]) - seqs_latencies)\n",
    "#         seqs_latencies = seqs_template_latencies + latencies[seqs_root_elecs][:, None]\n",
    "#         comp_latencies = latencies[seq.nor_comp_elecs]\n",
    "#         latency_diff = torch.abs(comp_latencies - seqs_latencies)\n",
    "#         latency_diff = torch.clip(latency_diff, max=CLIP_LATENCY_DIFF)\n",
    "#         latency_diff = torch.sum(latency_diff * seqs_latency_weights, axis=1)\n",
    "        \n",
    "    # elec_probs, latencies = torch.max(torch_window[seq.comp_elecs], axis=1)\n",
    "    # if torch.sum(elec_probs[seq.test_inner_elecs] >= loose_thresh_logit) < 2:\n",
    "    #     continue\n",
    "\n",
    "torch.cuda.synchronize()\n",
    "end_time = perf_counter()\n",
    "print((end_time-start_time)*1000)\n",
    "print(latency_diff)\n",
    "print(amp_diff)\n",
    "\n",
    "# sigmoided = sigmoid(output_window)\n",
    "# plt.plot(sigmoided)\n",
    "# plt.scatter(peaks, sigmoided[peaks], color=\"orange\")\n",
    "# plt.show()"
   ]
  },
  {
   "cell_type": "code",
   "execution_count": 271,
   "metadata": {},
   "outputs": [
    {
     "data": {
      "text/plain": [
       "tensor([0.4324, 0.0000, 0.1692, 0.1495, 0.1495, 0.0997, 0.0000, 0.0000, 0.0000,\n",
       "        0.0000, 0.0000, 0.0000, 0.0000], device='cuda:0', dtype=torch.float16)"
      ]
     },
     "execution_count": 271,
     "metadata": {},
     "output_type": "execute_result"
    }
   ],
   "source": [
    "seqs_amp_weights[0]"
   ]
  },
  {
   "cell_type": "code",
   "execution_count": 261,
   "metadata": {},
   "outputs": [
    {
     "data": {
      "image/png": "[encoded data removed]",
      "text/plain": [
       "<Figure size 640x480 with 1 Axes>"
      ]
     },
     "metadata": {},
     "output_type": "display_data"
    }
   ],
   "source": [
    "plt.plot(rec_window[arange_comp_elecs, idx-seq_n_before:idx+seq_n_after+1].T.cpu())\n",
    "plt.show()"
   ]
  },
  {
   "cell_type": "code",
   "execution_count": null,
   "metadata": {},
   "outputs": [],
   "source": []
  },
  {
   "cell_type": "code",
   "execution_count": 40,
   "metadata": {},
   "outputs": [
    {
     "name": "stdout",
     "output_type": "stream",
     "text": [
      "6.905371003085747\n",
      "tensor([  2.9609,  52.6875, 106.0625, 161.2500], device='cuda:0',\n",
      "       dtype=torch.float16)\n"
     ]
    }
   ],
   "source": [
    "torch.cuda.empty_cache()\n",
    "NUM_SEQS = 4\n",
    "\n",
    "seq = ALL_SEQUENCES[4]\n",
    "torch_window = torch.tensor(output_window, device=\"cuda\")\n",
    "arange = torch.arange(N_BEFORE+N_AFTER+1-2) # np.arange(1, output_window.size-1)\n",
    "window_size = N_BEFORE + N_AFTER + 1\n",
    "\n",
    "seqs_root_elecs = [seq.root_elec for i in range(NUM_SEQS)]\n",
    "seqs_template_latencies = torch.vstack([seq.test_latencies+i for i in range(NUM_SEQS)])\n",
    "seqs_latency_weights = torch.vstack([seq.test_latency_weights+i for i in range(NUM_SEQS)])\n",
    "\n",
    "start_time = perf_counter()\n",
    "\n",
    "\n",
    "\n",
    "window = torch_window[seq.root_elec]\n",
    "main = window[1:-1]\n",
    "greater_than_left = main > window[:-2]\n",
    "greater_than_right = main > window[2:]\n",
    "peaks = greater_than_left & greater_than_right\n",
    "crosses = main >= strict_thresh_logit\n",
    "peak_ind = torch.nonzero(peaks & crosses) + 1\n",
    "\n",
    "elec_probs, latencies = torch.nn.functional.max_pool1d(torch_window, window_size, return_indices=True)\n",
    "latencies = latencies.to(torch.float16).flatten()\n",
    "\n",
    "for _ in range(10):\n",
    "    for idx in peak_ind:\n",
    "        # for seq in elec_to_seqs[root_elec]:\n",
    "        #     if torch.sum(elec_probs[seq.inner_loose_elecs] >= loose_thresh_logit) < MIN_INNER_LOOSE_DETECTIONS:\n",
    "        #         continue\n",
    "            \n",
    "        #     if torch.sum(elec_probs[seq.loose_elecs] >= loose_thresh_logit) < MIN_LOOSE_DETECTIONS_N:\n",
    "        #         continue\n",
    "            \n",
    "            \n",
    "        #     # latency_diff = latencies[seq.nor_comp_elecs] - seq.test_latencies\n",
    "        #     latency_diff = torch.sum(latencies[seq.nor_comp_elecs] * seq.test_latency_elec_probs)\n",
    "        # latency_diff = torch.abs((latencies[1:] - latencies[0]) - seqs_latencies)\n",
    "        seqs_latencies = seqs_template_latencies + latencies[seqs_root_elecs][:, None]\n",
    "        comp_latencies = latencies[seq.nor_comp_elecs]\n",
    "        latency_diff = torch.abs(comp_latencies - seqs_latencies)\n",
    "        latency_diff = torch.clip(latency_diff, max=CLIP_LATENCY_DIFF)\n",
    "        latency_diff = torch.sum(latency_diff * seqs_latency_weights, axis=1)\n",
    "        \n",
    "    # elec_probs, latencies = torch.max(torch_window[seq.comp_elecs], axis=1)\n",
    "    # if torch.sum(elec_probs[seq.test_inner_elecs] >= loose_thresh_logit) < 2:\n",
    "    #     continue\n",
    "\n",
    "torch.cuda.synchronize()\n",
    "end_time = perf_counter()\n",
    "print((end_time-start_time)*1000)\n",
    "print(latency_diff)\n",
    "\n",
    "# sigmoided = sigmoid(output_window)\n",
    "# plt.plot(sigmoided)\n",
    "# plt.scatter(peaks, sigmoided[peaks], color=\"orange\")\n",
    "# plt.show()"
   ]
  },
  {
   "cell_type": "code",
   "execution_count": null,
   "metadata": {},
   "outputs": [
    {
     "data": {
      "text/plain": [
       "tensor([[16.],\n",
       "        [16.],\n",
       "        [16.],\n",
       "        [16.]], device='cuda:0', dtype=torch.float16)"
      ]
     },
     "execution_count": 15,
     "metadata": {},
     "output_type": "execute_result"
    }
   ],
   "source": [
    "latencies[seqs_root_elecs][:, None]"
   ]
  },
  {
   "cell_type": "code",
   "execution_count": null,
   "metadata": {},
   "outputs": [
    {
     "name": "stderr",
     "output_type": "stream",
     "text": [
      "/home/mea/anaconda3/envs/dl_ss/lib/python3.7/site-packages/ipykernel_launcher.py:1: UserWarning: The use of `x.T` on tensors of dimension other than 2 to reverse their shape is deprecated and it will throw an error in a future release. Consider `x.mT` to transpose batches of matricesor `x.permute(*torch.arange(x.ndim - 1, -1, -1))` to reverse the dimensions of a tensor. (Triggered internally at  ../aten/src/ATen/native/TensorShape.cpp:2981.)\n",
      "  \"\"\"Entry point for launching an IPython kernel.\n"
     ]
    },
    {
     "data": {
      "text/plain": [
       "tensor([ 7.,  5.,  7., 16., 16., 10.,  1., 24., 29., 32., 23.,  6., 18., 32.,\n",
       "         4., 32., 19.,  4.,  8., 24., 31., 21.,  6., 21., 26., 15., 17.,  0.,\n",
       "         3.,  0.,  8., 32., 24., 22., 26., 28., 32.,  0., 28., 14., 18., 31.,\n",
       "         0.,  0.,  5., 30., 25., 29., 25.,  1.,  0., 18., 28., 27., 28., 27.,\n",
       "        29.,  6.,  7.,  7.,  9., 28., 26., 27., 29., 23., 17.,  0.,  9., 17.,\n",
       "         3.,  0., 24., 21., 32., 32.,  3., 31., 28., 19.,  1., 21., 22.,  5.,\n",
       "         8., 29., 11.,  5., 12., 23., 21., 32.,  2., 26.,  9., 32.,  7.,  7.,\n",
       "        10.,  0., 25., 28.,  0., 11., 25.,  2., 24.,  7.,  9.,  5.,  0., 32.,\n",
       "        12., 30., 29.,  3., 28., 28., 28.,  2., 15.,  0., 20.,  1.,  1., 29.,\n",
       "        25., 19.,  6., 16., 23., 31.,  7.,  1., 24., 12., 21., 30., 20.,  2.,\n",
       "        23., 13.,  5.,  3.,  4., 30., 31., 27., 26., 28., 28., 28., 19., 15.,\n",
       "         7.,  8., 15., 22., 32., 19., 23.,  6.,  0., 29.,  1.,  0.,  7.,  1.,\n",
       "         0., 32., 29.,  3., 19., 32., 21.,  0., 16.,  4., 28., 31., 22., 10.,\n",
       "         4., 25., 20., 29., 30.,  4., 32., 30., 24.,  0., 30., 15., 22., 17.,\n",
       "        15., 25., 15., 10.,  0., 25., 27., 30., 16., 14., 17., 29.,  7., 10.,\n",
       "         9., 12.,  0., 28., 26., 21.,  0.,  2., 24., 21., 32., 28., 15.,  0.,\n",
       "        21., 11., 10., 25., 21., 28.,  3., 30., 16., 32., 29., 24.,  0., 28.,\n",
       "        21., 10., 25., 15., 30.,  6., 28., 28., 27., 27., 30., 18.,  8.,  7.,\n",
       "        12., 12., 22., 32., 31.,  3.,  7., 28., 10.,  6., 22.,  4., 11., 30.,\n",
       "        32., 23., 32.,  0.,  6.,  0.,  4., 19.,  9., 28.,  5., 11., 29., 14.,\n",
       "        16., 24., 29.,  0., 14., 19., 32., 30.,  6., 22., 15., 20.,  7., 32.,\n",
       "        16.,  4., 12., 21., 22., 22., 18.,  9., 27., 14.,  4., 17.,  0., 28.,\n",
       "         0.,  4.,  9., 11., 20., 19.,  4., 26., 16.,  5.,  1., 25., 17., 31.,\n",
       "        26.,  9.,  4., 18.,  0., 31., 25., 16.,  1.,  5., 26., 22., 10., 12.,\n",
       "         4., 13.,  1., 19., 21., 27., 28., 25., 24.,  6.,  8.,  7., 20., 19.,\n",
       "        27.,  0.,  2., 26., 24.,  5., 11., 32.,  3.,  1., 32., 32., 20.,  4.,\n",
       "        10., 28., 16., 28.,  6.,  7., 23., 32., 24.,  4., 32., 22.,  9., 23.,\n",
       "        26., 12.,  9.,  6., 15., 24.], device='cuda:0', dtype=torch.float16)"
      ]
     },
     "execution_count": 16,
     "metadata": {},
     "output_type": "execute_result"
    }
   ],
   "source": [
    "latencies.T"
   ]
  }
 ],
 "metadata": {
  "kernelspec": {
   "display_name": "Python 3 (ipykernel)",
   "language": "python",
   "name": "python3"
  }
 },
 "nbformat": 4,
 "nbformat_minor": 2
}
