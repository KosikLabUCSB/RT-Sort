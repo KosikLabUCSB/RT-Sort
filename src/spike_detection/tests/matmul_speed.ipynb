{
 "cells": [
  {
   "cell_type": "markdown",
   "source": [
    "## Objective\n",
    "Compare speed of matrix multiplication between numpy and pytorch.\n",
    "For DL prop signal detecting spikes"
   ],
   "metadata": {
    "collapsed": false,
    "pycharm": {
     "name": "#%% md\n"
    }
   }
  },
  {
   "cell_type": "code",
   "execution_count": 1,
   "outputs": [],
   "source": [
    "import numpy as np\n",
    "import torch\n",
    "from time import perf_counter"
   ],
   "metadata": {
    "collapsed": false,
    "pycharm": {
     "name": "#%%\n"
    }
   }
  },
  {
   "cell_type": "code",
   "execution_count": 2,
   "outputs": [],
   "source": [
    "N = int(15 * 60 * 1000 / 0.5)\n",
    "n = N // 50"
   ],
   "metadata": {
    "collapsed": false,
    "pycharm": {
     "name": "#%%\n"
    }
   }
  },
  {
   "cell_type": "code",
   "execution_count": 44,
   "outputs": [],
   "source": [
    "x = np.random.rand(1, 1020*21).astype(\"float32\")\n",
    "w = np.random.rand(1020*21, 100).astype(\"float32\")"
   ],
   "metadata": {
    "collapsed": false,
    "pycharm": {
     "name": "#%%\n"
    }
   }
  },
  {
   "cell_type": "code",
   "execution_count": 45,
   "outputs": [],
   "source": [
    "N_ITER = 5"
   ],
   "metadata": {
    "collapsed": false,
    "pycharm": {
     "name": "#%%\n"
    }
   }
  },
  {
   "cell_type": "code",
   "execution_count": 46,
   "outputs": [
    {
     "name": "stdout",
     "output_type": "stream",
     "text": [
      "Time: 1.83 ms\n"
     ]
    }
   ],
   "source": [
    "# numpy\n",
    "start = perf_counter()\n",
    "for _ in range(N_ITER):\n",
    "    np.matmul(x, w)\n",
    "end = perf_counter()\n",
    "print(f\"Time: {(end-start)/N_ITER * 1000:.2f} ms\")"
   ],
   "metadata": {
    "collapsed": false,
    "pycharm": {
     "name": "#%%\n"
    }
   }
  },
  {
   "cell_type": "code",
   "execution_count": 47,
   "outputs": [
    {
     "name": "stdout",
     "output_type": "stream",
     "text": [
      "Time: 0.22673 ms\n"
     ]
    }
   ],
   "source": [
    "# pytorch cpu\n",
    "x_torch = torch.tensor(x)\n",
    "w_torch = torch.tensor(w)\n",
    "start = perf_counter()\n",
    "for _ in range(N_ITER):\n",
    "    torch.matmul(x_torch, w_torch)\n",
    "end = perf_counter()\n",
    "print(f\"Time: {(end-start)/N_ITER * 1000:.5f} ms\")"
   ],
   "metadata": {
    "collapsed": false,
    "pycharm": {
     "name": "#%%\n"
    }
   }
  },
  {
   "cell_type": "code",
   "execution_count": 48,
   "outputs": [
    {
     "name": "stdout",
     "output_type": "stream",
     "text": [
      "Time: 0.32823 ms\n"
     ]
    }
   ],
   "source": [
    "# pytorch gpu\n",
    "x_gpu = torch.tensor(x, device=\"cuda\")\n",
    "w_gpu = torch.tensor(w, device=\"cuda\")\n",
    "torch.cuda.synchronize()\n",
    "start = perf_counter()\n",
    "for _ in range(N_ITER):\n",
    "    torch.matmul(x_torch, w_torch)\n",
    "end = perf_counter()\n",
    "print(f\"Time: {(end-start)/N_ITER * 1000:.5f} ms\")"
   ],
   "metadata": {
    "collapsed": false,
    "pycharm": {
     "name": "#%%\n"
    }
   }
  },
  {
   "cell_type": "code",
   "execution_count": null,
   "outputs": [],
   "source": [],
   "metadata": {
    "collapsed": false,
    "pycharm": {
     "name": "#%%\n"
    }
   }
  }
 ],
 "metadata": {
  "kernelspec": {
   "display_name": "Python 3",
   "language": "python",
   "name": "python3"
  },
  "language_info": {
   "codemirror_mode": {
    "name": "ipython",
    "version": 2
   },
   "file_extension": ".py",
   "mimetype": "text/x-python",
   "name": "python",
   "nbconvert_exporter": "python",
   "pygments_lexer": "ipython2",
   "version": "2.7.6"
  }
 },
 "nbformat": 4,
 "nbformat_minor": 0
}