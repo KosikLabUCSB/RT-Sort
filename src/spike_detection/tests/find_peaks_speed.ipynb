{
 "cells": [
  {
   "cell_type": "markdown",
   "metadata": {},
   "source": [
    "## Objective\n",
    "Test speed of scipy.signal.find_peaks"
   ]
  },
  {
   "cell_type": "code",
   "execution_count": 1,
   "metadata": {},
   "outputs": [],
   "source": [
    "from time import perf_counter\n",
    "\n",
    "import numpy as np\n",
    "from scipy.signal import find_peaks\n",
    "\n",
    "from tqdm import tqdm"
   ]
  },
  {
   "cell_type": "code",
   "execution_count": 2,
   "metadata": {},
   "outputs": [],
   "source": [
    "ARRAY_SIZE = 20 * 60 * 30000\n",
    "PEAK_HEIGHT = 2\n",
    "NUM_PEAKS = round(ARRAY_SIZE * 0.2)\n",
    "\n",
    "N_TRIALS = 10"
   ]
  },
  {
   "cell_type": "code",
   "execution_count": 12,
   "metadata": {},
   "outputs": [
    {
     "name": "stderr",
     "output_type": "stream",
     "text": [
      "100%|██████████| 10/10 [00:09<00:00,  1.08it/s]"
     ]
    },
    {
     "name": "stdout",
     "output_type": "stream",
     "text": [
      "Avg time: 0.00 ms\n"
     ]
    },
    {
     "name": "stderr",
     "output_type": "stream",
     "text": [
      "\n"
     ]
    }
   ],
   "source": [
    "N_TRIALS = 10\n",
    "#\n",
    "total_time = 0\n",
    "for _ in tqdm(range(N_TRIALS)):\n",
    "    array = np.random.random(ARRAY_SIZE)\n",
    "    array[np.random.choice(array.size, NUM_PEAKS)] = PEAK_HEIGHT * (np.random.random(NUM_PEAKS)+1)\n",
    "    start = perf_counter()\n",
    "    peaks = find_peaks(np.concatenate([[-np.inf], array, [-np.inf]]), height=PEAK_HEIGHT)\n",
    "    end = perf_counter()\n",
    "    total_time += end - start\n",
    "del array\n",
    "print(f\"Avg time: {total_time/1000/N_TRIALS:.2f} ms\")"
   ]
  },
  {
   "cell_type": "code",
   "execution_count": 14,
   "metadata": {},
   "outputs": [
    {
     "name": "stdout",
     "output_type": "stream",
     "text": [
      "Avg time: 0.00 ms\n"
     ]
    }
   ],
   "source": [
    "print(f\"Avg time: {total_time/1000/N_TRIALS:.2f} ms\")  # Sometimes previous cell does not print this for some reason (because other intensive code is running rn?)"
   ]
  }
 ],
 "metadata": {
  "kernelspec": {
   "display_name": "Python 3 (ipykernel)",
   "language": "python",
   "name": "python3"
  },
  "language_info": {
   "codemirror_mode": {
    "name": "ipython",
    "version": 3
   },
   "file_extension": ".py",
   "mimetype": "text/x-python",
   "name": "python",
   "nbconvert_exporter": "python",
   "pygments_lexer": "ipython3",
   "version": "3.7.16"
  },
  "orig_nbformat": 4
 },
 "nbformat": 4,
 "nbformat_minor": 2
}
